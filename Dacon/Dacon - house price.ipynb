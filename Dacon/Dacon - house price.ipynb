{
 "cells": [
  {
   "cell_type": "markdown",
   "id": "388f806a",
   "metadata": {},
   "source": [
    "- 데이콘 베이직 Basic - 집값 예측 경진대회\n",
    "- 평가 산식: NMAE\n",
    "- 해당 커리큘럼은 안수빈님의 필사를 참고 하였습니다.\n",
    "- https://www.kaggle.com/subinium/subinium-tutorial-house-prices-advanced"
   ]
  },
  {
   "cell_type": "markdown",
   "id": "808913b6",
   "metadata": {},
   "source": [
    "# Data load"
   ]
  },
  {
   "cell_type": "code",
   "execution_count": 139,
   "id": "225b4a71",
   "metadata": {
    "ExecuteTime": {
     "end_time": "2022-01-28T08:59:59.413602Z",
     "start_time": "2022-01-28T08:59:59.393614Z"
    }
   },
   "outputs": [],
   "source": [
    "import pandas as pd\n",
    "import matplotlib.pyplot as plt\n",
    "import seaborn as sns\n",
    "import numpy as np\n",
    "from sklearn.preprocessing import StandardScaler\n",
    "from scipy import stats\n",
    "from scipy.stats import norm, skew\n",
    "import warnings\n",
    "warnings.filterwarnings('ignore') # warnings 무시\n",
    "%matplotlib inline\n",
    "\n",
    "# sns Theme \n",
    "sns.set_style('darkgrid')"
   ]
  },
  {
   "cell_type": "code",
   "execution_count": 140,
   "id": "86732586",
   "metadata": {
    "ExecuteTime": {
     "end_time": "2022-01-28T08:59:59.429206Z",
     "start_time": "2022-01-28T08:59:59.415203Z"
    }
   },
   "outputs": [],
   "source": [
    "# 데이터 읽기\n",
    "train_df = pd.read_csv('train.csv')\n",
    "test_df = pd.read_csv('test.csv')"
   ]
  },
  {
   "cell_type": "code",
   "execution_count": 141,
   "id": "dc946afe",
   "metadata": {
    "ExecuteTime": {
     "end_time": "2022-01-28T08:59:59.444442Z",
     "start_time": "2022-01-28T08:59:59.431340Z"
    }
   },
   "outputs": [
    {
     "name": "stdout",
     "output_type": "stream",
     "text": [
      "(1350, 15) (1350, 14)\n"
     ]
    },
    {
     "data": {
      "text/html": [
       "<div>\n",
       "<style scoped>\n",
       "    .dataframe tbody tr th:only-of-type {\n",
       "        vertical-align: middle;\n",
       "    }\n",
       "\n",
       "    .dataframe tbody tr th {\n",
       "        vertical-align: top;\n",
       "    }\n",
       "\n",
       "    .dataframe thead th {\n",
       "        text-align: right;\n",
       "    }\n",
       "</style>\n",
       "<table border=\"1\" class=\"dataframe\">\n",
       "  <thead>\n",
       "    <tr style=\"text-align: right;\">\n",
       "      <th></th>\n",
       "      <th>id</th>\n",
       "      <th>Overall Qual</th>\n",
       "      <th>Gr Liv Area</th>\n",
       "      <th>Exter Qual</th>\n",
       "      <th>Garage Cars</th>\n",
       "      <th>Garage Area</th>\n",
       "      <th>Kitchen Qual</th>\n",
       "      <th>Total Bsmt SF</th>\n",
       "      <th>1st Flr SF</th>\n",
       "      <th>Bsmt Qual</th>\n",
       "      <th>Full Bath</th>\n",
       "      <th>Year Built</th>\n",
       "      <th>Year Remod/Add</th>\n",
       "      <th>Garage Yr Blt</th>\n",
       "      <th>target</th>\n",
       "    </tr>\n",
       "  </thead>\n",
       "  <tbody>\n",
       "    <tr>\n",
       "      <th>0</th>\n",
       "      <td>1</td>\n",
       "      <td>10</td>\n",
       "      <td>2392</td>\n",
       "      <td>Ex</td>\n",
       "      <td>3</td>\n",
       "      <td>968</td>\n",
       "      <td>Ex</td>\n",
       "      <td>2392</td>\n",
       "      <td>2392</td>\n",
       "      <td>Ex</td>\n",
       "      <td>2</td>\n",
       "      <td>2003</td>\n",
       "      <td>2003</td>\n",
       "      <td>2003</td>\n",
       "      <td>386250</td>\n",
       "    </tr>\n",
       "    <tr>\n",
       "      <th>1</th>\n",
       "      <td>2</td>\n",
       "      <td>7</td>\n",
       "      <td>1352</td>\n",
       "      <td>Gd</td>\n",
       "      <td>2</td>\n",
       "      <td>466</td>\n",
       "      <td>Gd</td>\n",
       "      <td>1352</td>\n",
       "      <td>1352</td>\n",
       "      <td>Ex</td>\n",
       "      <td>2</td>\n",
       "      <td>2006</td>\n",
       "      <td>2007</td>\n",
       "      <td>2006</td>\n",
       "      <td>194000</td>\n",
       "    </tr>\n",
       "    <tr>\n",
       "      <th>2</th>\n",
       "      <td>3</td>\n",
       "      <td>5</td>\n",
       "      <td>900</td>\n",
       "      <td>TA</td>\n",
       "      <td>1</td>\n",
       "      <td>288</td>\n",
       "      <td>TA</td>\n",
       "      <td>864</td>\n",
       "      <td>900</td>\n",
       "      <td>TA</td>\n",
       "      <td>1</td>\n",
       "      <td>1967</td>\n",
       "      <td>1967</td>\n",
       "      <td>1967</td>\n",
       "      <td>123000</td>\n",
       "    </tr>\n",
       "    <tr>\n",
       "      <th>3</th>\n",
       "      <td>4</td>\n",
       "      <td>5</td>\n",
       "      <td>1174</td>\n",
       "      <td>TA</td>\n",
       "      <td>2</td>\n",
       "      <td>576</td>\n",
       "      <td>Gd</td>\n",
       "      <td>680</td>\n",
       "      <td>680</td>\n",
       "      <td>TA</td>\n",
       "      <td>1</td>\n",
       "      <td>1900</td>\n",
       "      <td>2006</td>\n",
       "      <td>2000</td>\n",
       "      <td>135000</td>\n",
       "    </tr>\n",
       "    <tr>\n",
       "      <th>4</th>\n",
       "      <td>5</td>\n",
       "      <td>7</td>\n",
       "      <td>1958</td>\n",
       "      <td>Gd</td>\n",
       "      <td>3</td>\n",
       "      <td>936</td>\n",
       "      <td>Gd</td>\n",
       "      <td>1026</td>\n",
       "      <td>1026</td>\n",
       "      <td>Gd</td>\n",
       "      <td>2</td>\n",
       "      <td>2005</td>\n",
       "      <td>2005</td>\n",
       "      <td>2005</td>\n",
       "      <td>250000</td>\n",
       "    </tr>\n",
       "  </tbody>\n",
       "</table>\n",
       "</div>"
      ],
      "text/plain": [
       "   id  Overall Qual  Gr Liv Area Exter Qual  Garage Cars  Garage Area  \\\n",
       "0   1            10         2392         Ex            3          968   \n",
       "1   2             7         1352         Gd            2          466   \n",
       "2   3             5          900         TA            1          288   \n",
       "3   4             5         1174         TA            2          576   \n",
       "4   5             7         1958         Gd            3          936   \n",
       "\n",
       "  Kitchen Qual  Total Bsmt SF  1st Flr SF Bsmt Qual  Full Bath  Year Built  \\\n",
       "0           Ex           2392        2392        Ex          2        2003   \n",
       "1           Gd           1352        1352        Ex          2        2006   \n",
       "2           TA            864         900        TA          1        1967   \n",
       "3           Gd            680         680        TA          1        1900   \n",
       "4           Gd           1026        1026        Gd          2        2005   \n",
       "\n",
       "   Year Remod/Add  Garage Yr Blt  target  \n",
       "0            2003           2003  386250  \n",
       "1            2007           2006  194000  \n",
       "2            1967           1967  123000  \n",
       "3            2006           2000  135000  \n",
       "4            2005           2005  250000  "
      ]
     },
     "execution_count": 141,
     "metadata": {},
     "output_type": "execute_result"
    }
   ],
   "source": [
    "# 데이터체크\n",
    "print(train_df.shape, test_df.shape)\n",
    "train_df.head(5)"
   ]
  },
  {
   "cell_type": "markdown",
   "id": "32788a4e",
   "metadata": {},
   "source": [
    "target 값을 제외하면 총 13개의 피처를 가지고 있고, 그 외에는 데이터 분석과 상관 없는 id 특성도 있습니다."
   ]
  },
  {
   "cell_type": "code",
   "execution_count": 142,
   "id": "5351bce7",
   "metadata": {
    "ExecuteTime": {
     "end_time": "2022-01-28T08:59:59.459515Z",
     "start_time": "2022-01-28T08:59:59.445467Z"
    }
   },
   "outputs": [],
   "source": [
    "# Save the 'Id' comlumn\n",
    "train_ID = train_df['id']\n",
    "test_ID = test_df['id']\n",
    "\n",
    "train_df.drop('id', axis=1, inplace=True) # id 제거\n",
    "test_df.drop('id', axis=1, inplace=True) # id 제거"
   ]
  },
  {
   "cell_type": "markdown",
   "id": "853ca132",
   "metadata": {},
   "source": [
    "# Data Processing"
   ]
  },
  {
   "cell_type": "markdown",
   "id": "ce595458",
   "metadata": {},
   "source": [
    "이상치 제거는 훈련에 있어 매우 좋은 방법입니다. 이상치를 일일히 찾아 제거하지 않는 이유는 다음과 같습니다.\n"
   ]
  },
  {
   "cell_type": "markdown",
   "id": "3030a5ff",
   "metadata": {},
   "source": [
    "- 이 외에도 훈련 데이터에 이상치가 많은 수 있지만, 테스트 데이터에도 이상치가 있을 수 있습니다.\n",
    "- 그렇다면 오히려 모델에 안좋은 영향을 미칠 수 있습니다."
   ]
  },
  {
   "cell_type": "markdown",
   "id": "ffb3432b",
   "metadata": {},
   "source": [
    "이런 이상치를 모두 제거하는 대신에 후에 모델에서 이런 데이터를 제거하는 방법을 배울 것입니다."
   ]
  },
  {
   "cell_type": "markdown",
   "id": "f5001c6d",
   "metadata": {},
   "source": [
    "## Target Variable"
   ]
  },
  {
   "cell_type": "code",
   "execution_count": 143,
   "id": "1587b823",
   "metadata": {
    "ExecuteTime": {
     "end_time": "2022-01-28T08:59:59.830141Z",
     "start_time": "2022-01-28T08:59:59.460829Z"
    }
   },
   "outputs": [
    {
     "name": "stdout",
     "output_type": "stream",
     "text": [
      "186406.31259259259 78406.36921951386\n"
     ]
    },
    {
     "data": {
      "image/png": "[encoded data removed]",
      "text/plain": [
       "<Figure size 432x288 with 1 Axes>"
      ]
     },
     "metadata": {},
     "output_type": "display_data"
    },
    {
     "data": {
      "image/png": "[encoded data removed]",
      "text/plain": [
       "<Figure size 432x288 with 1 Axes>"
      ]
     },
     "metadata": {},
     "output_type": "display_data"
    }
   ],
   "source": [
    "sns.distplot(train_df['target'], fit=norm)\n",
    "\n",
    "(mu, sigma) = norm.fit(train_df['target'])\n",
    "print(mu, sigma)\n",
    "\n",
    "# 분포를 그래프에 그려봅시다.\n",
    "plt.legend(['Normal dist. ($\\mu$={:.2f} and $\\sigma$={:.2f})'.format(mu,sigma)], loc='best')\n",
    "plt.ylabel('Frequency')\n",
    "plt.title('target distribution')\n",
    "\n",
    "# QQ-plot을 그려봅시다.\n",
    "fig = plt.figure()\n",
    "res = stats.probplot(train_df['target'], plot=plt)\n",
    "plt.show()"
   ]
  },
  {
   "cell_type": "markdown",
   "id": "3f60c99b",
   "metadata": {},
   "source": [
    "분포가 오르쪽으로 치우친 것을 알 수 있습니다."
   ]
  },
  {
   "cell_type": "markdown",
   "id": "b7570e41",
   "metadata": {},
   "source": [
    "## Log-trasformation of the target variable"
   ]
  },
  {
   "cell_type": "code",
   "execution_count": 144,
   "id": "bab713be",
   "metadata": {
    "ExecuteTime": {
     "end_time": "2022-01-28T09:00:00.225298Z",
     "start_time": "2022-01-28T08:59:59.831578Z"
    }
   },
   "outputs": [
    {
     "name": "stdout",
     "output_type": "stream",
     "text": [
      "12.060059552876552 0.38401604184455446\n"
     ]
    },
    {
     "data": {
      "image/png": "[encoded data removed]",
      "text/plain": [
       "<Figure size 432x288 with 1 Axes>"
      ]
     },
     "metadata": {},
     "output_type": "display_data"
    },
    {
     "data": {
      "image/png": "[encoded data removed]",
      "text/plain": [
       "<Figure size 432x288 with 1 Axes>"
      ]
     },
     "metadata": {},
     "output_type": "display_data"
    }
   ],
   "source": [
    "train_df['target'] = np.log1p(train_df['target'])\n",
    "\n",
    "sns.distplot(train_df['target'], fit=norm)\n",
    "\n",
    "(mu, sigma) = norm.fit(train_df['target'])\n",
    "print(mu, sigma)\n",
    "\n",
    "# 분포를 그래프에 그려봅시다.\n",
    "plt.legend(['Normal dist. ($\\mu$={:.2f} and $\\sigma$={:.2f})'.format(mu,sigma)], loc='best')\n",
    "plt.ylabel('Frequency')\n",
    "plt.title('target distribution')\n",
    "\n",
    "# QQ-plot을 그려봅시다.\n",
    "fig = plt.figure()\n",
    "res = stats.probplot(train_df['target'], plot=plt)\n",
    "plt.show()"
   ]
  },
  {
   "cell_type": "markdown",
   "id": "65f670c4",
   "metadata": {},
   "source": [
    "정규 분포에 매우 근접하게 값들이 바뀐 것을 알 수 있습니다."
   ]
  },
  {
   "cell_type": "markdown",
   "id": "b0832a16",
   "metadata": {},
   "source": [
    "# Feature Engineering"
   ]
  },
  {
   "cell_type": "markdown",
   "id": "d8b39605",
   "metadata": {},
   "source": [
    "데이터를 하나로 묶어서 사용하겠습니다."
   ]
  },
  {
   "cell_type": "code",
   "execution_count": 145,
   "id": "20cc3f9e",
   "metadata": {
    "ExecuteTime": {
     "end_time": "2022-01-28T09:00:00.240473Z",
     "start_time": "2022-01-28T09:00:00.227388Z"
    }
   },
   "outputs": [
    {
     "name": "stdout",
     "output_type": "stream",
     "text": [
      "all_data size is : (2700, 13)\n"
     ]
    }
   ],
   "source": [
    "ntrain = train_df.shape[0]\n",
    "ntest = test_df.shape[0]\n",
    "\n",
    "y_train = train_df.target.values\n",
    "\n",
    "all_data = pd.concat((train_df, test_df)).reset_index(drop=True)\n",
    "all_data.drop(['target'], axis=1, inplace=True)\n",
    "print(\"all_data size is : {}\".format(all_data.shape))"
   ]
  },
  {
   "cell_type": "markdown",
   "id": "ac80efbe",
   "metadata": {},
   "source": [
    "전체 데이터 에서 null값을 확인 해 보도록 하겠습니다."
   ]
  },
  {
   "cell_type": "code",
   "execution_count": 146,
   "id": "4a534789",
   "metadata": {
    "ExecuteTime": {
     "end_time": "2022-01-28T09:00:00.255443Z",
     "start_time": "2022-01-28T09:00:00.243897Z"
    }
   },
   "outputs": [
    {
     "data": {
      "text/html": [
       "<div>\n",
       "<style scoped>\n",
       "    .dataframe tbody tr th:only-of-type {\n",
       "        vertical-align: middle;\n",
       "    }\n",
       "\n",
       "    .dataframe tbody tr th {\n",
       "        vertical-align: top;\n",
       "    }\n",
       "\n",
       "    .dataframe thead th {\n",
       "        text-align: right;\n",
       "    }\n",
       "</style>\n",
       "<table border=\"1\" class=\"dataframe\">\n",
       "  <thead>\n",
       "    <tr style=\"text-align: right;\">\n",
       "      <th></th>\n",
       "      <th>Missing Ratio</th>\n",
       "    </tr>\n",
       "  </thead>\n",
       "  <tbody>\n",
       "  </tbody>\n",
       "</table>\n",
       "</div>"
      ],
      "text/plain": [
       "Empty DataFrame\n",
       "Columns: [Missing Ratio]\n",
       "Index: []"
      ]
     },
     "execution_count": 146,
     "metadata": {},
     "output_type": "execute_result"
    }
   ],
   "source": [
    "all_data_na = (all_data.isnull().sum() / len(all_data)) * 100\n",
    "all_data_na = all_data_na.drop(all_data_na[all_data_na == 0].index).sort_values(ascending=False)[:30]\n",
    "\n",
    "missing_data = pd.DataFrame({\"Missing Ratio\" : all_data_na})\n",
    "missing_data.head(20)"
   ]
  },
  {
   "cell_type": "markdown",
   "id": "2a435461",
   "metadata": {},
   "source": [
    "결측치가 존재하지 않습니다."
   ]
  },
  {
   "cell_type": "markdown",
   "id": "1ec58e96",
   "metadata": {},
   "source": [
    "수치형 값들 중 범주형인 특성들을 변환합니다."
   ]
  },
  {
   "cell_type": "code",
   "execution_count": 147,
   "id": "71b2708a",
   "metadata": {
    "ExecuteTime": {
     "end_time": "2022-01-28T09:00:00.270436Z",
     "start_time": "2022-01-28T09:00:00.256982Z"
    }
   },
   "outputs": [
    {
     "name": "stdout",
     "output_type": "stream",
     "text": [
      "카테고리형 데이터는 다음과 같습니다. ['Exter Qual', 'Kitchen Qual', 'Bsmt Qual']\n"
     ]
    }
   ],
   "source": [
    "categorical_feature = train_df.columns[train_df.dtypes == 'object']\n",
    "print(\"카테고리형 데이터는 다음과 같습니다.\", list(categorical_feature))"
   ]
  },
  {
   "cell_type": "code",
   "execution_count": 148,
   "id": "7e03b51c",
   "metadata": {
    "ExecuteTime": {
     "end_time": "2022-01-28T09:00:00.285880Z",
     "start_time": "2022-01-28T09:00:00.271797Z"
    }
   },
   "outputs": [],
   "source": [
    "all_data['Exter Qual'] = all_data['Exter Qual'].apply(str)\n",
    "all_data['Kitchen Qual'] = all_data['Kitchen Qual'].apply(str)\n",
    "all_data['Bsmt Qual'] = all_data['Bsmt Qual'].apply(str)"
   ]
  },
  {
   "cell_type": "markdown",
   "id": "166cacc2",
   "metadata": {},
   "source": [
    "범주형 데이터를 label encoding으로 변환합니다."
   ]
  },
  {
   "cell_type": "code",
   "execution_count": 149,
   "id": "857e9920",
   "metadata": {
    "ExecuteTime": {
     "end_time": "2022-01-28T09:00:00.301209Z",
     "start_time": "2022-01-28T09:00:00.286881Z"
    }
   },
   "outputs": [
    {
     "data": {
      "text/plain": [
       "Index(['Overall Qual', 'Gr Liv Area', 'Exter Qual', 'Garage Cars',\n",
       "       'Garage Area', 'Kitchen Qual', 'Total Bsmt SF', '1st Flr SF',\n",
       "       'Bsmt Qual', 'Full Bath', 'Year Built', 'Year Remod/Add',\n",
       "       'Garage Yr Blt'],\n",
       "      dtype='object')"
      ]
     },
     "execution_count": 149,
     "metadata": {},
     "output_type": "execute_result"
    }
   ],
   "source": [
    "all_data.columns"
   ]
  },
  {
   "cell_type": "code",
   "execution_count": 150,
   "id": "a6151e87",
   "metadata": {
    "ExecuteTime": {
     "end_time": "2022-01-28T09:00:00.331777Z",
     "start_time": "2022-01-28T09:00:00.302227Z"
    }
   },
   "outputs": [
    {
     "name": "stdout",
     "output_type": "stream",
     "text": [
      "Shape all_data: (2700, 13)\n"
     ]
    }
   ],
   "source": [
    "from sklearn.preprocessing import LabelEncoder\n",
    "\n",
    "cols = ('Overall Qual', 'Gr Liv Area', 'Exter Qual', 'Garage Cars',\n",
    "       'Garage Area', 'Kitchen Qual', 'Total Bsmt SF', '1st Flr SF',\n",
    "       'Bsmt Qual', 'Full Bath', 'Year Built', 'Year Remod/Add',\n",
    "       'Garage Yr Blt')\n",
    "\n",
    "# process columns, apply LabelEncoder to categorical features\n",
    "for c in cols:\n",
    "    lbl = LabelEncoder() \n",
    "    lbl.fit(list(all_data[c].values)) \n",
    "    all_data[c] = lbl.transform(list(all_data[c].values))\n",
    "\n",
    "# shape        \n",
    "print('Shape all_data: {}'.format(all_data.shape))"
   ]
  },
  {
   "cell_type": "markdown",
   "id": "aff169fa",
   "metadata": {},
   "source": [
    "## Adding one more important feature"
   ]
  },
  {
   "cell_type": "markdown",
   "id": "1d985af4",
   "metadata": {},
   "source": [
    "참고:https://dacon.io/competitions/official/235869/codeshare/4304?page=1&dtype=recent"
   ]
  },
  {
   "cell_type": "markdown",
   "id": "5c3a31b2",
   "metadata": {},
   "source": [
    "- 2층 면적 2nd flr SF= 지상층 생활 면적 - 1층 면적\n",
    "\n",
    "- 2층 여부 2nd flr= 1(지상층 생활 면적 - 1층 면적 > 0), 0(지상층 생활 면적 - 1층 면적 < 0)\n",
    "\n",
    "- 전체 면적 Total SF = 지상층 생활 면적 + 지하실 면적 + 차고 면적\n",
    "\n",
    "- 차고 밖/안 Garage In/Out = 1(지상층 생활 면적 != 1층 면적), 0(지상층 생활 면적 == 1층 면적)\n",
    "\n",
    "- 리모델링 연도 차 Year Gap Remod = 리모델링 연도 - 완공 연도\n",
    "\n",
    "- 차고 자리당 면적 Car Area= 차고 면적/차고 자리 개수\n",
    "\n",
    "- 품질 합 Sum Qual = (전반적 + 부억 + 재료 + 지하실) 품질"
   ]
  },
  {
   "cell_type": "code",
   "execution_count": 151,
   "id": "88118983",
   "metadata": {
    "ExecuteTime": {
     "end_time": "2022-01-28T09:00:00.377717Z",
     "start_time": "2022-01-28T09:00:00.333195Z"
    }
   },
   "outputs": [],
   "source": [
    "def feature_eng(data_):\n",
    "  data = all_data.copy()\n",
    "  data['Year Gap Remod'] = data['Year Remod/Add'] - data['Year Built']\n",
    "  data['Car Area'] = data['Garage Area']/data['Garage Cars']\n",
    "  data['2nd flr SF'] = data['Gr Liv Area'] - data['1st Flr SF']\n",
    "  data['2nd flr'] = data['2nd flr SF'].apply(lambda x : 1 if x > 0 else 0)\n",
    "  data['Total SF'] = data[['Gr Liv Area',\"Garage Area\", \"Total Bsmt SF\"]].sum(axis=1)\n",
    "  data['Sum Qual'] = data[[\"Exter Qual\", \"Kitchen Qual\", \"Overall Qual\"]].sum(axis=1)\n",
    "  data['Garage InOut'] = data.apply(lambda x : 1 if x['Gr Liv Area'] != x['1st Flr SF'] else 0, axis=1)\n",
    "  return data\n",
    "\n",
    "all_data = feature_eng(all_data)"
   ]
  },
  {
   "cell_type": "code",
   "execution_count": 152,
   "id": "61843601",
   "metadata": {
    "ExecuteTime": {
     "end_time": "2022-01-28T09:00:00.392976Z",
     "start_time": "2022-01-28T09:00:00.379221Z"
    }
   },
   "outputs": [
    {
     "name": "stdout",
     "output_type": "stream",
     "text": [
      "<class 'pandas.core.frame.DataFrame'>\n",
      "RangeIndex: 2700 entries, 0 to 2699\n",
      "Data columns (total 20 columns):\n",
      " #   Column          Non-Null Count  Dtype  \n",
      "---  ------          --------------  -----  \n",
      " 0   Overall Qual    2700 non-null   int64  \n",
      " 1   Gr Liv Area     2700 non-null   int64  \n",
      " 2   Exter Qual      2700 non-null   int32  \n",
      " 3   Garage Cars     2700 non-null   int64  \n",
      " 4   Garage Area     2700 non-null   int64  \n",
      " 5   Kitchen Qual    2700 non-null   int32  \n",
      " 6   Total Bsmt SF   2700 non-null   int64  \n",
      " 7   1st Flr SF      2700 non-null   int64  \n",
      " 8   Bsmt Qual       2700 non-null   int32  \n",
      " 9   Full Bath       2700 non-null   int64  \n",
      " 10  Year Built      2700 non-null   int64  \n",
      " 11  Year Remod/Add  2700 non-null   int64  \n",
      " 12  Garage Yr Blt   2700 non-null   int64  \n",
      " 13  Year Gap Remod  2700 non-null   int64  \n",
      " 14  Car Area        2699 non-null   float64\n",
      " 15  2nd flr SF      2700 non-null   int64  \n",
      " 16  2nd flr         2700 non-null   int64  \n",
      " 17  Total SF        2700 non-null   int64  \n",
      " 18  Sum Qual        2700 non-null   int64  \n",
      " 19  Garage InOut    2700 non-null   int64  \n",
      "dtypes: float64(1), int32(3), int64(16)\n",
      "memory usage: 390.4 KB\n"
     ]
    }
   ],
   "source": [
    "all_data.info()"
   ]
  },
  {
   "cell_type": "markdown",
   "id": "bc644c0a",
   "metadata": {},
   "source": [
    "## Skewed feature"
   ]
  },
  {
   "cell_type": "code",
   "execution_count": 153,
   "id": "34c5235f",
   "metadata": {
    "ExecuteTime": {
     "end_time": "2022-01-28T09:00:00.408602Z",
     "start_time": "2022-01-28T09:00:00.394445Z"
    }
   },
   "outputs": [],
   "source": [
    "numeric_feats = all_data.dtypes[all_data.dtypes != \"object\"].index"
   ]
  },
  {
   "cell_type": "code",
   "execution_count": 154,
   "id": "dc8e0d46",
   "metadata": {
    "ExecuteTime": {
     "end_time": "2022-01-28T09:00:00.438803Z",
     "start_time": "2022-01-28T09:00:00.410623Z"
    }
   },
   "outputs": [
    {
     "name": "stdout",
     "output_type": "stream",
     "text": [
      "\n",
      "Skew in numerical features: \n",
      "\n"
     ]
    },
    {
     "data": {
      "text/html": [
       "<div>\n",
       "<style scoped>\n",
       "    .dataframe tbody tr th:only-of-type {\n",
       "        vertical-align: middle;\n",
       "    }\n",
       "\n",
       "    .dataframe tbody tr th {\n",
       "        vertical-align: top;\n",
       "    }\n",
       "\n",
       "    .dataframe thead th {\n",
       "        text-align: right;\n",
       "    }\n",
       "</style>\n",
       "<table border=\"1\" class=\"dataframe\">\n",
       "  <thead>\n",
       "    <tr style=\"text-align: right;\">\n",
       "      <th></th>\n",
       "      <th>Skew</th>\n",
       "    </tr>\n",
       "  </thead>\n",
       "  <tbody>\n",
       "    <tr>\n",
       "      <th>Year Gap Remod</th>\n",
       "      <td>2.089789</td>\n",
       "    </tr>\n",
       "    <tr>\n",
       "      <th>2nd flr SF</th>\n",
       "      <td>0.555686</td>\n",
       "    </tr>\n",
       "    <tr>\n",
       "      <th>Total Bsmt SF</th>\n",
       "      <td>0.473151</td>\n",
       "    </tr>\n",
       "    <tr>\n",
       "      <th>Garage Area</th>\n",
       "      <td>0.449938</td>\n",
       "    </tr>\n",
       "    <tr>\n",
       "      <th>Total SF</th>\n",
       "      <td>0.430268</td>\n",
       "    </tr>\n",
       "    <tr>\n",
       "      <th>1st Flr SF</th>\n",
       "      <td>0.382317</td>\n",
       "    </tr>\n",
       "    <tr>\n",
       "      <th>Overall Qual</th>\n",
       "      <td>0.294508</td>\n",
       "    </tr>\n",
       "    <tr>\n",
       "      <th>Garage Cars</th>\n",
       "      <td>0.287996</td>\n",
       "    </tr>\n",
       "    <tr>\n",
       "      <th>Gr Liv Area</th>\n",
       "      <td>0.285609</td>\n",
       "    </tr>\n",
       "    <tr>\n",
       "      <th>2nd flr</th>\n",
       "      <td>0.205521</td>\n",
       "    </tr>\n",
       "  </tbody>\n",
       "</table>\n",
       "</div>"
      ],
      "text/plain": [
       "                    Skew\n",
       "Year Gap Remod  2.089789\n",
       "2nd flr SF      0.555686\n",
       "Total Bsmt SF   0.473151\n",
       "Garage Area     0.449938\n",
       "Total SF        0.430268\n",
       "1st Flr SF      0.382317\n",
       "Overall Qual    0.294508\n",
       "Garage Cars     0.287996\n",
       "Gr Liv Area     0.285609\n",
       "2nd flr         0.205521"
      ]
     },
     "execution_count": 154,
     "metadata": {},
     "output_type": "execute_result"
    }
   ],
   "source": [
    "# 수치형 데이터에서 skewness 체크\n",
    "skewed_feats = all_data[numeric_feats].apply(lambda x : skew(x.dropna())).sort_values(ascending=False)\n",
    "\n",
    "print(\"\\nSkew in numerical features: \\n\")\n",
    "skewness = pd.DataFrame({'Skew' :skewed_feats})\n",
    "skewness.head(10)"
   ]
  },
  {
   "cell_type": "markdown",
   "id": "f6b3b906",
   "metadata": {},
   "source": [
    "## Box Cox Transformation of (highly) skewed features"
   ]
  },
  {
   "cell_type": "markdown",
   "id": "4b4121f0",
   "metadata": {},
   "source": [
    "Box-Cox Transformation은 정규 분포가 아닌 데이터를 정규 분포 형태로 변환하는 방법 중 하나입니다."
   ]
  },
  {
   "cell_type": "code",
   "execution_count": 155,
   "id": "155120a5",
   "metadata": {
    "ExecuteTime": {
     "end_time": "2022-01-28T09:00:00.454009Z",
     "start_time": "2022-01-28T09:00:00.439818Z"
    }
   },
   "outputs": [
    {
     "name": "stdout",
     "output_type": "stream",
     "text": [
      "There are 20 skewed numerical features to Box Cox transform\n"
     ]
    }
   ],
   "source": [
    "skewness = skewness[abs(skewness) > 0.75]\n",
    "print(\"There are {} skewed numerical features to Box Cox transform\".format(skewness.shape[0]))\n",
    "\n",
    "from scipy.special import boxcox1p\n",
    "skewed_features = skewness.index\n",
    "lam = 0.15\n",
    "for feat in skewed_features:\n",
    "    all_data[feat] = boxcox1p(all_data[feat], lam)"
   ]
  },
  {
   "cell_type": "markdown",
   "id": "7fc62f47",
   "metadata": {},
   "source": [
    "## Getting dummy categorical features"
   ]
  },
  {
   "cell_type": "markdown",
   "id": "bb8ac213",
   "metadata": {},
   "source": [
    "범주형 데이터를 get_dummies를 이용하여 변환합니다. 그리고 다시 train_df와 test_df로 나누겠습니다."
   ]
  },
  {
   "cell_type": "code",
   "execution_count": 156,
   "id": "4a700cef",
   "metadata": {
    "ExecuteTime": {
     "end_time": "2022-01-28T09:00:00.469131Z",
     "start_time": "2022-01-28T09:00:00.455094Z"
    }
   },
   "outputs": [
    {
     "name": "stdout",
     "output_type": "stream",
     "text": [
      "(2700, 20)\n"
     ]
    }
   ],
   "source": [
    "all_data = pd.get_dummies(all_data)\n",
    "print(all_data.shape)\n",
    "\n",
    "train_df = all_data[:ntrain]\n",
    "test_df = all_data[ntrain:]"
   ]
  },
  {
   "cell_type": "code",
   "execution_count": 157,
   "id": "45659642",
   "metadata": {
    "ExecuteTime": {
     "end_time": "2022-01-28T09:00:00.484069Z",
     "start_time": "2022-01-28T09:00:00.470097Z"
    }
   },
   "outputs": [
    {
     "name": "stdout",
     "output_type": "stream",
     "text": [
      "<class 'pandas.core.frame.DataFrame'>\n",
      "RangeIndex: 2700 entries, 0 to 2699\n",
      "Data columns (total 20 columns):\n",
      " #   Column          Non-Null Count  Dtype  \n",
      "---  ------          --------------  -----  \n",
      " 0   Overall Qual    2700 non-null   float64\n",
      " 1   Gr Liv Area     2700 non-null   float64\n",
      " 2   Exter Qual      2700 non-null   float64\n",
      " 3   Garage Cars     2700 non-null   float64\n",
      " 4   Garage Area     2700 non-null   float64\n",
      " 5   Kitchen Qual    2700 non-null   float64\n",
      " 6   Total Bsmt SF   2700 non-null   float64\n",
      " 7   1st Flr SF      2700 non-null   float64\n",
      " 8   Bsmt Qual       2700 non-null   float64\n",
      " 9   Full Bath       2700 non-null   float64\n",
      " 10  Year Built      2700 non-null   float64\n",
      " 11  Year Remod/Add  2700 non-null   float64\n",
      " 12  Garage Yr Blt   2700 non-null   float64\n",
      " 13  Year Gap Remod  218 non-null    float64\n",
      " 14  Car Area        2699 non-null   float64\n",
      " 15  2nd flr SF      1214 non-null   float64\n",
      " 16  2nd flr         2700 non-null   float64\n",
      " 17  Total SF        2700 non-null   float64\n",
      " 18  Sum Qual        2700 non-null   float64\n",
      " 19  Garage InOut    2700 non-null   float64\n",
      "dtypes: float64(20)\n",
      "memory usage: 422.0 KB\n"
     ]
    }
   ],
   "source": [
    "all_data.info()"
   ]
  },
  {
   "cell_type": "markdown",
   "id": "5118b091",
   "metadata": {},
   "source": [
    "## Inputing missing values\n"
   ]
  },
  {
   "cell_type": "code",
   "execution_count": 158,
   "id": "c602167d",
   "metadata": {
    "ExecuteTime": {
     "end_time": "2022-01-28T09:00:00.499087Z",
     "start_time": "2022-01-28T09:00:00.485101Z"
    }
   },
   "outputs": [
    {
     "data": {
      "text/html": [
       "<div>\n",
       "<style scoped>\n",
       "    .dataframe tbody tr th:only-of-type {\n",
       "        vertical-align: middle;\n",
       "    }\n",
       "\n",
       "    .dataframe tbody tr th {\n",
       "        vertical-align: top;\n",
       "    }\n",
       "\n",
       "    .dataframe thead th {\n",
       "        text-align: right;\n",
       "    }\n",
       "</style>\n",
       "<table border=\"1\" class=\"dataframe\">\n",
       "  <thead>\n",
       "    <tr style=\"text-align: right;\">\n",
       "      <th></th>\n",
       "      <th>Missing Ratio</th>\n",
       "    </tr>\n",
       "  </thead>\n",
       "  <tbody>\n",
       "    <tr>\n",
       "      <th>Year Gap Remod</th>\n",
       "      <td>91.925926</td>\n",
       "    </tr>\n",
       "    <tr>\n",
       "      <th>2nd flr SF</th>\n",
       "      <td>55.037037</td>\n",
       "    </tr>\n",
       "    <tr>\n",
       "      <th>Car Area</th>\n",
       "      <td>0.037037</td>\n",
       "    </tr>\n",
       "  </tbody>\n",
       "</table>\n",
       "</div>"
      ],
      "text/plain": [
       "                Missing Ratio\n",
       "Year Gap Remod      91.925926\n",
       "2nd flr SF          55.037037\n",
       "Car Area             0.037037"
      ]
     },
     "execution_count": 158,
     "metadata": {},
     "output_type": "execute_result"
    }
   ],
   "source": [
    "all_data_na = (all_data.isnull().sum() / len(all_data)) * 100\n",
    "all_data_na = all_data_na.drop(all_data_na[all_data_na == 0].index).sort_values(ascending=False)[:30]\n",
    "\n",
    "missing_data = pd.DataFrame({\"Missing Ratio\" : all_data_na})\n",
    "missing_data.head(20)"
   ]
  },
  {
   "cell_type": "markdown",
   "id": "05dd8c9c",
   "metadata": {},
   "source": [
    "리모델링 연도 차, 2층 면적, 차고 자리당 면적에서 결측치가 발생 되었습니다."
   ]
  },
  {
   "cell_type": "code",
   "execution_count": 159,
   "id": "166a4ac3",
   "metadata": {
    "ExecuteTime": {
     "end_time": "2022-01-28T09:00:00.514088Z",
     "start_time": "2022-01-28T09:00:00.500034Z"
    }
   },
   "outputs": [],
   "source": [
    "all_data.drop(['Year Gap Remod'], axis=1, inplace=True)\n",
    "all_data.drop(['2nd flr SF'], axis=1, inplace=True)\n",
    "all_data.drop(['Car Area'], axis=1, inplace=True)"
   ]
  },
  {
   "cell_type": "markdown",
   "id": "635152b2",
   "metadata": {},
   "source": [
    "3개 컬럼을 확인 해본결과 리모델링 연도 차, 2층 면적은 결측치 개수가 매우 많아서 삭제하기로 하였습니다."
   ]
  },
  {
   "cell_type": "markdown",
   "id": "30f93a3d",
   "metadata": {},
   "source": [
    "또한 Car Area 컬럼에는 inf라는 값이 상당히 많이 있어서 이것또한 삭제 하였습니다."
   ]
  },
  {
   "cell_type": "code",
   "execution_count": 160,
   "id": "fc0a7764",
   "metadata": {
    "ExecuteTime": {
     "end_time": "2022-01-28T09:00:00.529129Z",
     "start_time": "2022-01-28T09:00:00.516018Z"
    }
   },
   "outputs": [
    {
     "data": {
      "text/html": [
       "<div>\n",
       "<style scoped>\n",
       "    .dataframe tbody tr th:only-of-type {\n",
       "        vertical-align: middle;\n",
       "    }\n",
       "\n",
       "    .dataframe tbody tr th {\n",
       "        vertical-align: top;\n",
       "    }\n",
       "\n",
       "    .dataframe thead th {\n",
       "        text-align: right;\n",
       "    }\n",
       "</style>\n",
       "<table border=\"1\" class=\"dataframe\">\n",
       "  <thead>\n",
       "    <tr style=\"text-align: right;\">\n",
       "      <th></th>\n",
       "      <th>Missing Ratio</th>\n",
       "    </tr>\n",
       "  </thead>\n",
       "  <tbody>\n",
       "  </tbody>\n",
       "</table>\n",
       "</div>"
      ],
      "text/plain": [
       "Empty DataFrame\n",
       "Columns: [Missing Ratio]\n",
       "Index: []"
      ]
     },
     "execution_count": 160,
     "metadata": {},
     "output_type": "execute_result"
    }
   ],
   "source": [
    "all_data_na = (all_data.isnull().sum() / len(all_data)) * 100\n",
    "all_data_na = all_data_na.drop(all_data_na[all_data_na == 0].index).sort_values(ascending=False)[:30]\n",
    "\n",
    "missing_data = pd.DataFrame({\"Missing Ratio\" : all_data_na})\n",
    "missing_data.head(20)"
   ]
  },
  {
   "cell_type": "code",
   "execution_count": 161,
   "id": "7a43d63a",
   "metadata": {
    "ExecuteTime": {
     "end_time": "2022-01-28T09:00:00.543851Z",
     "start_time": "2022-01-28T09:00:00.531434Z"
    }
   },
   "outputs": [],
   "source": [
    "train_df = all_data[:ntrain]\n",
    "test_df = all_data[ntrain:]"
   ]
  },
  {
   "cell_type": "markdown",
   "id": "44fae31f",
   "metadata": {},
   "source": [
    "# Modeling"
   ]
  },
  {
   "cell_type": "code",
   "execution_count": 162,
   "id": "1c728f3a",
   "metadata": {
    "ExecuteTime": {
     "end_time": "2022-01-28T09:00:00.559425Z",
     "start_time": "2022-01-28T09:00:00.546266Z"
    }
   },
   "outputs": [],
   "source": [
    "from sklearn.linear_model import ElasticNet, Lasso,  BayesianRidge, LassoLarsIC\n",
    "from sklearn.ensemble import RandomForestRegressor,  GradientBoostingRegressor\n",
    "from sklearn.kernel_ridge import KernelRidge\n",
    "from sklearn.pipeline import make_pipeline\n",
    "from sklearn.preprocessing import RobustScaler\n",
    "from sklearn.base import BaseEstimator, TransformerMixin, RegressorMixin, clone\n",
    "from sklearn.model_selection import KFold, cross_val_score, train_test_split\n",
    "from sklearn.metrics import mean_absolute_error\n",
    "import xgboost as xgb\n",
    "import lightgbm as lgb"
   ]
  },
  {
   "cell_type": "code",
   "execution_count": 163,
   "id": "0b271c06",
   "metadata": {
    "ExecuteTime": {
     "end_time": "2022-01-28T09:00:00.574506Z",
     "start_time": "2022-01-28T09:00:00.561437Z"
    }
   },
   "outputs": [],
   "source": [
    "# Validation function\n",
    "n_folds = 5\n",
    "\n",
    "def nmale_cv(model):\n",
    "    kf = KFold(n_folds, shuffle=True, random_state=42).get_n_splits(train_df.values)\n",
    "    nmae = np.mean(-cross_val_score(model, train_df.values, y_train, scoring=\"neg_mean_absolute_error\", cv = kf))\n",
    "    return (nmae)"
   ]
  },
  {
   "cell_type": "markdown",
   "id": "cf54bc2d",
   "metadata": {},
   "source": [
    "## LASSO Regression"
   ]
  },
  {
   "cell_type": "markdown",
   "id": "4db235e0",
   "metadata": {},
   "source": [
    "- 이 모델은 이상치에 매우 민감합니다. 그렇기에 이런 이상치를 좀 더 규제하기 위해 pipeline에 RobustScaler() 메서드를 이용합니다."
   ]
  },
  {
   "cell_type": "markdown",
   "id": "e68ff644",
   "metadata": {},
   "source": [
    "## Elastic Net Regression"
   ]
  },
  {
   "cell_type": "markdown",
   "id": "4a16740d",
   "metadata": {},
   "source": [
    "이 모델 또한 이상치를 위해 똑같이 합니다."
   ]
  },
  {
   "cell_type": "code",
   "execution_count": 164,
   "id": "ce5169bd",
   "metadata": {
    "ExecuteTime": {
     "end_time": "2022-01-28T09:00:00.589549Z",
     "start_time": "2022-01-28T09:00:00.576072Z"
    }
   },
   "outputs": [],
   "source": [
    "lasso = make_pipeline(RobustScaler(), Lasso(alpha=0.0005, random_state=1))\n",
    "ENet = make_pipeline(RobustScaler(), ElasticNet(alpha=0.0005, l1_ratio=.9, random_state=3))"
   ]
  },
  {
   "cell_type": "markdown",
   "id": "e0a4512c",
   "metadata": {},
   "source": [
    "## Kernel Ridge Regression"
   ]
  },
  {
   "cell_type": "code",
   "execution_count": 165,
   "id": "92215d85",
   "metadata": {
    "ExecuteTime": {
     "end_time": "2022-01-28T09:00:00.605119Z",
     "start_time": "2022-01-28T09:00:00.591478Z"
    }
   },
   "outputs": [],
   "source": [
    "KRR = KernelRidge(alpha=0.6, kernel='polynomial', degree=2, coef0=2.5)"
   ]
  },
  {
   "cell_type": "markdown",
   "id": "2646dbb3",
   "metadata": {},
   "source": [
    "## Gradient Boosting Regression"
   ]
  },
  {
   "cell_type": "markdown",
   "id": "5e3a84c9",
   "metadata": {},
   "source": [
    "huber 손실 함수로 이상치를 관리합니다. 이 손실함수는 다른 손실함수에 비해 이상치에 대해 민감하지 않습니다."
   ]
  },
  {
   "cell_type": "code",
   "execution_count": 166,
   "id": "b012ea59",
   "metadata": {
    "ExecuteTime": {
     "end_time": "2022-01-28T09:00:00.620190Z",
     "start_time": "2022-01-28T09:00:00.607119Z"
    }
   },
   "outputs": [],
   "source": [
    "GBoost = GradientBoostingRegressor(n_estimators=3000, learning_rate=0.05, max_depth=4,\n",
    "                                   max_features='sqrt', min_samples_leaf=15, min_samples_split=10,\n",
    "                                   loss='huber', random_state=5)"
   ]
  },
  {
   "cell_type": "markdown",
   "id": "0efb70af",
   "metadata": {},
   "source": [
    "## XGBoost"
   ]
  },
  {
   "cell_type": "markdown",
   "id": "b36fe67a",
   "metadata": {},
   "source": [
    "각 매개변수, 즉 하이퍼 파라미터 설정은 bayesian optimization을 사용했다고 하였습니다."
   ]
  },
  {
   "cell_type": "code",
   "execution_count": 167,
   "id": "a4639125",
   "metadata": {
    "ExecuteTime": {
     "end_time": "2022-01-28T09:00:00.635263Z",
     "start_time": "2022-01-28T09:00:00.622119Z"
    }
   },
   "outputs": [],
   "source": [
    "model_xgb = xgb.XGBRegressor(colsample_bytree=0.4603, gamma=0.0468, \n",
    "                             learning_rate=0.05, max_depth=3, \n",
    "                             min_child_weight=1.7817, n_estimators=2200,\n",
    "                             reg_alpha=0.4640, reg_lambda=0.8571,\n",
    "                             subsample=0.5213, silent=1,\n",
    "                             random_state =7, nthread = -1)"
   ]
  },
  {
   "cell_type": "markdown",
   "id": "3fbbe0e7",
   "metadata": {},
   "source": [
    "## LightGBM"
   ]
  },
  {
   "cell_type": "code",
   "execution_count": 168,
   "id": "8a26a7ea",
   "metadata": {
    "ExecuteTime": {
     "end_time": "2022-01-28T09:00:00.650910Z",
     "start_time": "2022-01-28T09:00:00.636778Z"
    }
   },
   "outputs": [],
   "source": [
    "model_lgb = lgb.LGBMRegressor(objective='regression',num_leaves=5,\n",
    "                              learning_rate=0.05, n_estimators=720,\n",
    "                              max_bin = 55, bagging_fraction = 0.8,\n",
    "                              bagging_freq = 5, feature_fraction = 0.2319,\n",
    "                              feature_fraction_seed=9, bagging_seed=9,\n",
    "                              min_data_in_leaf =6, min_sum_hessian_in_leaf = 11)"
   ]
  },
  {
   "cell_type": "markdown",
   "id": "bd944298",
   "metadata": {},
   "source": [
    "이제 이 모델들을 이용해 교차 검증을 통해 score을 구해봅시다."
   ]
  },
  {
   "cell_type": "code",
   "execution_count": 169,
   "id": "34340f67",
   "metadata": {
    "ExecuteTime": {
     "end_time": "2022-01-28T09:00:00.696826Z",
     "start_time": "2022-01-28T09:00:00.652917Z"
    }
   },
   "outputs": [
    {
     "name": "stdout",
     "output_type": "stream",
     "text": [
      "\n",
      "Lasso score: 0.1074 (0.0000)\n",
      "\n"
     ]
    }
   ],
   "source": [
    "score = nmale_cv(lasso)\n",
    "print(\"\\nLasso score: {:.4f} ({:.4f})\\n\".format(score.mean(), score.std()))"
   ]
  },
  {
   "cell_type": "code",
   "execution_count": 170,
   "id": "c485ca29",
   "metadata": {
    "ExecuteTime": {
     "end_time": "2022-01-28T09:00:00.743195Z",
     "start_time": "2022-01-28T09:00:00.698330Z"
    }
   },
   "outputs": [
    {
     "name": "stdout",
     "output_type": "stream",
     "text": [
      "ElasticNet score: 0.1074 (0.0000)\n",
      "\n"
     ]
    }
   ],
   "source": [
    "score = nmale_cv(ENet)\n",
    "print(\"ElasticNet score: {:.4f} ({:.4f})\\n\".format(score.mean(), score.std()))"
   ]
  },
  {
   "cell_type": "code",
   "execution_count": 171,
   "id": "c5a2ff63",
   "metadata": {
    "ExecuteTime": {
     "end_time": "2022-01-28T09:00:00.880049Z",
     "start_time": "2022-01-28T09:00:00.744201Z"
    }
   },
   "outputs": [
    {
     "name": "stdout",
     "output_type": "stream",
     "text": [
      "Kernel Ridge score: 0.1013 (0.0000)\n",
      "\n"
     ]
    }
   ],
   "source": [
    "score = nmale_cv(KRR)\n",
    "print(\"Kernel Ridge score: {:.4f} ({:.4f})\\n\".format(score.mean(), score.std()))"
   ]
  },
  {
   "cell_type": "code",
   "execution_count": 172,
   "id": "6a9d5bcd",
   "metadata": {
    "ExecuteTime": {
     "end_time": "2022-01-28T09:00:37.160895Z",
     "start_time": "2022-01-28T09:00:00.881503Z"
    }
   },
   "outputs": [
    {
     "name": "stdout",
     "output_type": "stream",
     "text": [
      "Gradient Boosting score: 0.1005 (0.0000)\n",
      "\n"
     ]
    }
   ],
   "source": [
    "score = nmale_cv(GBoost)\n",
    "print(\"Gradient Boosting score: {:.4f} ({:.4f})\\n\".format(score.mean(), score.std()))"
   ]
  },
  {
   "cell_type": "code",
   "execution_count": 173,
   "id": "9f788930",
   "metadata": {
    "ExecuteTime": {
     "end_time": "2022-01-28T09:00:42.211879Z",
     "start_time": "2022-01-28T09:00:37.162637Z"
    }
   },
   "outputs": [
    {
     "name": "stdout",
     "output_type": "stream",
     "text": [
      "[18:00:37] WARNING: D:\\bld\\xgboost-split_1634712635879\\work\\src\\learner.cc:576: \n",
      "Parameters: { \"silent\" } might not be used.\n",
      "\n",
      "  This could be a false alarm, with some parameters getting used by language bindings but\n",
      "  then being mistakenly passed down to XGBoost core, or some parameter actually being used\n",
      "  but getting flagged wrongly here. Please open an issue if you find any such cases.\n",
      "\n",
      "\n",
      "[18:00:38] WARNING: D:\\bld\\xgboost-split_1634712635879\\work\\src\\learner.cc:576: \n",
      "Parameters: { \"silent\" } might not be used.\n",
      "\n",
      "  This could be a false alarm, with some parameters getting used by language bindings but\n",
      "  then being mistakenly passed down to XGBoost core, or some parameter actually being used\n",
      "  but getting flagged wrongly here. Please open an issue if you find any such cases.\n",
      "\n",
      "\n",
      "[18:00:39] WARNING: D:\\bld\\xgboost-split_1634712635879\\work\\src\\learner.cc:576: \n",
      "Parameters: { \"silent\" } might not be used.\n",
      "\n",
      "  This could be a false alarm, with some parameters getting used by language bindings but\n",
      "  then being mistakenly passed down to XGBoost core, or some parameter actually being used\n",
      "  but getting flagged wrongly here. Please open an issue if you find any such cases.\n",
      "\n",
      "\n",
      "[18:00:40] WARNING: D:\\bld\\xgboost-split_1634712635879\\work\\src\\learner.cc:576: \n",
      "Parameters: { \"silent\" } might not be used.\n",
      "\n",
      "  This could be a false alarm, with some parameters getting used by language bindings but\n",
      "  then being mistakenly passed down to XGBoost core, or some parameter actually being used\n",
      "  but getting flagged wrongly here. Please open an issue if you find any such cases.\n",
      "\n",
      "\n",
      "[18:00:41] WARNING: D:\\bld\\xgboost-split_1634712635879\\work\\src\\learner.cc:576: \n",
      "Parameters: { \"silent\" } might not be used.\n",
      "\n",
      "  This could be a false alarm, with some parameters getting used by language bindings but\n",
      "  then being mistakenly passed down to XGBoost core, or some parameter actually being used\n",
      "  but getting flagged wrongly here. Please open an issue if you find any such cases.\n",
      "\n",
      "\n",
      "Xgboost score: 0.0966 (0.0000)\n",
      "\n"
     ]
    }
   ],
   "source": [
    "score = nmale_cv(model_xgb)\n",
    "print(\"Xgboost score: {:.4f} ({:.4f})\\n\".format(score.mean(), score.std()))"
   ]
  },
  {
   "cell_type": "code",
   "execution_count": 174,
   "id": "4d6c0367",
   "metadata": {
    "ExecuteTime": {
     "end_time": "2022-01-28T09:00:42.673324Z",
     "start_time": "2022-01-28T09:00:42.213384Z"
    }
   },
   "outputs": [
    {
     "name": "stdout",
     "output_type": "stream",
     "text": [
      "[LightGBM] [Warning] feature_fraction is set=0.2319, colsample_bytree=1.0 will be ignored. Current value: feature_fraction=0.2319\n",
      "[LightGBM] [Warning] min_data_in_leaf is set=6, min_child_samples=20 will be ignored. Current value: min_data_in_leaf=6\n",
      "[LightGBM] [Warning] min_sum_hessian_in_leaf is set=11, min_child_weight=0.001 will be ignored. Current value: min_sum_hessian_in_leaf=11\n",
      "[LightGBM] [Warning] bagging_fraction is set=0.8, subsample=1.0 will be ignored. Current value: bagging_fraction=0.8\n",
      "[LightGBM] [Warning] bagging_freq is set=5, subsample_freq=0 will be ignored. Current value: bagging_freq=5\n",
      "[LightGBM] [Warning] feature_fraction is set=0.2319, colsample_bytree=1.0 will be ignored. Current value: feature_fraction=0.2319\n",
      "[LightGBM] [Warning] min_data_in_leaf is set=6, min_child_samples=20 will be ignored. Current value: min_data_in_leaf=6\n",
      "[LightGBM] [Warning] min_sum_hessian_in_leaf is set=11, min_child_weight=0.001 will be ignored. Current value: min_sum_hessian_in_leaf=11\n",
      "[LightGBM] [Warning] bagging_fraction is set=0.8, subsample=1.0 will be ignored. Current value: bagging_fraction=0.8\n",
      "[LightGBM] [Warning] bagging_freq is set=5, subsample_freq=0 will be ignored. Current value: bagging_freq=5\n",
      "[LightGBM] [Warning] feature_fraction is set=0.2319, colsample_bytree=1.0 will be ignored. Current value: feature_fraction=0.2319\n",
      "[LightGBM] [Warning] min_data_in_leaf is set=6, min_child_samples=20 will be ignored. Current value: min_data_in_leaf=6\n",
      "[LightGBM] [Warning] min_sum_hessian_in_leaf is set=11, min_child_weight=0.001 will be ignored. Current value: min_sum_hessian_in_leaf=11\n",
      "[LightGBM] [Warning] bagging_fraction is set=0.8, subsample=1.0 will be ignored. Current value: bagging_fraction=0.8\n",
      "[LightGBM] [Warning] bagging_freq is set=5, subsample_freq=0 will be ignored. Current value: bagging_freq=5\n",
      "[LightGBM] [Warning] feature_fraction is set=0.2319, colsample_bytree=1.0 will be ignored. Current value: feature_fraction=0.2319\n",
      "[LightGBM] [Warning] min_data_in_leaf is set=6, min_child_samples=20 will be ignored. Current value: min_data_in_leaf=6\n",
      "[LightGBM] [Warning] min_sum_hessian_in_leaf is set=11, min_child_weight=0.001 will be ignored. Current value: min_sum_hessian_in_leaf=11\n",
      "[LightGBM] [Warning] bagging_fraction is set=0.8, subsample=1.0 will be ignored. Current value: bagging_fraction=0.8\n",
      "[LightGBM] [Warning] bagging_freq is set=5, subsample_freq=0 will be ignored. Current value: bagging_freq=5\n",
      "[LightGBM] [Warning] feature_fraction is set=0.2319, colsample_bytree=1.0 will be ignored. Current value: feature_fraction=0.2319\n",
      "[LightGBM] [Warning] min_data_in_leaf is set=6, min_child_samples=20 will be ignored. Current value: min_data_in_leaf=6\n",
      "[LightGBM] [Warning] min_sum_hessian_in_leaf is set=11, min_child_weight=0.001 will be ignored. Current value: min_sum_hessian_in_leaf=11\n",
      "[LightGBM] [Warning] bagging_fraction is set=0.8, subsample=1.0 will be ignored. Current value: bagging_fraction=0.8\n",
      "[LightGBM] [Warning] bagging_freq is set=5, subsample_freq=0 will be ignored. Current value: bagging_freq=5\n",
      "LGBM score: 0.0983 (0.0000)\n",
      "\n"
     ]
    }
   ],
   "source": [
    "score = nmale_cv(model_lgb)\n",
    "print(\"LGBM score: {:.4f} ({:.4f})\\n\" .format(score.mean(), score.std()))"
   ]
  },
  {
   "cell_type": "markdown",
   "id": "be48f8dc",
   "metadata": {},
   "source": [
    "# Stacking models"
   ]
  },
  {
   "cell_type": "markdown",
   "id": "1014884e",
   "metadata": {},
   "source": [
    "## Simplest Stacking approach : Averaging base models"
   ]
  },
  {
   "cell_type": "markdown",
   "id": "f6099df1",
   "metadata": {},
   "source": [
    "- 우선 모델들의 성능을 평균하여 사용하는 것으로 시작해봅시다. class를 만들어 캡슐화하고, 코드를 재사용할 수 있게 만들어봅시다."
   ]
  },
  {
   "cell_type": "code",
   "execution_count": 175,
   "id": "b06878af",
   "metadata": {
    "ExecuteTime": {
     "end_time": "2022-01-28T09:00:42.688840Z",
     "start_time": "2022-01-28T09:00:42.674828Z"
    }
   },
   "outputs": [],
   "source": [
    "class AveragingModels(BaseEstimator, RegressorMixin, TransformerMixin):\n",
    "    def __init__(self, models):\n",
    "        self.models = models\n",
    "        \n",
    "    # we define clones of the original models to fit the data in\n",
    "    def fit(self, X, y):\n",
    "        self.models_ = [clone(x) for x in self.models]\n",
    "        \n",
    "        # Train cloned base models\n",
    "        for model in self.models_:\n",
    "            model.fit(X, y)\n",
    "\n",
    "        return self\n",
    "    \n",
    "    #Now we do the predictions for cloned models and average them\n",
    "    def predict(self, X):\n",
    "        predictions = np.column_stack([\n",
    "            model.predict(X) for model in self.models_\n",
    "        ])\n",
    "        return np.mean(predictions, axis=1)   "
   ]
  },
  {
   "cell_type": "code",
   "execution_count": 176,
   "id": "429c0122",
   "metadata": {
    "ExecuteTime": {
     "end_time": "2022-01-28T09:01:19.121794Z",
     "start_time": "2022-01-28T09:00:42.690346Z"
    }
   },
   "outputs": [
    {
     "name": "stdout",
     "output_type": "stream",
     "text": [
      "Averaged base models score: 0.0981 (0.0000)\n",
      "\n"
     ]
    }
   ],
   "source": [
    "averaged_models = AveragingModels(models = (ENet, GBoost, KRR, lasso))\n",
    "\n",
    "score = nmale_cv(averaged_models)\n",
    "print(\"Averaged base models score: {:.4f} ({:.4f})\\n\".format(score.mean(), score.std()))"
   ]
  },
  {
   "cell_type": "markdown",
   "id": "3ea261c2",
   "metadata": {},
   "source": [
    "## Averaged base models score"
   ]
  },
  {
   "cell_type": "markdown",
   "id": "7f23ba37",
   "metadata": {},
   "source": [
    "- 이제 ENet, GBoost, KRR and lasso를 이용해 score를 내봅시다. 다른 모델을 추가해도 됩니다."
   ]
  },
  {
   "cell_type": "code",
   "execution_count": 177,
   "id": "b5d5bd52",
   "metadata": {
    "ExecuteTime": {
     "end_time": "2022-01-28T09:01:57.340393Z",
     "start_time": "2022-01-28T09:01:19.123273Z"
    }
   },
   "outputs": [
    {
     "name": "stdout",
     "output_type": "stream",
     "text": [
      "Averaged base models score: 0.0981 (0.0000)\n",
      "\n"
     ]
    }
   ],
   "source": [
    "averaged_models = AveragingModels(models = (ENet, GBoost, KRR, lasso))\n",
    "\n",
    "score = nmale_cv(averaged_models)\n",
    "print(\"Averaged base models score: {:.4f} ({:.4f})\\n\".format(score.mean(), score.std()))"
   ]
  },
  {
   "cell_type": "markdown",
   "id": "a423621d",
   "metadata": {},
   "source": [
    "## Less simple Stacking : Adding a Meta-model"
   ]
  },
  {
   "cell_type": "markdown",
   "id": "b7ed84f9",
   "metadata": {},
   "source": [
    "- 이 방법은 meta model을 추가하고, base model들의 평균과 이 out-of-folds 예측을 이용하여 meta-model을 훈련시킵니다."
   ]
  },
  {
   "cell_type": "code",
   "execution_count": 178,
   "id": "2cf6a6c2",
   "metadata": {
    "ExecuteTime": {
     "end_time": "2022-01-28T09:01:57.355299Z",
     "start_time": "2022-01-28T09:01:57.341764Z"
    }
   },
   "outputs": [],
   "source": [
    "class StackingAveragedModels(BaseEstimator, RegressorMixin, TransformerMixin):\n",
    "    def __init__(self, base_models, meta_model, n_folds=5):\n",
    "        self.base_models = base_models\n",
    "        self.meta_model = meta_model\n",
    "        self.n_folds = n_folds\n",
    "   \n",
    "    # base_models_는 2차원 배열입니다.\n",
    "    def fit(self, X, y):\n",
    "        self.base_models_ = [list() for x in self.base_models]\n",
    "        self.meta_model_ = clone(self.meta_model)\n",
    "        kfold = KFold(n_splits=self.n_folds, shuffle=True, random_state=156)\n",
    "        \n",
    "        # Train cloned base models then create out-of-fold predictions\n",
    "        # that are needed to train the cloned meta-model\n",
    "        out_of_fold_predictions = np.zeros((X.shape[0], len(self.base_models)))\n",
    "        for i, model in enumerate(self.base_models):\n",
    "            for train_index, holdout_index in kfold.split(X, y):\n",
    "                instance = clone(model)\n",
    "                self.base_models_[i].append(instance)\n",
    "                instance.fit(X[train_index], y[train_index])\n",
    "                y_pred = instance.predict(X[holdout_index])\n",
    "                out_of_fold_predictions[holdout_index, i] = y_pred\n",
    "                \n",
    "        # Now train the cloned  meta-model using the out-of-fold predictions as new feature\n",
    "        self.meta_model_.fit(out_of_fold_predictions, y)\n",
    "        return self\n",
    "   \n",
    "    # 각 모델들의 평균값을 사용합니다.\n",
    "    def predict(self, X):\n",
    "        meta_features = np.column_stack([\n",
    "            np.column_stack([model.predict(X) for model in base_models]).mean(axis=1)\n",
    "            for base_models in self.base_models_ ])\n",
    "        return self.meta_model_.predict(meta_features)"
   ]
  },
  {
   "cell_type": "markdown",
   "id": "72a8ff3d",
   "metadata": {},
   "source": [
    "## Stacking Averaged models Score"
   ]
  },
  {
   "cell_type": "code",
   "execution_count": 179,
   "id": "b451c1c4",
   "metadata": {
    "ExecuteTime": {
     "end_time": "2022-01-28T09:04:44.615402Z",
     "start_time": "2022-01-28T09:01:57.357707Z"
    }
   },
   "outputs": [
    {
     "name": "stdout",
     "output_type": "stream",
     "text": [
      "Stacking Averaged models score: 0.0960 (0.0000)\n"
     ]
    }
   ],
   "source": [
    "stacked_averaged_models = StackingAveragedModels(\n",
    "    base_models=(ENet, GBoost, KRR),\n",
    "    meta_model=(lasso)\n",
    ")\n",
    "\n",
    "score = nmale_cv(stacked_averaged_models)\n",
    "print(\"Stacking Averaged models score: {:.4f} ({:.4f})\".format(score.mean(), score.std()))"
   ]
  },
  {
   "cell_type": "markdown",
   "id": "6c2b673e",
   "metadata": {},
   "source": [
    "## Emsembling StackedRegressor, XGBoost and LightGBM"
   ]
  },
  {
   "cell_type": "markdown",
   "id": "eade9b3f",
   "metadata": {},
   "source": [
    "- 위에서 만든 XGBoost와 LightBGM을 이용하여 최종 결과를 만들겠습니다.\n",
    "\n",
    "우선 rmsle 함수를 먼저 정의합니다."
   ]
  },
  {
   "cell_type": "code",
   "execution_count": 180,
   "id": "b310df94",
   "metadata": {
    "ExecuteTime": {
     "end_time": "2022-01-28T09:04:44.630981Z",
     "start_time": "2022-01-28T09:04:44.616910Z"
    }
   },
   "outputs": [],
   "source": [
    "# 평가 기준 정의\n",
    "def NMAE(y, y_pred):\n",
    "    mae = np.mean(np.abs(y-y_pred))\n",
    "    score = mae / np.mean(np.abs(y))\n",
    "    return score"
   ]
  },
  {
   "cell_type": "markdown",
   "id": "f47b2ff5",
   "metadata": {},
   "source": [
    "# Final Training and Prediction"
   ]
  },
  {
   "cell_type": "markdown",
   "id": "59f2d832",
   "metadata": {},
   "source": [
    "## StackedRegressor"
   ]
  },
  {
   "cell_type": "code",
   "execution_count": 181,
   "id": "d72719c2",
   "metadata": {
    "ExecuteTime": {
     "end_time": "2022-01-28T09:05:21.194009Z",
     "start_time": "2022-01-28T09:04:44.632485Z"
    }
   },
   "outputs": [
    {
     "name": "stdout",
     "output_type": "stream",
     "text": [
      "0.005812733979631749\n"
     ]
    }
   ],
   "source": [
    "stacked_averaged_models.fit(train_df.values, y_train)\n",
    "stacked_train_pred = stacked_averaged_models.predict(train_df.values)\n",
    "stacked_pred = np.expm1(stacked_averaged_models.predict(test_df.values))\n",
    "print(NMAE(y_train, stacked_train_pred))"
   ]
  },
  {
   "cell_type": "markdown",
   "id": "98dfbac9",
   "metadata": {},
   "source": [
    "## XGBoost"
   ]
  },
  {
   "cell_type": "code",
   "execution_count": 182,
   "id": "706a0489",
   "metadata": {
    "ExecuteTime": {
     "end_time": "2022-01-28T09:05:22.441193Z",
     "start_time": "2022-01-28T09:05:21.195970Z"
    }
   },
   "outputs": [
    {
     "name": "stdout",
     "output_type": "stream",
     "text": [
      "[18:05:21] WARNING: D:\\bld\\xgboost-split_1634712635879\\work\\src\\learner.cc:576: \n",
      "Parameters: { \"silent\" } might not be used.\n",
      "\n",
      "  This could be a false alarm, with some parameters getting used by language bindings but\n",
      "  then being mistakenly passed down to XGBoost core, or some parameter actually being used\n",
      "  but getting flagged wrongly here. Please open an issue if you find any such cases.\n",
      "\n",
      "\n",
      "0.006017546318884577\n"
     ]
    }
   ],
   "source": [
    "model_xgb.fit(train_df, y_train)\n",
    "xgb_train_pred = model_xgb.predict(train_df)\n",
    "xgb_pred = np.expm1(model_xgb.predict(test_df))\n",
    "print(NMAE(y_train, xgb_train_pred))"
   ]
  },
  {
   "cell_type": "markdown",
   "id": "512a6402",
   "metadata": {},
   "source": [
    "## LightGBM"
   ]
  },
  {
   "cell_type": "code",
   "execution_count": 183,
   "id": "cb72ccd4",
   "metadata": {
    "ExecuteTime": {
     "end_time": "2022-01-28T09:05:22.578723Z",
     "start_time": "2022-01-28T09:05:22.442696Z"
    }
   },
   "outputs": [
    {
     "name": "stdout",
     "output_type": "stream",
     "text": [
      "[LightGBM] [Warning] feature_fraction is set=0.2319, colsample_bytree=1.0 will be ignored. Current value: feature_fraction=0.2319\n",
      "[LightGBM] [Warning] min_data_in_leaf is set=6, min_child_samples=20 will be ignored. Current value: min_data_in_leaf=6\n",
      "[LightGBM] [Warning] min_sum_hessian_in_leaf is set=11, min_child_weight=0.001 will be ignored. Current value: min_sum_hessian_in_leaf=11\n",
      "[LightGBM] [Warning] bagging_fraction is set=0.8, subsample=1.0 will be ignored. Current value: bagging_fraction=0.8\n",
      "[LightGBM] [Warning] bagging_freq is set=5, subsample_freq=0 will be ignored. Current value: bagging_freq=5\n",
      "0.006229547286511142\n"
     ]
    }
   ],
   "source": [
    "model_lgb.fit(train_df, y_train)\n",
    "lgb_train_pred = model_lgb.predict(train_df)\n",
    "lgb_pred = np.expm1(model_lgb.predict(test_df.values))\n",
    "print(NMAE(y_train, lgb_train_pred))"
   ]
  },
  {
   "cell_type": "code",
   "execution_count": 184,
   "id": "35c5bd88",
   "metadata": {
    "ExecuteTime": {
     "end_time": "2022-01-28T09:05:22.594241Z",
     "start_time": "2022-01-28T09:05:22.580340Z"
    }
   },
   "outputs": [
    {
     "name": "stdout",
     "output_type": "stream",
     "text": [
      "NMAE score on train data:\n",
      "0.005792892612208922\n"
     ]
    }
   ],
   "source": [
    "'''NMAE on the entire Train data when averaging'''\n",
    "\n",
    "print('NMAE score on train data:')\n",
    "print(NMAE(y_train,stacked_train_pred*0.70 +\n",
    "               xgb_train_pred*0.15 + lgb_train_pred*0.15 ))"
   ]
  },
  {
   "cell_type": "code",
   "execution_count": 185,
   "id": "68a51477",
   "metadata": {
    "ExecuteTime": {
     "end_time": "2022-01-28T09:05:22.608962Z",
     "start_time": "2022-01-28T09:05:22.595240Z"
    }
   },
   "outputs": [],
   "source": [
    "ensemble = stacked_pred*0.70 + xgb_pred*0.15 + lgb_pred*0.15"
   ]
  },
  {
   "cell_type": "code",
   "execution_count": 186,
   "id": "b8705754",
   "metadata": {
    "ExecuteTime": {
     "end_time": "2022-01-28T09:05:28.551042Z",
     "start_time": "2022-01-28T09:05:28.518979Z"
    }
   },
   "outputs": [],
   "source": [
    "sample_submission = pd.read_csv('sample_submission.csv')"
   ]
  },
  {
   "cell_type": "code",
   "execution_count": 187,
   "id": "aa115b57",
   "metadata": {
    "ExecuteTime": {
     "end_time": "2022-01-28T09:05:30.807819Z",
     "start_time": "2022-01-28T09:05:30.783976Z"
    }
   },
   "outputs": [],
   "source": [
    "sample_submission['target'] = ensemble\n",
    "sample_submission.to_csv('houseprice_final.csv',index=False)"
   ]
  },
  {
   "cell_type": "code",
   "execution_count": 189,
   "id": "dc757721",
   "metadata": {
    "ExecuteTime": {
     "end_time": "2022-01-28T09:09:34.414497Z",
     "start_time": "2022-01-28T09:09:34.402092Z"
    }
   },
   "outputs": [],
   "source": [
    "ensemble1 = stacked_pred*0.50 + xgb_pred*0.25 + lgb_pred*0.25"
   ]
  },
  {
   "cell_type": "code",
   "execution_count": 190,
   "id": "3d835a16",
   "metadata": {
    "ExecuteTime": {
     "end_time": "2022-01-28T09:09:39.419257Z",
     "start_time": "2022-01-28T09:09:39.402393Z"
    }
   },
   "outputs": [],
   "source": [
    "sample_submission['target'] = ensemble1\n",
    "sample_submission.to_csv('houseprice_final2.csv',index=False)"
   ]
  },
  {
   "cell_type": "code",
   "execution_count": 191,
   "id": "405c1cb3",
   "metadata": {
    "ExecuteTime": {
     "end_time": "2022-01-28T09:10:46.175168Z",
     "start_time": "2022-01-28T09:10:46.171131Z"
    }
   },
   "outputs": [],
   "source": [
    "ensemble2 = stacked_pred*0.40 + xgb_pred*0.3 + lgb_pred*0.3"
   ]
  },
  {
   "cell_type": "code",
   "execution_count": 192,
   "id": "43231db9",
   "metadata": {
    "ExecuteTime": {
     "end_time": "2022-01-28T09:10:46.826788Z",
     "start_time": "2022-01-28T09:10:46.814502Z"
    }
   },
   "outputs": [],
   "source": [
    "sample_submission['target'] = ensemble2\n",
    "sample_submission.to_csv('houseprice_final3.csv',index=False)"
   ]
  },
  {
   "cell_type": "code",
   "execution_count": null,
   "id": "41e346f6",
   "metadata": {},
   "outputs": [],
   "source": []
  },
  {
   "cell_type": "code",
   "execution_count": null,
   "id": "a731763a",
   "metadata": {},
   "outputs": [],
   "source": []
  }
 ],
 "metadata": {
  "kernelspec": {
   "display_name": "Python 3",
   "language": "python",
   "name": "python3"
  },
  "language_info": {
   "codemirror_mode": {
    "name": "ipython",
    "version": 3
   },
   "file_extension": ".py",
   "mimetype": "text/x-python",
   "name": "python",
   "nbconvert_exporter": "python",
   "pygments_lexer": "ipython3",
   "version": "3.8.8"
  },
  "toc": {
   "base_numbering": 1,
   "nav_menu": {},
   "number_sections": true,
   "sideBar": true,
   "skip_h1_title": false,
   "title_cell": "Table of Contents",
   "title_sidebar": "Contents",
   "toc_cell": false,
   "toc_position": {
    "height": "calc(100% - 180px)",
    "left": "10px",
    "top": "150px",
    "width": "170.396px"
   },
   "toc_section_display": true,
   "toc_window_display": false
  }
 },
 "nbformat": 4,
 "nbformat_minor": 5
}
