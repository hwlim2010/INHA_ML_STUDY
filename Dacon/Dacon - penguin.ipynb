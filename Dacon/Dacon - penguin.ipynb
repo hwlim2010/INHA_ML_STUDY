{
 "cells": [
  {
   "cell_type": "markdown",
   "id": "7d6c0fd0",
   "metadata": {},
   "source": [
    "- **데이콘 베이직 : 펭귄 몸무게 예측 경진대회**"
   ]
  },
  {
   "cell_type": "markdown",
   "id": "97ee3c66",
   "metadata": {},
   "source": [
    "- 목적: 펭귄의 종류, 날개 길이, 부리 깊이 등 펭귄들의 정보를 담은 데이터를 통해 각 펭귄의 몸무게를 예측"
   ]
  },
  {
   "cell_type": "markdown",
   "id": "d92f7710",
   "metadata": {
    "ExecuteTime": {
     "end_time": "2021-12-29T12:48:29.039644Z",
     "start_time": "2021-12-29T12:48:29.024456Z"
    }
   },
   "source": [
    "- 평가: RMSE(Root Mean Square Error)"
   ]
  },
  {
   "cell_type": "code",
   "execution_count": 96,
   "id": "47592fc5",
   "metadata": {
    "ExecuteTime": {
     "end_time": "2022-01-04T10:36:42.916123Z",
     "start_time": "2022-01-04T10:36:42.905236Z"
    }
   },
   "outputs": [],
   "source": [
    "import numpy as np\n",
    "import pandas as pd\n",
    "import matplotlib.pyplot as plt\n",
    "import seaborn as sns\n",
    "\n",
    "plt.style.use('seaborn')\n",
    "sns.set(font_scale=2.5)\n",
    "\n",
    "import missingno as msno\n",
    "\n",
    "#ignore warnigs\n",
    "import warnings\n",
    "warnings.filterwarnings('ignore')\n",
    "\n",
    "%matplotlib inline"
   ]
  },
  {
   "cell_type": "markdown",
   "id": "3c12f1d0",
   "metadata": {},
   "source": [
    "# Data set 확인"
   ]
  },
  {
   "cell_type": "code",
   "execution_count": 97,
   "id": "3925c9ff",
   "metadata": {
    "ExecuteTime": {
     "end_time": "2022-01-04T10:36:42.946464Z",
     "start_time": "2022-01-04T10:36:42.917389Z"
    }
   },
   "outputs": [],
   "source": [
    "df_train = pd.read_csv('C:/Users/HyungWook/Dacon/penguin/train.csv')\n",
    "df_test = pd.read_csv('C:/Users/HyungWook/Dacon/penguin/test.csv')\n",
    "sample_submission = pd.read_csv('C:/Users/HyungWook/Dacon/penguin/sample_submission.csv')"
   ]
  },
  {
   "cell_type": "code",
   "execution_count": 98,
   "id": "96f71de8",
   "metadata": {
    "ExecuteTime": {
     "end_time": "2022-01-04T10:36:42.961618Z",
     "start_time": "2022-01-04T10:36:42.947477Z"
    }
   },
   "outputs": [
    {
     "data": {
      "text/html": [
       "<div>\n",
       "<style scoped>\n",
       "    .dataframe tbody tr th:only-of-type {\n",
       "        vertical-align: middle;\n",
       "    }\n",
       "\n",
       "    .dataframe tbody tr th {\n",
       "        vertical-align: top;\n",
       "    }\n",
       "\n",
       "    .dataframe thead th {\n",
       "        text-align: right;\n",
       "    }\n",
       "</style>\n",
       "<table border=\"1\" class=\"dataframe\">\n",
       "  <thead>\n",
       "    <tr style=\"text-align: right;\">\n",
       "      <th></th>\n",
       "      <th>id</th>\n",
       "      <th>Species</th>\n",
       "      <th>Island</th>\n",
       "      <th>Clutch Completion</th>\n",
       "      <th>Culmen Length (mm)</th>\n",
       "      <th>Culmen Depth (mm)</th>\n",
       "      <th>Flipper Length (mm)</th>\n",
       "      <th>Sex</th>\n",
       "      <th>Delta 15 N (o/oo)</th>\n",
       "      <th>Delta 13 C (o/oo)</th>\n",
       "      <th>Body Mass (g)</th>\n",
       "    </tr>\n",
       "  </thead>\n",
       "  <tbody>\n",
       "    <tr>\n",
       "      <th>0</th>\n",
       "      <td>0</td>\n",
       "      <td>Gentoo penguin (Pygoscelis papua)</td>\n",
       "      <td>Biscoe</td>\n",
       "      <td>Yes</td>\n",
       "      <td>50.0</td>\n",
       "      <td>15.3</td>\n",
       "      <td>220</td>\n",
       "      <td>MALE</td>\n",
       "      <td>8.30515</td>\n",
       "      <td>-25.19017</td>\n",
       "      <td>5550</td>\n",
       "    </tr>\n",
       "    <tr>\n",
       "      <th>1</th>\n",
       "      <td>1</td>\n",
       "      <td>Chinstrap penguin (Pygoscelis antarctica)</td>\n",
       "      <td>Dream</td>\n",
       "      <td>No</td>\n",
       "      <td>49.5</td>\n",
       "      <td>19.0</td>\n",
       "      <td>200</td>\n",
       "      <td>MALE</td>\n",
       "      <td>9.63074</td>\n",
       "      <td>-24.34684</td>\n",
       "      <td>3800</td>\n",
       "    </tr>\n",
       "    <tr>\n",
       "      <th>2</th>\n",
       "      <td>2</td>\n",
       "      <td>Gentoo penguin (Pygoscelis papua)</td>\n",
       "      <td>Biscoe</td>\n",
       "      <td>Yes</td>\n",
       "      <td>45.1</td>\n",
       "      <td>14.4</td>\n",
       "      <td>210</td>\n",
       "      <td>FEMALE</td>\n",
       "      <td>8.51951</td>\n",
       "      <td>-27.01854</td>\n",
       "      <td>4400</td>\n",
       "    </tr>\n",
       "    <tr>\n",
       "      <th>3</th>\n",
       "      <td>3</td>\n",
       "      <td>Gentoo penguin (Pygoscelis papua)</td>\n",
       "      <td>Biscoe</td>\n",
       "      <td>Yes</td>\n",
       "      <td>44.5</td>\n",
       "      <td>14.7</td>\n",
       "      <td>214</td>\n",
       "      <td>FEMALE</td>\n",
       "      <td>8.20106</td>\n",
       "      <td>-26.16524</td>\n",
       "      <td>4850</td>\n",
       "    </tr>\n",
       "    <tr>\n",
       "      <th>4</th>\n",
       "      <td>4</td>\n",
       "      <td>Gentoo penguin (Pygoscelis papua)</td>\n",
       "      <td>Biscoe</td>\n",
       "      <td>No</td>\n",
       "      <td>49.6</td>\n",
       "      <td>16.0</td>\n",
       "      <td>225</td>\n",
       "      <td>MALE</td>\n",
       "      <td>8.38324</td>\n",
       "      <td>-26.84272</td>\n",
       "      <td>5700</td>\n",
       "    </tr>\n",
       "  </tbody>\n",
       "</table>\n",
       "</div>"
      ],
      "text/plain": [
       "   id                                    Species  Island Clutch Completion  \\\n",
       "0   0          Gentoo penguin (Pygoscelis papua)  Biscoe               Yes   \n",
       "1   1  Chinstrap penguin (Pygoscelis antarctica)   Dream                No   \n",
       "2   2          Gentoo penguin (Pygoscelis papua)  Biscoe               Yes   \n",
       "3   3          Gentoo penguin (Pygoscelis papua)  Biscoe               Yes   \n",
       "4   4          Gentoo penguin (Pygoscelis papua)  Biscoe                No   \n",
       "\n",
       "   Culmen Length (mm)  Culmen Depth (mm)  Flipper Length (mm)     Sex  \\\n",
       "0                50.0               15.3                  220    MALE   \n",
       "1                49.5               19.0                  200    MALE   \n",
       "2                45.1               14.4                  210  FEMALE   \n",
       "3                44.5               14.7                  214  FEMALE   \n",
       "4                49.6               16.0                  225    MALE   \n",
       "\n",
       "   Delta 15 N (o/oo)  Delta 13 C (o/oo)  Body Mass (g)  \n",
       "0            8.30515          -25.19017           5550  \n",
       "1            9.63074          -24.34684           3800  \n",
       "2            8.51951          -27.01854           4400  \n",
       "3            8.20106          -26.16524           4850  \n",
       "4            8.38324          -26.84272           5700  "
      ]
     },
     "execution_count": 98,
     "metadata": {},
     "output_type": "execute_result"
    }
   ],
   "source": [
    "df_train.head()"
   ]
  },
  {
   "cell_type": "code",
   "execution_count": 99,
   "id": "3315af76",
   "metadata": {
    "ExecuteTime": {
     "end_time": "2022-01-04T10:36:42.991889Z",
     "start_time": "2022-01-04T10:36:42.962904Z"
    }
   },
   "outputs": [
    {
     "data": {
      "text/html": [
       "<div>\n",
       "<style scoped>\n",
       "    .dataframe tbody tr th:only-of-type {\n",
       "        vertical-align: middle;\n",
       "    }\n",
       "\n",
       "    .dataframe tbody tr th {\n",
       "        vertical-align: top;\n",
       "    }\n",
       "\n",
       "    .dataframe thead th {\n",
       "        text-align: right;\n",
       "    }\n",
       "</style>\n",
       "<table border=\"1\" class=\"dataframe\">\n",
       "  <thead>\n",
       "    <tr style=\"text-align: right;\">\n",
       "      <th></th>\n",
       "      <th>id</th>\n",
       "      <th>Culmen Length (mm)</th>\n",
       "      <th>Culmen Depth (mm)</th>\n",
       "      <th>Flipper Length (mm)</th>\n",
       "      <th>Delta 15 N (o/oo)</th>\n",
       "      <th>Delta 13 C (o/oo)</th>\n",
       "      <th>Body Mass (g)</th>\n",
       "    </tr>\n",
       "  </thead>\n",
       "  <tbody>\n",
       "    <tr>\n",
       "      <th>count</th>\n",
       "      <td>114.000000</td>\n",
       "      <td>114.000000</td>\n",
       "      <td>114.000000</td>\n",
       "      <td>114.000000</td>\n",
       "      <td>111.000000</td>\n",
       "      <td>111.000000</td>\n",
       "      <td>114.000000</td>\n",
       "    </tr>\n",
       "    <tr>\n",
       "      <th>mean</th>\n",
       "      <td>56.500000</td>\n",
       "      <td>44.613158</td>\n",
       "      <td>17.014912</td>\n",
       "      <td>203.052632</td>\n",
       "      <td>8.737634</td>\n",
       "      <td>-25.723051</td>\n",
       "      <td>4327.850877</td>\n",
       "    </tr>\n",
       "    <tr>\n",
       "      <th>std</th>\n",
       "      <td>33.052988</td>\n",
       "      <td>5.321829</td>\n",
       "      <td>1.941363</td>\n",
       "      <td>14.653425</td>\n",
       "      <td>0.567698</td>\n",
       "      <td>0.859786</td>\n",
       "      <td>781.766484</td>\n",
       "    </tr>\n",
       "    <tr>\n",
       "      <th>min</th>\n",
       "      <td>0.000000</td>\n",
       "      <td>33.500000</td>\n",
       "      <td>13.200000</td>\n",
       "      <td>174.000000</td>\n",
       "      <td>7.632200</td>\n",
       "      <td>-27.018540</td>\n",
       "      <td>2700.000000</td>\n",
       "    </tr>\n",
       "    <tr>\n",
       "      <th>25%</th>\n",
       "      <td>28.250000</td>\n",
       "      <td>40.325000</td>\n",
       "      <td>15.225000</td>\n",
       "      <td>190.000000</td>\n",
       "      <td>8.272585</td>\n",
       "      <td>-26.434025</td>\n",
       "      <td>3675.000000</td>\n",
       "    </tr>\n",
       "    <tr>\n",
       "      <th>50%</th>\n",
       "      <td>56.500000</td>\n",
       "      <td>45.200000</td>\n",
       "      <td>17.250000</td>\n",
       "      <td>199.000000</td>\n",
       "      <td>8.632590</td>\n",
       "      <td>-25.955410</td>\n",
       "      <td>4250.000000</td>\n",
       "    </tr>\n",
       "    <tr>\n",
       "      <th>75%</th>\n",
       "      <td>84.750000</td>\n",
       "      <td>49.075000</td>\n",
       "      <td>18.600000</td>\n",
       "      <td>216.000000</td>\n",
       "      <td>9.264635</td>\n",
       "      <td>-25.005945</td>\n",
       "      <td>4850.000000</td>\n",
       "    </tr>\n",
       "    <tr>\n",
       "      <th>max</th>\n",
       "      <td>113.000000</td>\n",
       "      <td>55.100000</td>\n",
       "      <td>21.100000</td>\n",
       "      <td>231.000000</td>\n",
       "      <td>10.025440</td>\n",
       "      <td>-24.102550</td>\n",
       "      <td>6300.000000</td>\n",
       "    </tr>\n",
       "  </tbody>\n",
       "</table>\n",
       "</div>"
      ],
      "text/plain": [
       "               id  Culmen Length (mm)  Culmen Depth (mm)  Flipper Length (mm)  \\\n",
       "count  114.000000          114.000000         114.000000           114.000000   \n",
       "mean    56.500000           44.613158          17.014912           203.052632   \n",
       "std     33.052988            5.321829           1.941363            14.653425   \n",
       "min      0.000000           33.500000          13.200000           174.000000   \n",
       "25%     28.250000           40.325000          15.225000           190.000000   \n",
       "50%     56.500000           45.200000          17.250000           199.000000   \n",
       "75%     84.750000           49.075000          18.600000           216.000000   \n",
       "max    113.000000           55.100000          21.100000           231.000000   \n",
       "\n",
       "       Delta 15 N (o/oo)  Delta 13 C (o/oo)  Body Mass (g)  \n",
       "count         111.000000         111.000000     114.000000  \n",
       "mean            8.737634         -25.723051    4327.850877  \n",
       "std             0.567698           0.859786     781.766484  \n",
       "min             7.632200         -27.018540    2700.000000  \n",
       "25%             8.272585         -26.434025    3675.000000  \n",
       "50%             8.632590         -25.955410    4250.000000  \n",
       "75%             9.264635         -25.005945    4850.000000  \n",
       "max            10.025440         -24.102550    6300.000000  "
      ]
     },
     "execution_count": 99,
     "metadata": {},
     "output_type": "execute_result"
    }
   ],
   "source": [
    "df_train.describe()"
   ]
  },
  {
   "cell_type": "code",
   "execution_count": 100,
   "id": "06e00242",
   "metadata": {
    "ExecuteTime": {
     "end_time": "2022-01-04T10:36:43.022208Z",
     "start_time": "2022-01-04T10:36:42.992223Z"
    }
   },
   "outputs": [
    {
     "data": {
      "text/html": [
       "<div>\n",
       "<style scoped>\n",
       "    .dataframe tbody tr th:only-of-type {\n",
       "        vertical-align: middle;\n",
       "    }\n",
       "\n",
       "    .dataframe tbody tr th {\n",
       "        vertical-align: top;\n",
       "    }\n",
       "\n",
       "    .dataframe thead th {\n",
       "        text-align: right;\n",
       "    }\n",
       "</style>\n",
       "<table border=\"1\" class=\"dataframe\">\n",
       "  <thead>\n",
       "    <tr style=\"text-align: right;\">\n",
       "      <th></th>\n",
       "      <th>id</th>\n",
       "      <th>Culmen Length (mm)</th>\n",
       "      <th>Culmen Depth (mm)</th>\n",
       "      <th>Flipper Length (mm)</th>\n",
       "      <th>Delta 15 N (o/oo)</th>\n",
       "      <th>Delta 13 C (o/oo)</th>\n",
       "    </tr>\n",
       "  </thead>\n",
       "  <tbody>\n",
       "    <tr>\n",
       "      <th>count</th>\n",
       "      <td>228.00000</td>\n",
       "      <td>228.000000</td>\n",
       "      <td>228.000000</td>\n",
       "      <td>228.000000</td>\n",
       "      <td>219.000000</td>\n",
       "      <td>220.000000</td>\n",
       "    </tr>\n",
       "    <tr>\n",
       "      <th>mean</th>\n",
       "      <td>113.50000</td>\n",
       "      <td>43.576316</td>\n",
       "      <td>17.219298</td>\n",
       "      <td>199.846491</td>\n",
       "      <td>8.731226</td>\n",
       "      <td>-25.667745</td>\n",
       "    </tr>\n",
       "    <tr>\n",
       "      <th>std</th>\n",
       "      <td>65.96211</td>\n",
       "      <td>5.506157</td>\n",
       "      <td>1.992027</td>\n",
       "      <td>13.663938</td>\n",
       "      <td>0.544827</td>\n",
       "      <td>0.759964</td>\n",
       "    </tr>\n",
       "    <tr>\n",
       "      <th>min</th>\n",
       "      <td>0.00000</td>\n",
       "      <td>32.100000</td>\n",
       "      <td>13.100000</td>\n",
       "      <td>172.000000</td>\n",
       "      <td>7.685280</td>\n",
       "      <td>-26.864850</td>\n",
       "    </tr>\n",
       "    <tr>\n",
       "      <th>25%</th>\n",
       "      <td>56.75000</td>\n",
       "      <td>38.900000</td>\n",
       "      <td>15.700000</td>\n",
       "      <td>189.750000</td>\n",
       "      <td>8.325385</td>\n",
       "      <td>-26.236812</td>\n",
       "    </tr>\n",
       "    <tr>\n",
       "      <th>50%</th>\n",
       "      <td>113.50000</td>\n",
       "      <td>43.250000</td>\n",
       "      <td>17.500000</td>\n",
       "      <td>196.000000</td>\n",
       "      <td>8.675380</td>\n",
       "      <td>-25.806100</td>\n",
       "    </tr>\n",
       "    <tr>\n",
       "      <th>75%</th>\n",
       "      <td>170.25000</td>\n",
       "      <td>48.100000</td>\n",
       "      <td>18.700000</td>\n",
       "      <td>212.000000</td>\n",
       "      <td>9.109330</td>\n",
       "      <td>-25.115125</td>\n",
       "    </tr>\n",
       "    <tr>\n",
       "      <th>max</th>\n",
       "      <td>227.00000</td>\n",
       "      <td>59.600000</td>\n",
       "      <td>21.500000</td>\n",
       "      <td>230.000000</td>\n",
       "      <td>10.023720</td>\n",
       "      <td>-23.787670</td>\n",
       "    </tr>\n",
       "  </tbody>\n",
       "</table>\n",
       "</div>"
      ],
      "text/plain": [
       "              id  Culmen Length (mm)  Culmen Depth (mm)  Flipper Length (mm)  \\\n",
       "count  228.00000          228.000000         228.000000           228.000000   \n",
       "mean   113.50000           43.576316          17.219298           199.846491   \n",
       "std     65.96211            5.506157           1.992027            13.663938   \n",
       "min      0.00000           32.100000          13.100000           172.000000   \n",
       "25%     56.75000           38.900000          15.700000           189.750000   \n",
       "50%    113.50000           43.250000          17.500000           196.000000   \n",
       "75%    170.25000           48.100000          18.700000           212.000000   \n",
       "max    227.00000           59.600000          21.500000           230.000000   \n",
       "\n",
       "       Delta 15 N (o/oo)  Delta 13 C (o/oo)  \n",
       "count         219.000000         220.000000  \n",
       "mean            8.731226         -25.667745  \n",
       "std             0.544827           0.759964  \n",
       "min             7.685280         -26.864850  \n",
       "25%             8.325385         -26.236812  \n",
       "50%             8.675380         -25.806100  \n",
       "75%             9.109330         -25.115125  \n",
       "max            10.023720         -23.787670  "
      ]
     },
     "execution_count": 100,
     "metadata": {},
     "output_type": "execute_result"
    }
   ],
   "source": [
    "df_test.describe()"
   ]
  },
  {
   "cell_type": "markdown",
   "id": "a253cc34",
   "metadata": {},
   "source": [
    "- ## Null data check"
   ]
  },
  {
   "cell_type": "code",
   "execution_count": 101,
   "id": "a2c10567",
   "metadata": {
    "ExecuteTime": {
     "end_time": "2022-01-04T10:36:43.037730Z",
     "start_time": "2022-01-04T10:36:43.022459Z"
    }
   },
   "outputs": [
    {
     "name": "stdout",
     "output_type": "stream",
     "text": [
      "column :         id\t Percent of NaN value: 0.00%\n",
      "column :    Species\t Percent of NaN value: 0.00%\n",
      "column :     Island\t Percent of NaN value: 0.00%\n",
      "column : Clutch Completion\t Percent of NaN value: 0.00%\n",
      "column : Culmen Length (mm)\t Percent of NaN value: 0.00%\n",
      "column : Culmen Depth (mm)\t Percent of NaN value: 0.00%\n",
      "column : Flipper Length (mm)\t Percent of NaN value: 0.00%\n",
      "column :        Sex\t Percent of NaN value: 2.63%\n",
      "column : Delta 15 N (o/oo)\t Percent of NaN value: 2.63%\n",
      "column : Delta 13 C (o/oo)\t Percent of NaN value: 2.63%\n",
      "column : Body Mass (g)\t Percent of NaN value: 0.00%\n"
     ]
    }
   ],
   "source": [
    "for col in df_train.columns:\n",
    "    msg = 'column : {:>10}\\t Percent of NaN value: {:.2f}%'.format(col, 100 \n",
    "* (df_train[col].isnull().sum() / df_train[col].shape[0]))\n",
    "    print(msg)"
   ]
  },
  {
   "cell_type": "code",
   "execution_count": 102,
   "id": "a3fa471d",
   "metadata": {
    "ExecuteTime": {
     "end_time": "2022-01-04T10:36:43.053264Z",
     "start_time": "2022-01-04T10:36:43.038744Z"
    }
   },
   "outputs": [
    {
     "name": "stdout",
     "output_type": "stream",
     "text": [
      "column :         id\t Percent of NaN value: 0.00%\n",
      "column :    Species\t Percent of NaN value: 0.00%\n",
      "column :     Island\t Percent of NaN value: 0.00%\n",
      "column : Clutch Completion\t Percent of NaN value: 0.00%\n",
      "column : Culmen Length (mm)\t Percent of NaN value: 0.00%\n",
      "column : Culmen Depth (mm)\t Percent of NaN value: 0.00%\n",
      "column : Flipper Length (mm)\t Percent of NaN value: 0.00%\n",
      "column :        Sex\t Percent of NaN value: 2.63%\n",
      "column : Delta 15 N (o/oo)\t Percent of NaN value: 3.95%\n",
      "column : Delta 13 C (o/oo)\t Percent of NaN value: 3.51%\n"
     ]
    }
   ],
   "source": [
    "for col in df_test.columns:\n",
    "    msg = 'column : {:>10}\\t Percent of NaN value: {:.2f}%'.format(col, 100 \n",
    "* (df_test[col].isnull().sum() / df_test[col].shape[0]))\n",
    "    print(msg)"
   ]
  },
  {
   "cell_type": "markdown",
   "id": "4c02d19a",
   "metadata": {},
   "source": [
    "- train, test, 동일하게 Sex, Delta 15 N, Delta 13 C 에서 Null값이 있는것을 확인할 수 있습니다."
   ]
  },
  {
   "cell_type": "markdown",
   "id": "6d03e7f0",
   "metadata": {},
   "source": [
    "# EDA(Exploratory Data Analysis)"
   ]
  },
  {
   "cell_type": "markdown",
   "id": "039f6556",
   "metadata": {},
   "source": [
    "## Island(샘플들이 수집된 Palmer Station 근처 섬 이름)"
   ]
  },
  {
   "cell_type": "code",
   "execution_count": 103,
   "id": "e3bd5af9",
   "metadata": {
    "ExecuteTime": {
     "end_time": "2022-01-04T10:36:43.068515Z",
     "start_time": "2022-01-04T10:36:43.054455Z"
    }
   },
   "outputs": [
    {
     "data": {
      "text/html": [
       "<div>\n",
       "<style scoped>\n",
       "    .dataframe tbody tr th:only-of-type {\n",
       "        vertical-align: middle;\n",
       "    }\n",
       "\n",
       "    .dataframe tbody tr th {\n",
       "        vertical-align: top;\n",
       "    }\n",
       "\n",
       "    .dataframe thead th {\n",
       "        text-align: right;\n",
       "    }\n",
       "</style>\n",
       "<table border=\"1\" class=\"dataframe\">\n",
       "  <thead>\n",
       "    <tr style=\"text-align: right;\">\n",
       "      <th></th>\n",
       "      <th>Body Mass (g)</th>\n",
       "    </tr>\n",
       "    <tr>\n",
       "      <th>Island</th>\n",
       "      <th></th>\n",
       "    </tr>\n",
       "  </thead>\n",
       "  <tbody>\n",
       "    <tr>\n",
       "      <th>Biscoe</th>\n",
       "      <td>4878.947368</td>\n",
       "    </tr>\n",
       "    <tr>\n",
       "      <th>Torgersen</th>\n",
       "      <td>3817.307692</td>\n",
       "    </tr>\n",
       "    <tr>\n",
       "      <th>Dream</th>\n",
       "      <td>3764.772727</td>\n",
       "    </tr>\n",
       "  </tbody>\n",
       "</table>\n",
       "</div>"
      ],
      "text/plain": [
       "           Body Mass (g)\n",
       "Island                  \n",
       "Biscoe       4878.947368\n",
       "Torgersen    3817.307692\n",
       "Dream        3764.772727"
      ]
     },
     "execution_count": 103,
     "metadata": {},
     "output_type": "execute_result"
    }
   ],
   "source": [
    "df_train[['Island', 'Body Mass (g)']].groupby(['Island'], as_index=True).mean().sort_values(by='Body Mass (g)', ascending=False)"
   ]
  },
  {
   "cell_type": "markdown",
   "id": "249f90f6",
   "metadata": {},
   "source": [
    "- Biscoe섬의 펭귄 평균몸무게가 가장 높은걸 확인할수 있다. 섬마다 몸무게 차이가 있음을 알 수 있으며 나중에 모델을 세울때 이 feature를 사용하는 것이 좋을 것이라 판단할 수 있다."
   ]
  },
  {
   "cell_type": "markdown",
   "id": "eda773c0",
   "metadata": {},
   "source": [
    "## Species: 펭귄의 종을 나타내는 문자열"
   ]
  },
  {
   "cell_type": "code",
   "execution_count": 104,
   "id": "c4000bb1",
   "metadata": {
    "ExecuteTime": {
     "end_time": "2022-01-04T10:36:43.084044Z",
     "start_time": "2022-01-04T10:36:43.070050Z"
    }
   },
   "outputs": [
    {
     "data": {
      "text/html": [
       "<div>\n",
       "<style scoped>\n",
       "    .dataframe tbody tr th:only-of-type {\n",
       "        vertical-align: middle;\n",
       "    }\n",
       "\n",
       "    .dataframe tbody tr th {\n",
       "        vertical-align: top;\n",
       "    }\n",
       "\n",
       "    .dataframe thead th {\n",
       "        text-align: right;\n",
       "    }\n",
       "</style>\n",
       "<table border=\"1\" class=\"dataframe\">\n",
       "  <thead>\n",
       "    <tr style=\"text-align: right;\">\n",
       "      <th></th>\n",
       "      <th>Body Mass (g)</th>\n",
       "    </tr>\n",
       "    <tr>\n",
       "      <th>Species</th>\n",
       "      <th></th>\n",
       "    </tr>\n",
       "  </thead>\n",
       "  <tbody>\n",
       "    <tr>\n",
       "      <th>Gentoo penguin (Pygoscelis papua)</th>\n",
       "      <td>5075.520833</td>\n",
       "    </tr>\n",
       "    <tr>\n",
       "      <th>Adelie Penguin (Pygoscelis adeliae)</th>\n",
       "      <td>3801.219512</td>\n",
       "    </tr>\n",
       "    <tr>\n",
       "      <th>Chinstrap penguin (Pygoscelis antarctica)</th>\n",
       "      <td>3756.000000</td>\n",
       "    </tr>\n",
       "  </tbody>\n",
       "</table>\n",
       "</div>"
      ],
      "text/plain": [
       "                                           Body Mass (g)\n",
       "Species                                                 \n",
       "Gentoo penguin (Pygoscelis papua)            5075.520833\n",
       "Adelie Penguin (Pygoscelis adeliae)          3801.219512\n",
       "Chinstrap penguin (Pygoscelis antarctica)    3756.000000"
      ]
     },
     "execution_count": 104,
     "metadata": {},
     "output_type": "execute_result"
    }
   ],
   "source": [
    "df_train[['Species', 'Body Mass (g)']].groupby(['Species'], as_index=True).mean().sort_values(by='Body Mass (g)', ascending=False)"
   ]
  },
  {
   "cell_type": "markdown",
   "id": "5a6fecb1",
   "metadata": {},
   "source": [
    "- Island와 마찬가지로 , Species도 예측 모델에 쓰일 중요한 feature임을 알수 있습니다."
   ]
  },
  {
   "cell_type": "markdown",
   "id": "3d829648",
   "metadata": {},
   "source": [
    "## Clutch Completion(관찰된 펭귄 둥지의 알이 2개인 경우 Full Clutch이며 Yes로 표기)"
   ]
  },
  {
   "cell_type": "code",
   "execution_count": 105,
   "id": "a8f1ff9e",
   "metadata": {
    "ExecuteTime": {
     "end_time": "2022-01-04T10:36:43.099095Z",
     "start_time": "2022-01-04T10:36:43.085047Z"
    }
   },
   "outputs": [
    {
     "data": {
      "text/html": [
       "<div>\n",
       "<style scoped>\n",
       "    .dataframe tbody tr th:only-of-type {\n",
       "        vertical-align: middle;\n",
       "    }\n",
       "\n",
       "    .dataframe tbody tr th {\n",
       "        vertical-align: top;\n",
       "    }\n",
       "\n",
       "    .dataframe thead th {\n",
       "        text-align: right;\n",
       "    }\n",
       "</style>\n",
       "<table border=\"1\" class=\"dataframe\">\n",
       "  <thead>\n",
       "    <tr style=\"text-align: right;\">\n",
       "      <th></th>\n",
       "      <th>Body Mass (g)</th>\n",
       "    </tr>\n",
       "    <tr>\n",
       "      <th>Clutch Completion</th>\n",
       "      <th></th>\n",
       "    </tr>\n",
       "  </thead>\n",
       "  <tbody>\n",
       "    <tr>\n",
       "      <th>Yes</th>\n",
       "      <td>4352.696078</td>\n",
       "    </tr>\n",
       "    <tr>\n",
       "      <th>No</th>\n",
       "      <td>4116.666667</td>\n",
       "    </tr>\n",
       "  </tbody>\n",
       "</table>\n",
       "</div>"
      ],
      "text/plain": [
       "                   Body Mass (g)\n",
       "Clutch Completion               \n",
       "Yes                  4352.696078\n",
       "No                   4116.666667"
      ]
     },
     "execution_count": 105,
     "metadata": {},
     "output_type": "execute_result"
    }
   ],
   "source": [
    "df_train[['Clutch Completion', 'Body Mass (g)']].groupby(['Clutch Completion'], as_index=True).mean().sort_values(by='Body Mass (g)', ascending=False)"
   ]
  },
  {
   "cell_type": "markdown",
   "id": "dfd244e6",
   "metadata": {},
   "source": [
    "- 조금의 차이는 있지만, 좀 비슷한것 같습니다. 모델에 얼마나 큰 영향을 미칠지는 모르겠지만, 그래도 사용하겠습니다."
   ]
  },
  {
   "cell_type": "markdown",
   "id": "106067cd",
   "metadata": {},
   "source": [
    "## Culmen Length (mm) : 펭귄 옆모습 기준 부리의 가로 길이"
   ]
  },
  {
   "cell_type": "code",
   "execution_count": 106,
   "id": "d12e0767",
   "metadata": {
    "ExecuteTime": {
     "end_time": "2022-01-04T10:36:43.114428Z",
     "start_time": "2022-01-04T10:36:43.100597Z"
    }
   },
   "outputs": [
    {
     "data": {
      "text/html": [
       "<div>\n",
       "<style scoped>\n",
       "    .dataframe tbody tr th:only-of-type {\n",
       "        vertical-align: middle;\n",
       "    }\n",
       "\n",
       "    .dataframe tbody tr th {\n",
       "        vertical-align: top;\n",
       "    }\n",
       "\n",
       "    .dataframe thead th {\n",
       "        text-align: right;\n",
       "    }\n",
       "</style>\n",
       "<table border=\"1\" class=\"dataframe\">\n",
       "  <thead>\n",
       "    <tr style=\"text-align: right;\">\n",
       "      <th></th>\n",
       "      <th>Body Mass (g)</th>\n",
       "    </tr>\n",
       "    <tr>\n",
       "      <th>Culmen Length (mm)</th>\n",
       "      <th></th>\n",
       "    </tr>\n",
       "  </thead>\n",
       "  <tbody>\n",
       "    <tr>\n",
       "      <th>55.1</th>\n",
       "      <td>5850.0</td>\n",
       "    </tr>\n",
       "    <tr>\n",
       "      <th>48.6</th>\n",
       "      <td>5800.0</td>\n",
       "    </tr>\n",
       "    <tr>\n",
       "      <th>54.3</th>\n",
       "      <td>5650.0</td>\n",
       "    </tr>\n",
       "    <tr>\n",
       "      <th>51.1</th>\n",
       "      <td>5625.0</td>\n",
       "    </tr>\n",
       "    <tr>\n",
       "      <th>52.1</th>\n",
       "      <td>5550.0</td>\n",
       "    </tr>\n",
       "    <tr>\n",
       "      <th>...</th>\n",
       "      <td>...</td>\n",
       "    </tr>\n",
       "    <tr>\n",
       "      <th>38.8</th>\n",
       "      <td>3275.0</td>\n",
       "    </tr>\n",
       "    <tr>\n",
       "      <th>51.5</th>\n",
       "      <td>3250.0</td>\n",
       "    </tr>\n",
       "    <tr>\n",
       "      <th>37.7</th>\n",
       "      <td>3075.0</td>\n",
       "    </tr>\n",
       "    <tr>\n",
       "      <th>37.0</th>\n",
       "      <td>3000.0</td>\n",
       "    </tr>\n",
       "    <tr>\n",
       "      <th>46.9</th>\n",
       "      <td>2700.0</td>\n",
       "    </tr>\n",
       "  </tbody>\n",
       "</table>\n",
       "<p>87 rows × 1 columns</p>\n",
       "</div>"
      ],
      "text/plain": [
       "                    Body Mass (g)\n",
       "Culmen Length (mm)               \n",
       "55.1                       5850.0\n",
       "48.6                       5800.0\n",
       "54.3                       5650.0\n",
       "51.1                       5625.0\n",
       "52.1                       5550.0\n",
       "...                           ...\n",
       "38.8                       3275.0\n",
       "51.5                       3250.0\n",
       "37.7                       3075.0\n",
       "37.0                       3000.0\n",
       "46.9                       2700.0\n",
       "\n",
       "[87 rows x 1 columns]"
      ]
     },
     "execution_count": 106,
     "metadata": {},
     "output_type": "execute_result"
    }
   ],
   "source": [
    "df_train[['Culmen Length (mm)', 'Body Mass (g)']].groupby(['Culmen Length (mm)'], as_index=True).mean().sort_values(by='Body Mass (g)', ascending=False)"
   ]
  },
  {
   "cell_type": "code",
   "execution_count": 107,
   "id": "8fec5dba",
   "metadata": {
    "ExecuteTime": {
     "end_time": "2022-01-04T10:36:43.282877Z",
     "start_time": "2022-01-04T10:36:43.115635Z"
    }
   },
   "outputs": [
    {
     "data": {
      "text/plain": [
       "<AxesSubplot:xlabel='Culmen Length (mm)'>"
      ]
     },
     "execution_count": 107,
     "metadata": {},
     "output_type": "execute_result"
    },
    {
     "data": {
      "image/png": "[encoded data removed]",
      "text/plain": [
       "<Figure size 864x432 with 1 Axes>"
      ]
     },
     "metadata": {
      "needs_background": "light"
     },
     "output_type": "display_data"
    }
   ],
   "source": [
    "df_train[['Culmen Length (mm)', 'Body Mass (g)']].groupby(['Culmen Length (mm)'], as_index=True).mean().plot(figsize=(12,6))"
   ]
  },
  {
   "cell_type": "markdown",
   "id": "dc328d3a",
   "metadata": {},
   "source": [
    "- 부리의 가로 길이가 길수록 뚜렷하게 몸무게가 증가한다고 말할 수는 없지만, 어느정도 증가하는 경향을 가지고 있으므로 변수로 사용하는것이 좋을것 같습니다."
   ]
  },
  {
   "cell_type": "markdown",
   "id": "53c0e2d9",
   "metadata": {},
   "source": [
    "## Culmen Depth (mm) : 펭귄 옆모습 기준 부리의 세로 길이"
   ]
  },
  {
   "cell_type": "code",
   "execution_count": 108,
   "id": "92a1fe62",
   "metadata": {
    "ExecuteTime": {
     "end_time": "2022-01-04T10:36:43.297931Z",
     "start_time": "2022-01-04T10:36:43.283899Z"
    }
   },
   "outputs": [
    {
     "data": {
      "text/html": [
       "<div>\n",
       "<style scoped>\n",
       "    .dataframe tbody tr th:only-of-type {\n",
       "        vertical-align: middle;\n",
       "    }\n",
       "\n",
       "    .dataframe tbody tr th {\n",
       "        vertical-align: top;\n",
       "    }\n",
       "\n",
       "    .dataframe thead th {\n",
       "        text-align: right;\n",
       "    }\n",
       "</style>\n",
       "<table border=\"1\" class=\"dataframe\">\n",
       "  <thead>\n",
       "    <tr style=\"text-align: right;\">\n",
       "      <th></th>\n",
       "      <th>Body Mass (g)</th>\n",
       "    </tr>\n",
       "    <tr>\n",
       "      <th>Culmen Depth (mm)</th>\n",
       "      <th></th>\n",
       "    </tr>\n",
       "  </thead>\n",
       "  <tbody>\n",
       "    <tr>\n",
       "      <th>16.3</th>\n",
       "      <td>6000.000000</td>\n",
       "    </tr>\n",
       "    <tr>\n",
       "      <th>15.3</th>\n",
       "      <td>5550.000000</td>\n",
       "    </tr>\n",
       "    <tr>\n",
       "      <th>15.8</th>\n",
       "      <td>5500.000000</td>\n",
       "    </tr>\n",
       "    <tr>\n",
       "      <th>15.2</th>\n",
       "      <td>5475.000000</td>\n",
       "    </tr>\n",
       "    <tr>\n",
       "      <th>15.9</th>\n",
       "      <td>5450.000000</td>\n",
       "    </tr>\n",
       "    <tr>\n",
       "      <th>15.7</th>\n",
       "      <td>5400.000000</td>\n",
       "    </tr>\n",
       "    <tr>\n",
       "      <th>14.8</th>\n",
       "      <td>5200.000000</td>\n",
       "    </tr>\n",
       "    <tr>\n",
       "      <th>16.0</th>\n",
       "      <td>5106.250000</td>\n",
       "    </tr>\n",
       "    <tr>\n",
       "      <th>13.3</th>\n",
       "      <td>5100.000000</td>\n",
       "    </tr>\n",
       "    <tr>\n",
       "      <th>15.4</th>\n",
       "      <td>5050.000000</td>\n",
       "    </tr>\n",
       "    <tr>\n",
       "      <th>15.6</th>\n",
       "      <td>5000.000000</td>\n",
       "    </tr>\n",
       "    <tr>\n",
       "      <th>15.0</th>\n",
       "      <td>4937.500000</td>\n",
       "    </tr>\n",
       "    <tr>\n",
       "      <th>13.9</th>\n",
       "      <td>4900.000000</td>\n",
       "    </tr>\n",
       "    <tr>\n",
       "      <th>14.7</th>\n",
       "      <td>4775.000000</td>\n",
       "    </tr>\n",
       "    <tr>\n",
       "      <th>14.6</th>\n",
       "      <td>4762.500000</td>\n",
       "    </tr>\n",
       "    <tr>\n",
       "      <th>14.2</th>\n",
       "      <td>4750.000000</td>\n",
       "    </tr>\n",
       "    <tr>\n",
       "      <th>14.5</th>\n",
       "      <td>4700.000000</td>\n",
       "    </tr>\n",
       "    <tr>\n",
       "      <th>19.1</th>\n",
       "      <td>4650.000000</td>\n",
       "    </tr>\n",
       "    <tr>\n",
       "      <th>17.0</th>\n",
       "      <td>4637.500000</td>\n",
       "    </tr>\n",
       "    <tr>\n",
       "      <th>14.0</th>\n",
       "      <td>4575.000000</td>\n",
       "    </tr>\n",
       "    <tr>\n",
       "      <th>16.1</th>\n",
       "      <td>4550.000000</td>\n",
       "    </tr>\n",
       "    <tr>\n",
       "      <th>14.4</th>\n",
       "      <td>4525.000000</td>\n",
       "    </tr>\n",
       "    <tr>\n",
       "      <th>20.0</th>\n",
       "      <td>4508.333333</td>\n",
       "    </tr>\n",
       "    <tr>\n",
       "      <th>19.9</th>\n",
       "      <td>4500.000000</td>\n",
       "    </tr>\n",
       "    <tr>\n",
       "      <th>13.2</th>\n",
       "      <td>4500.000000</td>\n",
       "    </tr>\n",
       "    <tr>\n",
       "      <th>16.5</th>\n",
       "      <td>4450.000000</td>\n",
       "    </tr>\n",
       "    <tr>\n",
       "      <th>14.1</th>\n",
       "      <td>4412.500000</td>\n",
       "    </tr>\n",
       "    <tr>\n",
       "      <th>19.6</th>\n",
       "      <td>4300.000000</td>\n",
       "    </tr>\n",
       "    <tr>\n",
       "      <th>20.2</th>\n",
       "      <td>4250.000000</td>\n",
       "    </tr>\n",
       "    <tr>\n",
       "      <th>18.2</th>\n",
       "      <td>4225.000000</td>\n",
       "    </tr>\n",
       "    <tr>\n",
       "      <th>21.1</th>\n",
       "      <td>4150.000000</td>\n",
       "    </tr>\n",
       "    <tr>\n",
       "      <th>13.5</th>\n",
       "      <td>4150.000000</td>\n",
       "    </tr>\n",
       "    <tr>\n",
       "      <th>17.3</th>\n",
       "      <td>4129.166667</td>\n",
       "    </tr>\n",
       "    <tr>\n",
       "      <th>17.1</th>\n",
       "      <td>4066.666667</td>\n",
       "    </tr>\n",
       "    <tr>\n",
       "      <th>18.8</th>\n",
       "      <td>4025.000000</td>\n",
       "    </tr>\n",
       "    <tr>\n",
       "      <th>18.9</th>\n",
       "      <td>3975.000000</td>\n",
       "    </tr>\n",
       "    <tr>\n",
       "      <th>18.4</th>\n",
       "      <td>3900.000000</td>\n",
       "    </tr>\n",
       "    <tr>\n",
       "      <th>19.5</th>\n",
       "      <td>3883.333333</td>\n",
       "    </tr>\n",
       "    <tr>\n",
       "      <th>19.0</th>\n",
       "      <td>3875.000000</td>\n",
       "    </tr>\n",
       "    <tr>\n",
       "      <th>18.5</th>\n",
       "      <td>3825.000000</td>\n",
       "    </tr>\n",
       "    <tr>\n",
       "      <th>17.8</th>\n",
       "      <td>3816.666667</td>\n",
       "    </tr>\n",
       "    <tr>\n",
       "      <th>17.9</th>\n",
       "      <td>3808.333333</td>\n",
       "    </tr>\n",
       "    <tr>\n",
       "      <th>17.6</th>\n",
       "      <td>3800.000000</td>\n",
       "    </tr>\n",
       "    <tr>\n",
       "      <th>17.5</th>\n",
       "      <td>3775.000000</td>\n",
       "    </tr>\n",
       "    <tr>\n",
       "      <th>20.5</th>\n",
       "      <td>3775.000000</td>\n",
       "    </tr>\n",
       "    <tr>\n",
       "      <th>17.2</th>\n",
       "      <td>3750.000000</td>\n",
       "    </tr>\n",
       "    <tr>\n",
       "      <th>18.3</th>\n",
       "      <td>3737.500000</td>\n",
       "    </tr>\n",
       "    <tr>\n",
       "      <th>18.6</th>\n",
       "      <td>3733.333333</td>\n",
       "    </tr>\n",
       "    <tr>\n",
       "      <th>19.4</th>\n",
       "      <td>3712.500000</td>\n",
       "    </tr>\n",
       "    <tr>\n",
       "      <th>16.8</th>\n",
       "      <td>3700.000000</td>\n",
       "    </tr>\n",
       "    <tr>\n",
       "      <th>20.6</th>\n",
       "      <td>3650.000000</td>\n",
       "    </tr>\n",
       "    <tr>\n",
       "      <th>18.1</th>\n",
       "      <td>3591.666667</td>\n",
       "    </tr>\n",
       "    <tr>\n",
       "      <th>20.3</th>\n",
       "      <td>3550.000000</td>\n",
       "    </tr>\n",
       "    <tr>\n",
       "      <th>18.7</th>\n",
       "      <td>3512.500000</td>\n",
       "    </tr>\n",
       "    <tr>\n",
       "      <th>16.2</th>\n",
       "      <td>3350.000000</td>\n",
       "    </tr>\n",
       "    <tr>\n",
       "      <th>19.3</th>\n",
       "      <td>3300.000000</td>\n",
       "    </tr>\n",
       "    <tr>\n",
       "      <th>16.9</th>\n",
       "      <td>3000.000000</td>\n",
       "    </tr>\n",
       "    <tr>\n",
       "      <th>16.6</th>\n",
       "      <td>2700.000000</td>\n",
       "    </tr>\n",
       "  </tbody>\n",
       "</table>\n",
       "</div>"
      ],
      "text/plain": [
       "                   Body Mass (g)\n",
       "Culmen Depth (mm)               \n",
       "16.3                 6000.000000\n",
       "15.3                 5550.000000\n",
       "15.8                 5500.000000\n",
       "15.2                 5475.000000\n",
       "15.9                 5450.000000\n",
       "15.7                 5400.000000\n",
       "14.8                 5200.000000\n",
       "16.0                 5106.250000\n",
       "13.3                 5100.000000\n",
       "15.4                 5050.000000\n",
       "15.6                 5000.000000\n",
       "15.0                 4937.500000\n",
       "13.9                 4900.000000\n",
       "14.7                 4775.000000\n",
       "14.6                 4762.500000\n",
       "14.2                 4750.000000\n",
       "14.5                 4700.000000\n",
       "19.1                 4650.000000\n",
       "17.0                 4637.500000\n",
       "14.0                 4575.000000\n",
       "16.1                 4550.000000\n",
       "14.4                 4525.000000\n",
       "20.0                 4508.333333\n",
       "19.9                 4500.000000\n",
       "13.2                 4500.000000\n",
       "16.5                 4450.000000\n",
       "14.1                 4412.500000\n",
       "19.6                 4300.000000\n",
       "20.2                 4250.000000\n",
       "18.2                 4225.000000\n",
       "21.1                 4150.000000\n",
       "13.5                 4150.000000\n",
       "17.3                 4129.166667\n",
       "17.1                 4066.666667\n",
       "18.8                 4025.000000\n",
       "18.9                 3975.000000\n",
       "18.4                 3900.000000\n",
       "19.5                 3883.333333\n",
       "19.0                 3875.000000\n",
       "18.5                 3825.000000\n",
       "17.8                 3816.666667\n",
       "17.9                 3808.333333\n",
       "17.6                 3800.000000\n",
       "17.5                 3775.000000\n",
       "20.5                 3775.000000\n",
       "17.2                 3750.000000\n",
       "18.3                 3737.500000\n",
       "18.6                 3733.333333\n",
       "19.4                 3712.500000\n",
       "16.8                 3700.000000\n",
       "20.6                 3650.000000\n",
       "18.1                 3591.666667\n",
       "20.3                 3550.000000\n",
       "18.7                 3512.500000\n",
       "16.2                 3350.000000\n",
       "19.3                 3300.000000\n",
       "16.9                 3000.000000\n",
       "16.6                 2700.000000"
      ]
     },
     "execution_count": 108,
     "metadata": {},
     "output_type": "execute_result"
    }
   ],
   "source": [
    "df_train[['Culmen Depth (mm)', 'Body Mass (g)']].groupby(['Culmen Depth (mm)'], as_index=True).mean().sort_values(by='Body Mass (g)', ascending=False)"
   ]
  },
  {
   "cell_type": "code",
   "execution_count": 109,
   "id": "90f17a36",
   "metadata": {
    "ExecuteTime": {
     "end_time": "2022-01-04T10:36:43.434719Z",
     "start_time": "2022-01-04T10:36:43.299246Z"
    }
   },
   "outputs": [
    {
     "data": {
      "text/plain": [
       "<AxesSubplot:xlabel='Culmen Depth (mm)'>"
      ]
     },
     "execution_count": 109,
     "metadata": {},
     "output_type": "execute_result"
    },
    {
     "data": {
      "image/png": "[encoded data removed]",
      "text/plain": [
       "<Figure size 864x432 with 1 Axes>"
      ]
     },
     "metadata": {
      "needs_background": "light"
     },
     "output_type": "display_data"
    }
   ],
   "source": [
    "df_train[['Culmen Depth (mm)', 'Body Mass (g)']].groupby(['Culmen Depth (mm)'], as_index=True).mean().plot(figsize=(12,6))"
   ]
  },
  {
   "cell_type": "markdown",
   "id": "201b3455",
   "metadata": {},
   "source": [
    "- 부리의 세로 길이는 뚜렷한 선형의 관계를 가지고 있지 않다."
   ]
  },
  {
   "cell_type": "markdown",
   "id": "c4544448",
   "metadata": {},
   "source": [
    "## Flipper Length (mm) : 펭귄의 팔(날개) 길이"
   ]
  },
  {
   "cell_type": "code",
   "execution_count": 110,
   "id": "dfe1a4ee",
   "metadata": {
    "ExecuteTime": {
     "end_time": "2022-01-04T10:36:43.450174Z",
     "start_time": "2022-01-04T10:36:43.436142Z"
    }
   },
   "outputs": [
    {
     "data": {
      "text/html": [
       "<div>\n",
       "<style scoped>\n",
       "    .dataframe tbody tr th:only-of-type {\n",
       "        vertical-align: middle;\n",
       "    }\n",
       "\n",
       "    .dataframe tbody tr th {\n",
       "        vertical-align: top;\n",
       "    }\n",
       "\n",
       "    .dataframe thead th {\n",
       "        text-align: right;\n",
       "    }\n",
       "</style>\n",
       "<table border=\"1\" class=\"dataframe\">\n",
       "  <thead>\n",
       "    <tr style=\"text-align: right;\">\n",
       "      <th></th>\n",
       "      <th>Body Mass (g)</th>\n",
       "    </tr>\n",
       "    <tr>\n",
       "      <th>Flipper Length (mm)</th>\n",
       "      <th></th>\n",
       "    </tr>\n",
       "  </thead>\n",
       "  <tbody>\n",
       "    <tr>\n",
       "      <th>230</th>\n",
       "      <td>5733.333333</td>\n",
       "    </tr>\n",
       "    <tr>\n",
       "      <th>231</th>\n",
       "      <td>5650.000000</td>\n",
       "    </tr>\n",
       "    <tr>\n",
       "      <th>221</th>\n",
       "      <td>5650.000000</td>\n",
       "    </tr>\n",
       "    <tr>\n",
       "      <th>222</th>\n",
       "      <td>5550.000000</td>\n",
       "    </tr>\n",
       "    <tr>\n",
       "      <th>228</th>\n",
       "      <td>5500.000000</td>\n",
       "    </tr>\n",
       "    <tr>\n",
       "      <th>224</th>\n",
       "      <td>5350.000000</td>\n",
       "    </tr>\n",
       "    <tr>\n",
       "      <th>225</th>\n",
       "      <td>5316.666667</td>\n",
       "    </tr>\n",
       "    <tr>\n",
       "      <th>220</th>\n",
       "      <td>5260.000000</td>\n",
       "    </tr>\n",
       "    <tr>\n",
       "      <th>226</th>\n",
       "      <td>5200.000000</td>\n",
       "    </tr>\n",
       "    <tr>\n",
       "      <th>219</th>\n",
       "      <td>5200.000000</td>\n",
       "    </tr>\n",
       "    <tr>\n",
       "      <th>215</th>\n",
       "      <td>5000.000000</td>\n",
       "    </tr>\n",
       "    <tr>\n",
       "      <th>208</th>\n",
       "      <td>4962.500000</td>\n",
       "    </tr>\n",
       "    <tr>\n",
       "      <th>218</th>\n",
       "      <td>4950.000000</td>\n",
       "    </tr>\n",
       "    <tr>\n",
       "      <th>216</th>\n",
       "      <td>4937.500000</td>\n",
       "    </tr>\n",
       "    <tr>\n",
       "      <th>214</th>\n",
       "      <td>4750.000000</td>\n",
       "    </tr>\n",
       "    <tr>\n",
       "      <th>212</th>\n",
       "      <td>4741.666667</td>\n",
       "    </tr>\n",
       "    <tr>\n",
       "      <th>203</th>\n",
       "      <td>4725.000000</td>\n",
       "    </tr>\n",
       "    <tr>\n",
       "      <th>213</th>\n",
       "      <td>4716.666667</td>\n",
       "    </tr>\n",
       "    <tr>\n",
       "      <th>209</th>\n",
       "      <td>4700.000000</td>\n",
       "    </tr>\n",
       "    <tr>\n",
       "      <th>211</th>\n",
       "      <td>4650.000000</td>\n",
       "    </tr>\n",
       "    <tr>\n",
       "      <th>217</th>\n",
       "      <td>4637.500000</td>\n",
       "    </tr>\n",
       "    <tr>\n",
       "      <th>205</th>\n",
       "      <td>4525.000000</td>\n",
       "    </tr>\n",
       "    <tr>\n",
       "      <th>210</th>\n",
       "      <td>4416.666667</td>\n",
       "    </tr>\n",
       "    <tr>\n",
       "      <th>184</th>\n",
       "      <td>4275.000000</td>\n",
       "    </tr>\n",
       "    <tr>\n",
       "      <th>196</th>\n",
       "      <td>4100.000000</td>\n",
       "    </tr>\n",
       "    <tr>\n",
       "      <th>201</th>\n",
       "      <td>3950.000000</td>\n",
       "    </tr>\n",
       "    <tr>\n",
       "      <th>190</th>\n",
       "      <td>3943.181818</td>\n",
       "    </tr>\n",
       "    <tr>\n",
       "      <th>197</th>\n",
       "      <td>3916.666667</td>\n",
       "    </tr>\n",
       "    <tr>\n",
       "      <th>178</th>\n",
       "      <td>3900.000000</td>\n",
       "    </tr>\n",
       "    <tr>\n",
       "      <th>195</th>\n",
       "      <td>3875.000000</td>\n",
       "    </tr>\n",
       "    <tr>\n",
       "      <th>200</th>\n",
       "      <td>3800.000000</td>\n",
       "    </tr>\n",
       "    <tr>\n",
       "      <th>198</th>\n",
       "      <td>3800.000000</td>\n",
       "    </tr>\n",
       "    <tr>\n",
       "      <th>199</th>\n",
       "      <td>3762.500000</td>\n",
       "    </tr>\n",
       "    <tr>\n",
       "      <th>193</th>\n",
       "      <td>3731.250000</td>\n",
       "    </tr>\n",
       "    <tr>\n",
       "      <th>192</th>\n",
       "      <td>3587.500000</td>\n",
       "    </tr>\n",
       "    <tr>\n",
       "      <th>189</th>\n",
       "      <td>3575.000000</td>\n",
       "    </tr>\n",
       "    <tr>\n",
       "      <th>180</th>\n",
       "      <td>3550.000000</td>\n",
       "    </tr>\n",
       "    <tr>\n",
       "      <th>194</th>\n",
       "      <td>3537.500000</td>\n",
       "    </tr>\n",
       "    <tr>\n",
       "      <th>191</th>\n",
       "      <td>3487.500000</td>\n",
       "    </tr>\n",
       "    <tr>\n",
       "      <th>187</th>\n",
       "      <td>3475.000000</td>\n",
       "    </tr>\n",
       "    <tr>\n",
       "      <th>181</th>\n",
       "      <td>3450.000000</td>\n",
       "    </tr>\n",
       "    <tr>\n",
       "      <th>202</th>\n",
       "      <td>3400.000000</td>\n",
       "    </tr>\n",
       "    <tr>\n",
       "      <th>174</th>\n",
       "      <td>3400.000000</td>\n",
       "    </tr>\n",
       "    <tr>\n",
       "      <th>185</th>\n",
       "      <td>3366.666667</td>\n",
       "    </tr>\n",
       "    <tr>\n",
       "      <th>183</th>\n",
       "      <td>3075.000000</td>\n",
       "    </tr>\n",
       "  </tbody>\n",
       "</table>\n",
       "</div>"
      ],
      "text/plain": [
       "                     Body Mass (g)\n",
       "Flipper Length (mm)               \n",
       "230                    5733.333333\n",
       "231                    5650.000000\n",
       "221                    5650.000000\n",
       "222                    5550.000000\n",
       "228                    5500.000000\n",
       "224                    5350.000000\n",
       "225                    5316.666667\n",
       "220                    5260.000000\n",
       "226                    5200.000000\n",
       "219                    5200.000000\n",
       "215                    5000.000000\n",
       "208                    4962.500000\n",
       "218                    4950.000000\n",
       "216                    4937.500000\n",
       "214                    4750.000000\n",
       "212                    4741.666667\n",
       "203                    4725.000000\n",
       "213                    4716.666667\n",
       "209                    4700.000000\n",
       "211                    4650.000000\n",
       "217                    4637.500000\n",
       "205                    4525.000000\n",
       "210                    4416.666667\n",
       "184                    4275.000000\n",
       "196                    4100.000000\n",
       "201                    3950.000000\n",
       "190                    3943.181818\n",
       "197                    3916.666667\n",
       "178                    3900.000000\n",
       "195                    3875.000000\n",
       "200                    3800.000000\n",
       "198                    3800.000000\n",
       "199                    3762.500000\n",
       "193                    3731.250000\n",
       "192                    3587.500000\n",
       "189                    3575.000000\n",
       "180                    3550.000000\n",
       "194                    3537.500000\n",
       "191                    3487.500000\n",
       "187                    3475.000000\n",
       "181                    3450.000000\n",
       "202                    3400.000000\n",
       "174                    3400.000000\n",
       "185                    3366.666667\n",
       "183                    3075.000000"
      ]
     },
     "execution_count": 110,
     "metadata": {},
     "output_type": "execute_result"
    }
   ],
   "source": [
    "df_train[['Flipper Length (mm)', 'Body Mass (g)']].groupby(['Flipper Length (mm)'], as_index=True).mean().sort_values(by='Body Mass (g)', ascending=False)"
   ]
  },
  {
   "cell_type": "code",
   "execution_count": 111,
   "id": "eb9731db",
   "metadata": {
    "ExecuteTime": {
     "end_time": "2022-01-04T10:36:43.602575Z",
     "start_time": "2022-01-04T10:36:43.451642Z"
    }
   },
   "outputs": [
    {
     "data": {
      "text/plain": [
       "<AxesSubplot:xlabel='Flipper Length (mm)'>"
      ]
     },
     "execution_count": 111,
     "metadata": {},
     "output_type": "execute_result"
    },
    {
     "data": {
      "image/png": "[encoded data removed]",
      "text/plain": [
       "<Figure size 864x432 with 1 Axes>"
      ]
     },
     "metadata": {
      "needs_background": "light"
     },
     "output_type": "display_data"
    }
   ],
   "source": [
    "df_train[['Flipper Length (mm)', 'Body Mass (g)']].groupby(['Flipper Length (mm)'], as_index=True).mean().plot(figsize=(12,6))"
   ]
  },
  {
   "cell_type": "markdown",
   "id": "2604795f",
   "metadata": {},
   "source": [
    "- 팔(날개) 길이 뚜렷한 양의 상관관계를 가지고 있는듯합니다. 모델을 돌릴 때 중요한 변수로 생각해야 할 것 같습니다."
   ]
  },
  {
   "cell_type": "markdown",
   "id": "6787d63f",
   "metadata": {},
   "source": [
    "## Sex : 펭귄의 성별"
   ]
  },
  {
   "cell_type": "code",
   "execution_count": 112,
   "id": "c3d67d0a",
   "metadata": {
    "ExecuteTime": {
     "end_time": "2022-01-04T10:36:43.617406Z",
     "start_time": "2022-01-04T10:36:43.603323Z"
    }
   },
   "outputs": [
    {
     "data": {
      "text/html": [
       "<div>\n",
       "<style scoped>\n",
       "    .dataframe tbody tr th:only-of-type {\n",
       "        vertical-align: middle;\n",
       "    }\n",
       "\n",
       "    .dataframe tbody tr th {\n",
       "        vertical-align: top;\n",
       "    }\n",
       "\n",
       "    .dataframe thead th {\n",
       "        text-align: right;\n",
       "    }\n",
       "</style>\n",
       "<table border=\"1\" class=\"dataframe\">\n",
       "  <thead>\n",
       "    <tr style=\"text-align: right;\">\n",
       "      <th></th>\n",
       "      <th>Body Mass (g)</th>\n",
       "    </tr>\n",
       "    <tr>\n",
       "      <th>Sex</th>\n",
       "      <th></th>\n",
       "    </tr>\n",
       "  </thead>\n",
       "  <tbody>\n",
       "    <tr>\n",
       "      <th>MALE</th>\n",
       "      <td>4659.821429</td>\n",
       "    </tr>\n",
       "    <tr>\n",
       "      <th>FEMALE</th>\n",
       "      <td>4000.909091</td>\n",
       "    </tr>\n",
       "  </tbody>\n",
       "</table>\n",
       "</div>"
      ],
      "text/plain": [
       "        Body Mass (g)\n",
       "Sex                  \n",
       "MALE      4659.821429\n",
       "FEMALE    4000.909091"
      ]
     },
     "execution_count": 112,
     "metadata": {},
     "output_type": "execute_result"
    }
   ],
   "source": [
    "df_train[['Sex', 'Body Mass (g)']].groupby(['Sex'], as_index=True).mean().sort_values(by='Body Mass (g)', ascending=False)"
   ]
  },
  {
   "cell_type": "markdown",
   "id": "97b298ca",
   "metadata": {},
   "source": [
    "- 성별간의 몸무게 차이도 존재하는 것으로 보입니다. 결측치가 있기 때문에 재확인 필요합니다."
   ]
  },
  {
   "cell_type": "markdown",
   "id": "cb4929c1",
   "metadata": {},
   "source": [
    "## Delta 15 N (o/oo)  : 토양에 따라 변화하는 안정 동위원소 15N:14N의 비율"
   ]
  },
  {
   "cell_type": "code",
   "execution_count": 113,
   "id": "395d3204",
   "metadata": {
    "ExecuteTime": {
     "end_time": "2022-01-04T10:36:43.632839Z",
     "start_time": "2022-01-04T10:36:43.618406Z"
    }
   },
   "outputs": [
    {
     "data": {
      "text/html": [
       "<div>\n",
       "<style scoped>\n",
       "    .dataframe tbody tr th:only-of-type {\n",
       "        vertical-align: middle;\n",
       "    }\n",
       "\n",
       "    .dataframe tbody tr th {\n",
       "        vertical-align: top;\n",
       "    }\n",
       "\n",
       "    .dataframe thead th {\n",
       "        text-align: right;\n",
       "    }\n",
       "</style>\n",
       "<table border=\"1\" class=\"dataframe\">\n",
       "  <thead>\n",
       "    <tr style=\"text-align: right;\">\n",
       "      <th></th>\n",
       "      <th>Body Mass (g)</th>\n",
       "    </tr>\n",
       "    <tr>\n",
       "      <th>Delta 15 N (o/oo)</th>\n",
       "      <th></th>\n",
       "    </tr>\n",
       "  </thead>\n",
       "  <tbody>\n",
       "    <tr>\n",
       "      <th>8.27376</th>\n",
       "      <td>6300</td>\n",
       "    </tr>\n",
       "    <tr>\n",
       "      <th>8.40327</th>\n",
       "      <td>6000</td>\n",
       "    </tr>\n",
       "    <tr>\n",
       "      <th>8.08354</th>\n",
       "      <td>5850</td>\n",
       "    </tr>\n",
       "    <tr>\n",
       "      <th>8.59640</th>\n",
       "      <td>5800</td>\n",
       "    </tr>\n",
       "    <tr>\n",
       "      <th>8.38324</th>\n",
       "      <td>5700</td>\n",
       "    </tr>\n",
       "    <tr>\n",
       "      <th>...</th>\n",
       "      <td>...</td>\n",
       "    </tr>\n",
       "    <tr>\n",
       "      <th>8.88098</th>\n",
       "      <td>3275</td>\n",
       "    </tr>\n",
       "    <tr>\n",
       "      <th>9.68950</th>\n",
       "      <td>3250</td>\n",
       "    </tr>\n",
       "    <tr>\n",
       "      <th>9.21510</th>\n",
       "      <td>3075</td>\n",
       "    </tr>\n",
       "    <tr>\n",
       "      <th>9.36392</th>\n",
       "      <td>3000</td>\n",
       "    </tr>\n",
       "    <tr>\n",
       "      <th>9.80589</th>\n",
       "      <td>2700</td>\n",
       "    </tr>\n",
       "  </tbody>\n",
       "</table>\n",
       "<p>111 rows × 1 columns</p>\n",
       "</div>"
      ],
      "text/plain": [
       "                   Body Mass (g)\n",
       "Delta 15 N (o/oo)               \n",
       "8.27376                     6300\n",
       "8.40327                     6000\n",
       "8.08354                     5850\n",
       "8.59640                     5800\n",
       "8.38324                     5700\n",
       "...                          ...\n",
       "8.88098                     3275\n",
       "9.68950                     3250\n",
       "9.21510                     3075\n",
       "9.36392                     3000\n",
       "9.80589                     2700\n",
       "\n",
       "[111 rows x 1 columns]"
      ]
     },
     "execution_count": 113,
     "metadata": {},
     "output_type": "execute_result"
    }
   ],
   "source": [
    "df_train[['Delta 15 N (o/oo)', 'Body Mass (g)']].groupby(['Delta 15 N (o/oo)'], as_index=True).mean().sort_values(by='Body Mass (g)', ascending=False)"
   ]
  },
  {
   "cell_type": "code",
   "execution_count": 114,
   "id": "5fbb5ef5",
   "metadata": {
    "ExecuteTime": {
     "end_time": "2022-01-04T10:36:43.770008Z",
     "start_time": "2022-01-04T10:36:43.634203Z"
    }
   },
   "outputs": [
    {
     "data": {
      "text/plain": [
       "<AxesSubplot:xlabel='Delta 15 N (o/oo)'>"
      ]
     },
     "execution_count": 114,
     "metadata": {},
     "output_type": "execute_result"
    },
    {
     "data": {
      "image/png": "[encoded data removed]",
      "text/plain": [
       "<Figure size 864x432 with 1 Axes>"
      ]
     },
     "metadata": {
      "needs_background": "light"
     },
     "output_type": "display_data"
    }
   ],
   "source": [
    "df_train[['Delta 15 N (o/oo)', 'Body Mass (g)']].groupby(['Delta 15 N (o/oo)'], as_index=True).mean().plot(figsize=(12, 6))"
   ]
  },
  {
   "cell_type": "markdown",
   "id": "77225deb",
   "metadata": {},
   "source": [
    "## Delta 13 C (o/oo) : 먹이에 따라 변화하는 안정 동위원소 13C:12C의 비율"
   ]
  },
  {
   "cell_type": "code",
   "execution_count": 115,
   "id": "bf3be846",
   "metadata": {
    "ExecuteTime": {
     "end_time": "2022-01-04T10:36:43.785417Z",
     "start_time": "2022-01-04T10:36:43.771362Z"
    }
   },
   "outputs": [
    {
     "data": {
      "text/html": [
       "<div>\n",
       "<style scoped>\n",
       "    .dataframe tbody tr th:only-of-type {\n",
       "        vertical-align: middle;\n",
       "    }\n",
       "\n",
       "    .dataframe tbody tr th {\n",
       "        vertical-align: top;\n",
       "    }\n",
       "\n",
       "    .dataframe thead th {\n",
       "        text-align: right;\n",
       "    }\n",
       "</style>\n",
       "<table border=\"1\" class=\"dataframe\">\n",
       "  <thead>\n",
       "    <tr style=\"text-align: right;\">\n",
       "      <th></th>\n",
       "      <th>Body Mass (g)</th>\n",
       "    </tr>\n",
       "    <tr>\n",
       "      <th>Delta 13 C (o/oo)</th>\n",
       "      <th></th>\n",
       "    </tr>\n",
       "  </thead>\n",
       "  <tbody>\n",
       "    <tr>\n",
       "      <th>-25.00169</th>\n",
       "      <td>6300</td>\n",
       "    </tr>\n",
       "    <tr>\n",
       "      <th>-26.76821</th>\n",
       "      <td>6000</td>\n",
       "    </tr>\n",
       "    <tr>\n",
       "      <th>-26.18161</th>\n",
       "      <td>5850</td>\n",
       "    </tr>\n",
       "    <tr>\n",
       "      <th>-26.71199</th>\n",
       "      <td>5800</td>\n",
       "    </tr>\n",
       "    <tr>\n",
       "      <th>-26.84272</th>\n",
       "      <td>5700</td>\n",
       "    </tr>\n",
       "    <tr>\n",
       "      <th>...</th>\n",
       "      <td>...</td>\n",
       "    </tr>\n",
       "    <tr>\n",
       "      <th>-25.89741</th>\n",
       "      <td>3275</td>\n",
       "    </tr>\n",
       "    <tr>\n",
       "      <th>-24.43062</th>\n",
       "      <td>3250</td>\n",
       "    </tr>\n",
       "    <tr>\n",
       "      <th>-26.22530</th>\n",
       "      <td>3075</td>\n",
       "    </tr>\n",
       "    <tr>\n",
       "      <th>-25.01745</th>\n",
       "      <td>3000</td>\n",
       "    </tr>\n",
       "    <tr>\n",
       "      <th>-24.73735</th>\n",
       "      <td>2700</td>\n",
       "    </tr>\n",
       "  </tbody>\n",
       "</table>\n",
       "<p>111 rows × 1 columns</p>\n",
       "</div>"
      ],
      "text/plain": [
       "                   Body Mass (g)\n",
       "Delta 13 C (o/oo)               \n",
       "-25.00169                   6300\n",
       "-26.76821                   6000\n",
       "-26.18161                   5850\n",
       "-26.71199                   5800\n",
       "-26.84272                   5700\n",
       "...                          ...\n",
       "-25.89741                   3275\n",
       "-24.43062                   3250\n",
       "-26.22530                   3075\n",
       "-25.01745                   3000\n",
       "-24.73735                   2700\n",
       "\n",
       "[111 rows x 1 columns]"
      ]
     },
     "execution_count": 115,
     "metadata": {},
     "output_type": "execute_result"
    }
   ],
   "source": [
    "df_train[['Delta 13 C (o/oo)', 'Body Mass (g)']].groupby(['Delta 13 C (o/oo)'], as_index=True).mean().sort_values(by='Body Mass (g)', ascending=False)"
   ]
  },
  {
   "cell_type": "code",
   "execution_count": 116,
   "id": "2e1c0467",
   "metadata": {
    "ExecuteTime": {
     "end_time": "2022-01-04T10:36:43.937262Z",
     "start_time": "2022-01-04T10:36:43.786687Z"
    }
   },
   "outputs": [
    {
     "data": {
      "text/plain": [
       "<AxesSubplot:xlabel='Delta 13 C (o/oo)'>"
      ]
     },
     "execution_count": 116,
     "metadata": {},
     "output_type": "execute_result"
    },
    {
     "data": {
      "image/png": "[encoded data removed]",
      "text/plain": [
       "<Figure size 864x432 with 1 Axes>"
      ]
     },
     "metadata": {
      "needs_background": "light"
     },
     "output_type": "display_data"
    }
   ],
   "source": [
    "df_train[['Delta 13 C (o/oo)', 'Body Mass (g)']].groupby(['Delta 13 C (o/oo)'], as_index=True).mean().plot(figsize=(12,6))"
   ]
  },
  {
   "cell_type": "markdown",
   "id": "3eda5125",
   "metadata": {},
   "source": [
    "- 토양과 먹이에 따라 변화하는 안정 동위원소 비율 모두 별다른 특징을 가지고 있지 않는것으로 보입니다.\n",
    "- 하지만, 결측치가 존재하고 있으므로 결측치를 해결하고 다시 확인해야할 것 같습니다."
   ]
  },
  {
   "cell_type": "markdown",
   "id": "0bdb9084",
   "metadata": {},
   "source": [
    "# Feature engineering"
   ]
  },
  {
   "cell_type": "code",
   "execution_count": 117,
   "id": "e7df21d4",
   "metadata": {
    "ExecuteTime": {
     "end_time": "2022-01-04T10:36:43.952348Z",
     "start_time": "2022-01-04T10:36:43.938552Z"
    }
   },
   "outputs": [
    {
     "name": "stdout",
     "output_type": "stream",
     "text": [
      "<class 'pandas.core.frame.DataFrame'>\n",
      "RangeIndex: 114 entries, 0 to 113\n",
      "Data columns (total 11 columns):\n",
      " #   Column               Non-Null Count  Dtype  \n",
      "---  ------               --------------  -----  \n",
      " 0   id                   114 non-null    int64  \n",
      " 1   Species              114 non-null    object \n",
      " 2   Island               114 non-null    object \n",
      " 3   Clutch Completion    114 non-null    object \n",
      " 4   Culmen Length (mm)   114 non-null    float64\n",
      " 5   Culmen Depth (mm)    114 non-null    float64\n",
      " 6   Flipper Length (mm)  114 non-null    int64  \n",
      " 7   Sex                  111 non-null    object \n",
      " 8   Delta 15 N (o/oo)    111 non-null    float64\n",
      " 9   Delta 13 C (o/oo)    111 non-null    float64\n",
      " 10  Body Mass (g)        114 non-null    int64  \n",
      "dtypes: float64(4), int64(3), object(4)\n",
      "memory usage: 9.9+ KB\n"
     ]
    }
   ],
   "source": [
    "df_train.info()"
   ]
  },
  {
   "cell_type": "markdown",
   "id": "58d114b1",
   "metadata": {},
   "source": [
    "- Species, Island,Clutch Completion, Sex를 str로 변환시켜 줍니다."
   ]
  },
  {
   "cell_type": "markdown",
   "id": "ad6eecf5",
   "metadata": {},
   "source": [
    "## Change Species"
   ]
  },
  {
   "cell_type": "code",
   "execution_count": 118,
   "id": "8cbe4d80",
   "metadata": {
    "ExecuteTime": {
     "end_time": "2022-01-04T10:36:43.967620Z",
     "start_time": "2022-01-04T10:36:43.954752Z"
    }
   },
   "outputs": [
    {
     "data": {
      "text/plain": [
       "Gentoo penguin (Pygoscelis papua)            48\n",
       "Adelie Penguin (Pygoscelis adeliae)          41\n",
       "Chinstrap penguin (Pygoscelis antarctica)    25\n",
       "Name: Species, dtype: int64"
      ]
     },
     "execution_count": 118,
     "metadata": {},
     "output_type": "execute_result"
    }
   ],
   "source": [
    "df_train['Species'].value_counts()"
   ]
  },
  {
   "cell_type": "code",
   "execution_count": 119,
   "id": "0464074e",
   "metadata": {
    "ExecuteTime": {
     "end_time": "2022-01-04T10:36:43.987597Z",
     "start_time": "2022-01-04T10:36:43.968630Z"
    }
   },
   "outputs": [],
   "source": [
    "df_train['Species'].replace(['Gentoo penguin (Pygoscelis papua)','Chinstrap penguin (Pygoscelis antarctica)', 'Adelie Penguin (Pygoscelis adeliae)'],[0,1,2],inplace=True)\n",
    "df_test['Species'].replace(['Gentoo penguin (Pygoscelis papua)','Chinstrap penguin (Pygoscelis antarctica)', 'Adelie Penguin (Pygoscelis adeliae)'],[0,1,2],inplace=True)"
   ]
  },
  {
   "cell_type": "markdown",
   "id": "9f592462",
   "metadata": {},
   "source": [
    "## Change Island"
   ]
  },
  {
   "cell_type": "code",
   "execution_count": 120,
   "id": "dc34f364",
   "metadata": {
    "ExecuteTime": {
     "end_time": "2022-01-04T10:36:43.998209Z",
     "start_time": "2022-01-04T10:36:43.989604Z"
    }
   },
   "outputs": [
    {
     "data": {
      "text/plain": [
       "Biscoe       57\n",
       "Dream        44\n",
       "Torgersen    13\n",
       "Name: Island, dtype: int64"
      ]
     },
     "execution_count": 120,
     "metadata": {},
     "output_type": "execute_result"
    }
   ],
   "source": [
    "df_train['Island'].value_counts()"
   ]
  },
  {
   "cell_type": "code",
   "execution_count": 121,
   "id": "6e8adeb4",
   "metadata": {
    "ExecuteTime": {
     "end_time": "2022-01-04T10:36:44.013185Z",
     "start_time": "2022-01-04T10:36:43.999210Z"
    }
   },
   "outputs": [],
   "source": [
    "df_train['Island'].replace(['Biscoe','Dream', 'Torgersen'],[0,1,2],inplace=True)\n",
    "df_test['Island'].replace(['Biscoe','Dream', 'Torgersen'],[0,1,2],inplace=True)"
   ]
  },
  {
   "cell_type": "markdown",
   "id": "abe6fe2d",
   "metadata": {},
   "source": [
    "## Change Clutch Completion"
   ]
  },
  {
   "cell_type": "code",
   "execution_count": 122,
   "id": "082bc00a",
   "metadata": {
    "ExecuteTime": {
     "end_time": "2022-01-04T10:36:44.028532Z",
     "start_time": "2022-01-04T10:36:44.014192Z"
    }
   },
   "outputs": [
    {
     "data": {
      "text/plain": [
       "Yes    102\n",
       "No      12\n",
       "Name: Clutch Completion, dtype: int64"
      ]
     },
     "execution_count": 122,
     "metadata": {},
     "output_type": "execute_result"
    }
   ],
   "source": [
    "df_train['Clutch Completion'].value_counts()"
   ]
  },
  {
   "cell_type": "code",
   "execution_count": 123,
   "id": "377b9d24",
   "metadata": {
    "ExecuteTime": {
     "end_time": "2022-01-04T10:36:44.044123Z",
     "start_time": "2022-01-04T10:36:44.029879Z"
    }
   },
   "outputs": [],
   "source": [
    "df_train['Clutch Completion'].replace(['No','Yes'],[0,1],inplace=True)\n",
    "df_test['Clutch Completion'].replace(['No','Yes'],[0,1],inplace=True)"
   ]
  },
  {
   "cell_type": "markdown",
   "id": "5efc7222",
   "metadata": {},
   "source": [
    "## Change Sex"
   ]
  },
  {
   "cell_type": "code",
   "execution_count": 124,
   "id": "c3f1d2f6",
   "metadata": {
    "ExecuteTime": {
     "end_time": "2022-01-04T10:36:44.058909Z",
     "start_time": "2022-01-04T10:36:44.045130Z"
    }
   },
   "outputs": [
    {
     "data": {
      "text/plain": [
       "MALE      56\n",
       "FEMALE    55\n",
       "Name: Sex, dtype: int64"
      ]
     },
     "execution_count": 124,
     "metadata": {},
     "output_type": "execute_result"
    }
   ],
   "source": [
    "df_train['Sex'].value_counts()"
   ]
  },
  {
   "cell_type": "code",
   "execution_count": 125,
   "id": "546c9f1d",
   "metadata": {
    "ExecuteTime": {
     "end_time": "2022-01-04T10:36:44.073986Z",
     "start_time": "2022-01-04T10:36:44.059908Z"
    }
   },
   "outputs": [],
   "source": [
    "df_train['Sex'].replace(['MALE','FEMALE'],[0,1],inplace=True)\n",
    "df_test['Sex'].replace(['MALE','FEMALE'],[0,1],inplace=True)"
   ]
  },
  {
   "cell_type": "code",
   "execution_count": 126,
   "id": "734a46da",
   "metadata": {
    "ExecuteTime": {
     "end_time": "2022-01-04T10:36:44.089419Z",
     "start_time": "2022-01-04T10:36:44.075369Z"
    }
   },
   "outputs": [
    {
     "data": {
      "text/html": [
       "<div>\n",
       "<style scoped>\n",
       "    .dataframe tbody tr th:only-of-type {\n",
       "        vertical-align: middle;\n",
       "    }\n",
       "\n",
       "    .dataframe tbody tr th {\n",
       "        vertical-align: top;\n",
       "    }\n",
       "\n",
       "    .dataframe thead th {\n",
       "        text-align: right;\n",
       "    }\n",
       "</style>\n",
       "<table border=\"1\" class=\"dataframe\">\n",
       "  <thead>\n",
       "    <tr style=\"text-align: right;\">\n",
       "      <th></th>\n",
       "      <th>id</th>\n",
       "      <th>Species</th>\n",
       "      <th>Island</th>\n",
       "      <th>Clutch Completion</th>\n",
       "      <th>Culmen Length (mm)</th>\n",
       "      <th>Culmen Depth (mm)</th>\n",
       "      <th>Flipper Length (mm)</th>\n",
       "      <th>Sex</th>\n",
       "      <th>Delta 15 N (o/oo)</th>\n",
       "      <th>Delta 13 C (o/oo)</th>\n",
       "      <th>Body Mass (g)</th>\n",
       "    </tr>\n",
       "  </thead>\n",
       "  <tbody>\n",
       "    <tr>\n",
       "      <th>0</th>\n",
       "      <td>0</td>\n",
       "      <td>0</td>\n",
       "      <td>0</td>\n",
       "      <td>1</td>\n",
       "      <td>50.0</td>\n",
       "      <td>15.3</td>\n",
       "      <td>220</td>\n",
       "      <td>0.0</td>\n",
       "      <td>8.30515</td>\n",
       "      <td>-25.19017</td>\n",
       "      <td>5550</td>\n",
       "    </tr>\n",
       "    <tr>\n",
       "      <th>1</th>\n",
       "      <td>1</td>\n",
       "      <td>1</td>\n",
       "      <td>1</td>\n",
       "      <td>0</td>\n",
       "      <td>49.5</td>\n",
       "      <td>19.0</td>\n",
       "      <td>200</td>\n",
       "      <td>0.0</td>\n",
       "      <td>9.63074</td>\n",
       "      <td>-24.34684</td>\n",
       "      <td>3800</td>\n",
       "    </tr>\n",
       "    <tr>\n",
       "      <th>2</th>\n",
       "      <td>2</td>\n",
       "      <td>0</td>\n",
       "      <td>0</td>\n",
       "      <td>1</td>\n",
       "      <td>45.1</td>\n",
       "      <td>14.4</td>\n",
       "      <td>210</td>\n",
       "      <td>1.0</td>\n",
       "      <td>8.51951</td>\n",
       "      <td>-27.01854</td>\n",
       "      <td>4400</td>\n",
       "    </tr>\n",
       "    <tr>\n",
       "      <th>3</th>\n",
       "      <td>3</td>\n",
       "      <td>0</td>\n",
       "      <td>0</td>\n",
       "      <td>1</td>\n",
       "      <td>44.5</td>\n",
       "      <td>14.7</td>\n",
       "      <td>214</td>\n",
       "      <td>1.0</td>\n",
       "      <td>8.20106</td>\n",
       "      <td>-26.16524</td>\n",
       "      <td>4850</td>\n",
       "    </tr>\n",
       "    <tr>\n",
       "      <th>4</th>\n",
       "      <td>4</td>\n",
       "      <td>0</td>\n",
       "      <td>0</td>\n",
       "      <td>0</td>\n",
       "      <td>49.6</td>\n",
       "      <td>16.0</td>\n",
       "      <td>225</td>\n",
       "      <td>0.0</td>\n",
       "      <td>8.38324</td>\n",
       "      <td>-26.84272</td>\n",
       "      <td>5700</td>\n",
       "    </tr>\n",
       "  </tbody>\n",
       "</table>\n",
       "</div>"
      ],
      "text/plain": [
       "   id  Species  Island  Clutch Completion  Culmen Length (mm)  \\\n",
       "0   0        0       0                  1                50.0   \n",
       "1   1        1       1                  0                49.5   \n",
       "2   2        0       0                  1                45.1   \n",
       "3   3        0       0                  1                44.5   \n",
       "4   4        0       0                  0                49.6   \n",
       "\n",
       "   Culmen Depth (mm)  Flipper Length (mm)  Sex  Delta 15 N (o/oo)  \\\n",
       "0               15.3                  220  0.0            8.30515   \n",
       "1               19.0                  200  0.0            9.63074   \n",
       "2               14.4                  210  1.0            8.51951   \n",
       "3               14.7                  214  1.0            8.20106   \n",
       "4               16.0                  225  0.0            8.38324   \n",
       "\n",
       "   Delta 13 C (o/oo)  Body Mass (g)  \n",
       "0          -25.19017           5550  \n",
       "1          -24.34684           3800  \n",
       "2          -27.01854           4400  \n",
       "3          -26.16524           4850  \n",
       "4          -26.84272           5700  "
      ]
     },
     "execution_count": 126,
     "metadata": {},
     "output_type": "execute_result"
    }
   ],
   "source": [
    "df_train.head()"
   ]
  },
  {
   "cell_type": "markdown",
   "id": "cbeb5cda",
   "metadata": {},
   "source": [
    "## Heat map"
   ]
  },
  {
   "cell_type": "markdown",
   "id": "ec0ebdb7",
   "metadata": {},
   "source": [
    "- 우리는 여러 feature 를 가지고 있으니 이를 하나의 maxtrix 형태로 보면 편할 텐데, 이를 heatmap plot 이라고 하며, dataframe 의 corr() 메소드와 seaborn 을 가지고 편하게 그릴 수 있습니다."
   ]
  },
  {
   "cell_type": "code",
   "execution_count": 127,
   "id": "52eb3626",
   "metadata": {
    "ExecuteTime": {
     "end_time": "2022-01-04T10:36:44.837336Z",
     "start_time": "2022-01-04T10:36:44.090216Z"
    }
   },
   "outputs": [
    {
     "data": {
      "text/plain": [
       "<AxesSubplot:title={'center':'Penguin Correlation of Features'}>"
      ]
     },
     "execution_count": 127,
     "metadata": {},
     "output_type": "execute_result"
    },
    {
     "data": {
      "image/png": "[encoded data removed]",
      "text/plain": [
       "<Figure size 864x720 with 2 Axes>"
      ]
     },
     "metadata": {
      "needs_background": "light"
     },
     "output_type": "display_data"
    }
   ],
   "source": [
    "heatmap_data = df_train[['Body Mass (g)','Species', 'Island', 'Clutch Completion', 'Culmen Length (mm)', 'Culmen Depth (mm)', 'Flipper Length (mm)', 'Sex', 'Delta 15 N (o/oo)','Delta 13 C (o/oo)']] \n",
    "\n",
    "colormap = plt.cm.RdBu\n",
    "plt.figure(figsize=(12, 10))\n",
    "plt.title('Penguin Correlation of Features', y=1.05, size=15)\n",
    "sns.heatmap(heatmap_data.astype(float).corr(), linewidths=0.1, vmax=1.0,\n",
    "           square=True, cmap=colormap, linecolor='white', annot=True, annot_kws={\"size\": 16})\n"
   ]
  },
  {
   "cell_type": "markdown",
   "id": "97e770d2",
   "metadata": {},
   "source": [
    "- EDA에서 살펴봤듯이 Body Mass와  Clutch Completion에 상관관계가 약한 것을 알수있습니다.\n",
    "- 모델을 세울때 제거해도 될것같습니다."
   ]
  },
  {
   "cell_type": "markdown",
   "id": "9deb7698",
   "metadata": {},
   "source": [
    "## Fill Null"
   ]
  },
  {
   "cell_type": "markdown",
   "id": "737215cd",
   "metadata": {},
   "source": [
    "- 1.1에서 train,test데이터 둘다 Sex, Delta 15 N, Delta 13 C 에서 Null값이 있는것을 확인할 수 있습니다.\n",
    "- test데이터에는 Body Mass에 대한 데이터는 없습니다."
   ]
  },
  {
   "cell_type": "markdown",
   "id": "c0b69b8d",
   "metadata": {},
   "source": [
    "### Fill Null in Sex"
   ]
  },
  {
   "cell_type": "code",
   "execution_count": 128,
   "id": "e0f35c3f",
   "metadata": {
    "ExecuteTime": {
     "end_time": "2022-01-04T10:36:44.852862Z",
     "start_time": "2022-01-04T10:36:44.838726Z"
    }
   },
   "outputs": [
    {
     "data": {
      "text/plain": [
       "4327.850877192983"
      ]
     },
     "execution_count": 128,
     "metadata": {},
     "output_type": "execute_result"
    }
   ],
   "source": [
    "df_train['Body Mass (g)'].mean()"
   ]
  },
  {
   "cell_type": "code",
   "execution_count": 129,
   "id": "0a23c42a",
   "metadata": {
    "ExecuteTime": {
     "end_time": "2022-01-04T10:36:44.868467Z",
     "start_time": "2022-01-04T10:36:44.854381Z"
    }
   },
   "outputs": [],
   "source": [
    "df_train.loc[(df_train.Sex.isnull())&(df_train['Body Mass (g)'] > 4330),'Sex'] = 0\n",
    "df_train.loc[(df_train.Sex.isnull())&(df_train['Body Mass (g)'] <= 4330),'Sex'] = 1"
   ]
  },
  {
   "cell_type": "markdown",
   "id": "a67f398a",
   "metadata": {},
   "source": [
    "- Test set에는 Body Mass에 대한 데이터가 없기 때문에 Flipper Length의 값에 따라서 비어있는 데이터를 채워줍니다."
   ]
  },
  {
   "cell_type": "code",
   "execution_count": 130,
   "id": "bfdc5139",
   "metadata": {
    "ExecuteTime": {
     "end_time": "2022-01-04T10:36:44.883906Z",
     "start_time": "2022-01-04T10:36:44.869501Z"
    }
   },
   "outputs": [
    {
     "data": {
      "text/plain": [
       "203.05263157894737"
      ]
     },
     "execution_count": 130,
     "metadata": {},
     "output_type": "execute_result"
    }
   ],
   "source": [
    "df_train['Flipper Length (mm)'].mean()"
   ]
  },
  {
   "cell_type": "code",
   "execution_count": 131,
   "id": "9a797886",
   "metadata": {
    "ExecuteTime": {
     "end_time": "2022-01-04T10:36:44.899486Z",
     "start_time": "2022-01-04T10:36:44.885391Z"
    }
   },
   "outputs": [],
   "source": [
    "df_test.loc[(df_test.Sex.isnull())&(df_test['Flipper Length (mm)'] > 205),'Sex'] = 0\n",
    "df_test.loc[(df_test.Sex.isnull())&(df_test['Flipper Length (mm)'] <= 205),'Sex'] = 1"
   ]
  },
  {
   "cell_type": "markdown",
   "id": "0e962e9f",
   "metadata": {},
   "source": [
    "### Fill Null in Delta 15 N (o/oo)"
   ]
  },
  {
   "cell_type": "code",
   "execution_count": 132,
   "id": "1bd21da1",
   "metadata": {
    "ExecuteTime": {
     "end_time": "2022-01-04T10:36:44.914334Z",
     "start_time": "2022-01-04T10:36:44.900523Z"
    }
   },
   "outputs": [
    {
     "data": {
      "text/plain": [
       "8.73763414414414"
      ]
     },
     "execution_count": 132,
     "metadata": {},
     "output_type": "execute_result"
    }
   ],
   "source": [
    "df_train['Delta 15 N (o/oo)'].mean()"
   ]
  },
  {
   "cell_type": "code",
   "execution_count": 133,
   "id": "a8ca3a88",
   "metadata": {
    "ExecuteTime": {
     "end_time": "2022-01-04T10:36:44.929412Z",
     "start_time": "2022-01-04T10:36:44.915342Z"
    }
   },
   "outputs": [
    {
     "data": {
      "text/plain": [
       "8.731226347031962"
      ]
     },
     "execution_count": 133,
     "metadata": {},
     "output_type": "execute_result"
    }
   ],
   "source": [
    "df_test['Delta 15 N (o/oo)'].mean()"
   ]
  },
  {
   "cell_type": "code",
   "execution_count": 134,
   "id": "f03fd0e3",
   "metadata": {
    "ExecuteTime": {
     "end_time": "2022-01-04T10:36:44.944352Z",
     "start_time": "2022-01-04T10:36:44.930413Z"
    }
   },
   "outputs": [],
   "source": [
    "df_train.loc[(df_train['Delta 15 N (o/oo)'].isnull()),'Delta 15 N (o/oo)'] = 8.73763414414414\n",
    "df_test.loc[(df_test['Delta 15 N (o/oo)'].isnull()),'Delta 15 N (o/oo)'] = 8.731226347031962"
   ]
  },
  {
   "cell_type": "markdown",
   "id": "238d4a27",
   "metadata": {},
   "source": [
    "### Fill Null in Delta 13 C (o/oo)"
   ]
  },
  {
   "cell_type": "code",
   "execution_count": 135,
   "id": "529b137e",
   "metadata": {
    "ExecuteTime": {
     "end_time": "2022-01-04T10:36:44.959679Z",
     "start_time": "2022-01-04T10:36:44.945356Z"
    }
   },
   "outputs": [
    {
     "data": {
      "text/plain": [
       "-25.723051081081067"
      ]
     },
     "execution_count": 135,
     "metadata": {},
     "output_type": "execute_result"
    }
   ],
   "source": [
    "df_train['Delta 13 C (o/oo)'].mean()"
   ]
  },
  {
   "cell_type": "code",
   "execution_count": 136,
   "id": "e3537d50",
   "metadata": {
    "ExecuteTime": {
     "end_time": "2022-01-04T10:36:44.975092Z",
     "start_time": "2022-01-04T10:36:44.960134Z"
    }
   },
   "outputs": [
    {
     "data": {
      "text/plain": [
       "-25.667744681818192"
      ]
     },
     "execution_count": 136,
     "metadata": {},
     "output_type": "execute_result"
    }
   ],
   "source": [
    "df_test['Delta 13 C (o/oo)'].mean()"
   ]
  },
  {
   "cell_type": "code",
   "execution_count": 137,
   "id": "c0982556",
   "metadata": {
    "ExecuteTime": {
     "end_time": "2022-01-04T10:36:44.990423Z",
     "start_time": "2022-01-04T10:36:44.975277Z"
    }
   },
   "outputs": [],
   "source": [
    "df_train.loc[(df_train['Delta 13 C (o/oo)'].isnull()),'Delta 13 C (o/oo)'] = -25.723051081081067\n",
    "df_test.loc[(df_test['Delta 13 C (o/oo)'].isnull()),'Delta 13 C (o/oo)'] = -25.667744681818192"
   ]
  },
  {
   "cell_type": "markdown",
   "id": "e3815362",
   "metadata": {},
   "source": [
    "- 결측치가 잘 처리 되었는지 확인해봅시다."
   ]
  },
  {
   "cell_type": "code",
   "execution_count": 138,
   "id": "9ed1b764",
   "metadata": {
    "ExecuteTime": {
     "end_time": "2022-01-04T10:36:45.005341Z",
     "start_time": "2022-01-04T10:36:44.990843Z"
    }
   },
   "outputs": [
    {
     "name": "stdout",
     "output_type": "stream",
     "text": [
      "column :         id\t Percent of NaN value: 0.00%\n",
      "column :    Species\t Percent of NaN value: 0.00%\n",
      "column :     Island\t Percent of NaN value: 0.00%\n",
      "column : Clutch Completion\t Percent of NaN value: 0.00%\n",
      "column : Culmen Length (mm)\t Percent of NaN value: 0.00%\n",
      "column : Culmen Depth (mm)\t Percent of NaN value: 0.00%\n",
      "column : Flipper Length (mm)\t Percent of NaN value: 0.00%\n",
      "column :        Sex\t Percent of NaN value: 0.00%\n",
      "column : Delta 15 N (o/oo)\t Percent of NaN value: 0.00%\n",
      "column : Delta 13 C (o/oo)\t Percent of NaN value: 0.00%\n",
      "column : Body Mass (g)\t Percent of NaN value: 0.00%\n"
     ]
    }
   ],
   "source": [
    "for col in df_train.columns:\n",
    "    msg = 'column : {:>10}\\t Percent of NaN value: {:.2f}%'.format(col, 100 \n",
    "* (df_train[col].isnull().sum() / df_train[col].shape[0]))\n",
    "    print(msg)"
   ]
  },
  {
   "cell_type": "code",
   "execution_count": 139,
   "id": "210f252a",
   "metadata": {
    "ExecuteTime": {
     "end_time": "2022-01-04T10:36:45.020703Z",
     "start_time": "2022-01-04T10:36:45.006769Z"
    }
   },
   "outputs": [
    {
     "name": "stdout",
     "output_type": "stream",
     "text": [
      "column :         id\t Percent of NaN value: 0.00%\n",
      "column :    Species\t Percent of NaN value: 0.00%\n",
      "column :     Island\t Percent of NaN value: 0.00%\n",
      "column : Clutch Completion\t Percent of NaN value: 0.00%\n",
      "column : Culmen Length (mm)\t Percent of NaN value: 0.00%\n",
      "column : Culmen Depth (mm)\t Percent of NaN value: 0.00%\n",
      "column : Flipper Length (mm)\t Percent of NaN value: 0.00%\n",
      "column :        Sex\t Percent of NaN value: 0.00%\n",
      "column : Delta 15 N (o/oo)\t Percent of NaN value: 0.00%\n",
      "column : Delta 13 C (o/oo)\t Percent of NaN value: 0.00%\n"
     ]
    }
   ],
   "source": [
    "for col in df_test.columns:\n",
    "    msg = 'column : {:>10}\\t Percent of NaN value: {:.2f}%'.format(col, 100 \n",
    "* (df_test[col].isnull().sum() / df_test[col].shape[0]))\n",
    "    print(msg)"
   ]
  },
  {
   "cell_type": "code",
   "execution_count": 140,
   "id": "6344c876",
   "metadata": {
    "ExecuteTime": {
     "end_time": "2022-01-04T10:36:45.036168Z",
     "start_time": "2022-01-04T10:36:45.022025Z"
    }
   },
   "outputs": [
    {
     "data": {
      "text/html": [
       "<div>\n",
       "<style scoped>\n",
       "    .dataframe tbody tr th:only-of-type {\n",
       "        vertical-align: middle;\n",
       "    }\n",
       "\n",
       "    .dataframe tbody tr th {\n",
       "        vertical-align: top;\n",
       "    }\n",
       "\n",
       "    .dataframe thead th {\n",
       "        text-align: right;\n",
       "    }\n",
       "</style>\n",
       "<table border=\"1\" class=\"dataframe\">\n",
       "  <thead>\n",
       "    <tr style=\"text-align: right;\">\n",
       "      <th></th>\n",
       "      <th>id</th>\n",
       "      <th>Species</th>\n",
       "      <th>Island</th>\n",
       "      <th>Clutch Completion</th>\n",
       "      <th>Culmen Length (mm)</th>\n",
       "      <th>Culmen Depth (mm)</th>\n",
       "      <th>Flipper Length (mm)</th>\n",
       "      <th>Sex</th>\n",
       "      <th>Delta 15 N (o/oo)</th>\n",
       "      <th>Delta 13 C (o/oo)</th>\n",
       "      <th>Body Mass (g)</th>\n",
       "    </tr>\n",
       "  </thead>\n",
       "  <tbody>\n",
       "    <tr>\n",
       "      <th>0</th>\n",
       "      <td>0</td>\n",
       "      <td>0</td>\n",
       "      <td>0</td>\n",
       "      <td>1</td>\n",
       "      <td>50.0</td>\n",
       "      <td>15.3</td>\n",
       "      <td>220</td>\n",
       "      <td>0.0</td>\n",
       "      <td>8.305150</td>\n",
       "      <td>-25.190170</td>\n",
       "      <td>5550</td>\n",
       "    </tr>\n",
       "    <tr>\n",
       "      <th>1</th>\n",
       "      <td>1</td>\n",
       "      <td>1</td>\n",
       "      <td>1</td>\n",
       "      <td>0</td>\n",
       "      <td>49.5</td>\n",
       "      <td>19.0</td>\n",
       "      <td>200</td>\n",
       "      <td>0.0</td>\n",
       "      <td>9.630740</td>\n",
       "      <td>-24.346840</td>\n",
       "      <td>3800</td>\n",
       "    </tr>\n",
       "    <tr>\n",
       "      <th>2</th>\n",
       "      <td>2</td>\n",
       "      <td>0</td>\n",
       "      <td>0</td>\n",
       "      <td>1</td>\n",
       "      <td>45.1</td>\n",
       "      <td>14.4</td>\n",
       "      <td>210</td>\n",
       "      <td>1.0</td>\n",
       "      <td>8.519510</td>\n",
       "      <td>-27.018540</td>\n",
       "      <td>4400</td>\n",
       "    </tr>\n",
       "    <tr>\n",
       "      <th>3</th>\n",
       "      <td>3</td>\n",
       "      <td>0</td>\n",
       "      <td>0</td>\n",
       "      <td>1</td>\n",
       "      <td>44.5</td>\n",
       "      <td>14.7</td>\n",
       "      <td>214</td>\n",
       "      <td>1.0</td>\n",
       "      <td>8.201060</td>\n",
       "      <td>-26.165240</td>\n",
       "      <td>4850</td>\n",
       "    </tr>\n",
       "    <tr>\n",
       "      <th>4</th>\n",
       "      <td>4</td>\n",
       "      <td>0</td>\n",
       "      <td>0</td>\n",
       "      <td>0</td>\n",
       "      <td>49.6</td>\n",
       "      <td>16.0</td>\n",
       "      <td>225</td>\n",
       "      <td>0.0</td>\n",
       "      <td>8.383240</td>\n",
       "      <td>-26.842720</td>\n",
       "      <td>5700</td>\n",
       "    </tr>\n",
       "    <tr>\n",
       "      <th>...</th>\n",
       "      <td>...</td>\n",
       "      <td>...</td>\n",
       "      <td>...</td>\n",
       "      <td>...</td>\n",
       "      <td>...</td>\n",
       "      <td>...</td>\n",
       "      <td>...</td>\n",
       "      <td>...</td>\n",
       "      <td>...</td>\n",
       "      <td>...</td>\n",
       "      <td>...</td>\n",
       "    </tr>\n",
       "    <tr>\n",
       "      <th>109</th>\n",
       "      <td>109</td>\n",
       "      <td>2</td>\n",
       "      <td>2</td>\n",
       "      <td>1</td>\n",
       "      <td>36.6</td>\n",
       "      <td>17.8</td>\n",
       "      <td>185</td>\n",
       "      <td>1.0</td>\n",
       "      <td>8.737634</td>\n",
       "      <td>-25.723051</td>\n",
       "      <td>3700</td>\n",
       "    </tr>\n",
       "    <tr>\n",
       "      <th>110</th>\n",
       "      <td>110</td>\n",
       "      <td>2</td>\n",
       "      <td>1</td>\n",
       "      <td>1</td>\n",
       "      <td>39.2</td>\n",
       "      <td>18.6</td>\n",
       "      <td>190</td>\n",
       "      <td>0.0</td>\n",
       "      <td>9.110060</td>\n",
       "      <td>-25.795490</td>\n",
       "      <td>4250</td>\n",
       "    </tr>\n",
       "    <tr>\n",
       "      <th>111</th>\n",
       "      <td>111</td>\n",
       "      <td>2</td>\n",
       "      <td>1</td>\n",
       "      <td>1</td>\n",
       "      <td>43.2</td>\n",
       "      <td>18.5</td>\n",
       "      <td>192</td>\n",
       "      <td>0.0</td>\n",
       "      <td>8.970250</td>\n",
       "      <td>-26.036790</td>\n",
       "      <td>4100</td>\n",
       "    </tr>\n",
       "    <tr>\n",
       "      <th>112</th>\n",
       "      <td>112</td>\n",
       "      <td>1</td>\n",
       "      <td>1</td>\n",
       "      <td>0</td>\n",
       "      <td>46.9</td>\n",
       "      <td>16.6</td>\n",
       "      <td>192</td>\n",
       "      <td>1.0</td>\n",
       "      <td>9.805890</td>\n",
       "      <td>-24.737350</td>\n",
       "      <td>2700</td>\n",
       "    </tr>\n",
       "    <tr>\n",
       "      <th>113</th>\n",
       "      <td>113</td>\n",
       "      <td>0</td>\n",
       "      <td>0</td>\n",
       "      <td>1</td>\n",
       "      <td>50.8</td>\n",
       "      <td>17.3</td>\n",
       "      <td>228</td>\n",
       "      <td>0.0</td>\n",
       "      <td>8.274280</td>\n",
       "      <td>-26.300190</td>\n",
       "      <td>5600</td>\n",
       "    </tr>\n",
       "  </tbody>\n",
       "</table>\n",
       "<p>114 rows × 11 columns</p>\n",
       "</div>"
      ],
      "text/plain": [
       "      id  Species  Island  Clutch Completion  Culmen Length (mm)  \\\n",
       "0      0        0       0                  1                50.0   \n",
       "1      1        1       1                  0                49.5   \n",
       "2      2        0       0                  1                45.1   \n",
       "3      3        0       0                  1                44.5   \n",
       "4      4        0       0                  0                49.6   \n",
       "..   ...      ...     ...                ...                 ...   \n",
       "109  109        2       2                  1                36.6   \n",
       "110  110        2       1                  1                39.2   \n",
       "111  111        2       1                  1                43.2   \n",
       "112  112        1       1                  0                46.9   \n",
       "113  113        0       0                  1                50.8   \n",
       "\n",
       "     Culmen Depth (mm)  Flipper Length (mm)  Sex  Delta 15 N (o/oo)  \\\n",
       "0                 15.3                  220  0.0           8.305150   \n",
       "1                 19.0                  200  0.0           9.630740   \n",
       "2                 14.4                  210  1.0           8.519510   \n",
       "3                 14.7                  214  1.0           8.201060   \n",
       "4                 16.0                  225  0.0           8.383240   \n",
       "..                 ...                  ...  ...                ...   \n",
       "109               17.8                  185  1.0           8.737634   \n",
       "110               18.6                  190  0.0           9.110060   \n",
       "111               18.5                  192  0.0           8.970250   \n",
       "112               16.6                  192  1.0           9.805890   \n",
       "113               17.3                  228  0.0           8.274280   \n",
       "\n",
       "     Delta 13 C (o/oo)  Body Mass (g)  \n",
       "0           -25.190170           5550  \n",
       "1           -24.346840           3800  \n",
       "2           -27.018540           4400  \n",
       "3           -26.165240           4850  \n",
       "4           -26.842720           5700  \n",
       "..                 ...            ...  \n",
       "109         -25.723051           3700  \n",
       "110         -25.795490           4250  \n",
       "111         -26.036790           4100  \n",
       "112         -24.737350           2700  \n",
       "113         -26.300190           5600  \n",
       "\n",
       "[114 rows x 11 columns]"
      ]
     },
     "execution_count": 140,
     "metadata": {},
     "output_type": "execute_result"
    }
   ],
   "source": [
    "df_train"
   ]
  },
  {
   "cell_type": "markdown",
   "id": "92fd792c",
   "metadata": {},
   "source": [
    "## One-hot encoding on Species and Island"
   ]
  },
  {
   "cell_type": "markdown",
   "id": "5d667c4e",
   "metadata": {},
   "source": [
    "- 수치화시킨 데이터를 그대로 넣어도 되지만, 모델의 성능을 높이기 위해 one-hot encoding을 해줄 수 있습니다."
   ]
  },
  {
   "cell_type": "code",
   "execution_count": 141,
   "id": "7d6d5496",
   "metadata": {
    "ExecuteTime": {
     "end_time": "2022-01-04T10:36:45.051415Z",
     "start_time": "2022-01-04T10:36:45.036473Z"
    }
   },
   "outputs": [],
   "source": [
    "df_train = pd.get_dummies(df_train, columns=['Species'], prefix='Species')\n",
    "df_test = pd.get_dummies(df_test, columns=['Species'], prefix='Species')"
   ]
  },
  {
   "cell_type": "code",
   "execution_count": 142,
   "id": "00ac3712",
   "metadata": {
    "ExecuteTime": {
     "end_time": "2022-01-04T10:36:45.067092Z",
     "start_time": "2022-01-04T10:36:45.051917Z"
    }
   },
   "outputs": [],
   "source": [
    "df_train = pd.get_dummies(df_train, columns=['Island'], prefix='Island')\n",
    "df_test = pd.get_dummies(df_test, columns=['Island'], prefix='Island')"
   ]
  },
  {
   "cell_type": "code",
   "execution_count": 143,
   "id": "fa98b3ee",
   "metadata": {
    "ExecuteTime": {
     "end_time": "2022-01-04T10:36:45.082333Z",
     "start_time": "2022-01-04T10:36:45.068101Z"
    }
   },
   "outputs": [
    {
     "data": {
      "text/html": [
       "<div>\n",
       "<style scoped>\n",
       "    .dataframe tbody tr th:only-of-type {\n",
       "        vertical-align: middle;\n",
       "    }\n",
       "\n",
       "    .dataframe tbody tr th {\n",
       "        vertical-align: top;\n",
       "    }\n",
       "\n",
       "    .dataframe thead th {\n",
       "        text-align: right;\n",
       "    }\n",
       "</style>\n",
       "<table border=\"1\" class=\"dataframe\">\n",
       "  <thead>\n",
       "    <tr style=\"text-align: right;\">\n",
       "      <th></th>\n",
       "      <th>id</th>\n",
       "      <th>Clutch Completion</th>\n",
       "      <th>Culmen Length (mm)</th>\n",
       "      <th>Culmen Depth (mm)</th>\n",
       "      <th>Flipper Length (mm)</th>\n",
       "      <th>Sex</th>\n",
       "      <th>Delta 15 N (o/oo)</th>\n",
       "      <th>Delta 13 C (o/oo)</th>\n",
       "      <th>Body Mass (g)</th>\n",
       "      <th>Species_0</th>\n",
       "      <th>Species_1</th>\n",
       "      <th>Species_2</th>\n",
       "      <th>Island_0</th>\n",
       "      <th>Island_1</th>\n",
       "      <th>Island_2</th>\n",
       "    </tr>\n",
       "  </thead>\n",
       "  <tbody>\n",
       "    <tr>\n",
       "      <th>0</th>\n",
       "      <td>0</td>\n",
       "      <td>1</td>\n",
       "      <td>50.0</td>\n",
       "      <td>15.3</td>\n",
       "      <td>220</td>\n",
       "      <td>0.0</td>\n",
       "      <td>8.30515</td>\n",
       "      <td>-25.19017</td>\n",
       "      <td>5550</td>\n",
       "      <td>1</td>\n",
       "      <td>0</td>\n",
       "      <td>0</td>\n",
       "      <td>1</td>\n",
       "      <td>0</td>\n",
       "      <td>0</td>\n",
       "    </tr>\n",
       "    <tr>\n",
       "      <th>1</th>\n",
       "      <td>1</td>\n",
       "      <td>0</td>\n",
       "      <td>49.5</td>\n",
       "      <td>19.0</td>\n",
       "      <td>200</td>\n",
       "      <td>0.0</td>\n",
       "      <td>9.63074</td>\n",
       "      <td>-24.34684</td>\n",
       "      <td>3800</td>\n",
       "      <td>0</td>\n",
       "      <td>1</td>\n",
       "      <td>0</td>\n",
       "      <td>0</td>\n",
       "      <td>1</td>\n",
       "      <td>0</td>\n",
       "    </tr>\n",
       "    <tr>\n",
       "      <th>2</th>\n",
       "      <td>2</td>\n",
       "      <td>1</td>\n",
       "      <td>45.1</td>\n",
       "      <td>14.4</td>\n",
       "      <td>210</td>\n",
       "      <td>1.0</td>\n",
       "      <td>8.51951</td>\n",
       "      <td>-27.01854</td>\n",
       "      <td>4400</td>\n",
       "      <td>1</td>\n",
       "      <td>0</td>\n",
       "      <td>0</td>\n",
       "      <td>1</td>\n",
       "      <td>0</td>\n",
       "      <td>0</td>\n",
       "    </tr>\n",
       "    <tr>\n",
       "      <th>3</th>\n",
       "      <td>3</td>\n",
       "      <td>1</td>\n",
       "      <td>44.5</td>\n",
       "      <td>14.7</td>\n",
       "      <td>214</td>\n",
       "      <td>1.0</td>\n",
       "      <td>8.20106</td>\n",
       "      <td>-26.16524</td>\n",
       "      <td>4850</td>\n",
       "      <td>1</td>\n",
       "      <td>0</td>\n",
       "      <td>0</td>\n",
       "      <td>1</td>\n",
       "      <td>0</td>\n",
       "      <td>0</td>\n",
       "    </tr>\n",
       "    <tr>\n",
       "      <th>4</th>\n",
       "      <td>4</td>\n",
       "      <td>0</td>\n",
       "      <td>49.6</td>\n",
       "      <td>16.0</td>\n",
       "      <td>225</td>\n",
       "      <td>0.0</td>\n",
       "      <td>8.38324</td>\n",
       "      <td>-26.84272</td>\n",
       "      <td>5700</td>\n",
       "      <td>1</td>\n",
       "      <td>0</td>\n",
       "      <td>0</td>\n",
       "      <td>1</td>\n",
       "      <td>0</td>\n",
       "      <td>0</td>\n",
       "    </tr>\n",
       "  </tbody>\n",
       "</table>\n",
       "</div>"
      ],
      "text/plain": [
       "   id  Clutch Completion  Culmen Length (mm)  Culmen Depth (mm)  \\\n",
       "0   0                  1                50.0               15.3   \n",
       "1   1                  0                49.5               19.0   \n",
       "2   2                  1                45.1               14.4   \n",
       "3   3                  1                44.5               14.7   \n",
       "4   4                  0                49.6               16.0   \n",
       "\n",
       "   Flipper Length (mm)  Sex  Delta 15 N (o/oo)  Delta 13 C (o/oo)  \\\n",
       "0                  220  0.0            8.30515          -25.19017   \n",
       "1                  200  0.0            9.63074          -24.34684   \n",
       "2                  210  1.0            8.51951          -27.01854   \n",
       "3                  214  1.0            8.20106          -26.16524   \n",
       "4                  225  0.0            8.38324          -26.84272   \n",
       "\n",
       "   Body Mass (g)  Species_0  Species_1  Species_2  Island_0  Island_1  \\\n",
       "0           5550          1          0          0         1         0   \n",
       "1           3800          0          1          0         0         1   \n",
       "2           4400          1          0          0         1         0   \n",
       "3           4850          1          0          0         1         0   \n",
       "4           5700          1          0          0         1         0   \n",
       "\n",
       "   Island_2  \n",
       "0         0  \n",
       "1         0  \n",
       "2         0  \n",
       "3         0  \n",
       "4         0  "
      ]
     },
     "execution_count": 143,
     "metadata": {},
     "output_type": "execute_result"
    }
   ],
   "source": [
    "df_train.head()"
   ]
  },
  {
   "cell_type": "markdown",
   "id": "1e169dc8",
   "metadata": {},
   "source": [
    "## Drop columns"
   ]
  },
  {
   "cell_type": "markdown",
   "id": "2747ad5d",
   "metadata": {},
   "source": [
    "- 필요한 columns만 남기고 다 지웁시다."
   ]
  },
  {
   "cell_type": "code",
   "execution_count": 144,
   "id": "9088969b",
   "metadata": {
    "ExecuteTime": {
     "end_time": "2022-01-04T10:36:45.097461Z",
     "start_time": "2022-01-04T10:36:45.083363Z"
    }
   },
   "outputs": [],
   "source": [
    "df_train.drop(['id' ,'Clutch Completion'], axis=1, inplace=True)\n",
    "df_test.drop(['id' ,'Clutch Completion'], axis=1, inplace=True)"
   ]
  },
  {
   "cell_type": "code",
   "execution_count": 145,
   "id": "3e5145de",
   "metadata": {
    "ExecuteTime": {
     "end_time": "2022-01-04T10:36:45.112392Z",
     "start_time": "2022-01-04T10:36:45.099131Z"
    }
   },
   "outputs": [
    {
     "data": {
      "text/html": [
       "<div>\n",
       "<style scoped>\n",
       "    .dataframe tbody tr th:only-of-type {\n",
       "        vertical-align: middle;\n",
       "    }\n",
       "\n",
       "    .dataframe tbody tr th {\n",
       "        vertical-align: top;\n",
       "    }\n",
       "\n",
       "    .dataframe thead th {\n",
       "        text-align: right;\n",
       "    }\n",
       "</style>\n",
       "<table border=\"1\" class=\"dataframe\">\n",
       "  <thead>\n",
       "    <tr style=\"text-align: right;\">\n",
       "      <th></th>\n",
       "      <th>Culmen Length (mm)</th>\n",
       "      <th>Culmen Depth (mm)</th>\n",
       "      <th>Flipper Length (mm)</th>\n",
       "      <th>Sex</th>\n",
       "      <th>Delta 15 N (o/oo)</th>\n",
       "      <th>Delta 13 C (o/oo)</th>\n",
       "      <th>Body Mass (g)</th>\n",
       "      <th>Species_0</th>\n",
       "      <th>Species_1</th>\n",
       "      <th>Species_2</th>\n",
       "      <th>Island_0</th>\n",
       "      <th>Island_1</th>\n",
       "      <th>Island_2</th>\n",
       "    </tr>\n",
       "  </thead>\n",
       "  <tbody>\n",
       "    <tr>\n",
       "      <th>0</th>\n",
       "      <td>50.0</td>\n",
       "      <td>15.3</td>\n",
       "      <td>220</td>\n",
       "      <td>0.0</td>\n",
       "      <td>8.30515</td>\n",
       "      <td>-25.19017</td>\n",
       "      <td>5550</td>\n",
       "      <td>1</td>\n",
       "      <td>0</td>\n",
       "      <td>0</td>\n",
       "      <td>1</td>\n",
       "      <td>0</td>\n",
       "      <td>0</td>\n",
       "    </tr>\n",
       "    <tr>\n",
       "      <th>1</th>\n",
       "      <td>49.5</td>\n",
       "      <td>19.0</td>\n",
       "      <td>200</td>\n",
       "      <td>0.0</td>\n",
       "      <td>9.63074</td>\n",
       "      <td>-24.34684</td>\n",
       "      <td>3800</td>\n",
       "      <td>0</td>\n",
       "      <td>1</td>\n",
       "      <td>0</td>\n",
       "      <td>0</td>\n",
       "      <td>1</td>\n",
       "      <td>0</td>\n",
       "    </tr>\n",
       "    <tr>\n",
       "      <th>2</th>\n",
       "      <td>45.1</td>\n",
       "      <td>14.4</td>\n",
       "      <td>210</td>\n",
       "      <td>1.0</td>\n",
       "      <td>8.51951</td>\n",
       "      <td>-27.01854</td>\n",
       "      <td>4400</td>\n",
       "      <td>1</td>\n",
       "      <td>0</td>\n",
       "      <td>0</td>\n",
       "      <td>1</td>\n",
       "      <td>0</td>\n",
       "      <td>0</td>\n",
       "    </tr>\n",
       "    <tr>\n",
       "      <th>3</th>\n",
       "      <td>44.5</td>\n",
       "      <td>14.7</td>\n",
       "      <td>214</td>\n",
       "      <td>1.0</td>\n",
       "      <td>8.20106</td>\n",
       "      <td>-26.16524</td>\n",
       "      <td>4850</td>\n",
       "      <td>1</td>\n",
       "      <td>0</td>\n",
       "      <td>0</td>\n",
       "      <td>1</td>\n",
       "      <td>0</td>\n",
       "      <td>0</td>\n",
       "    </tr>\n",
       "    <tr>\n",
       "      <th>4</th>\n",
       "      <td>49.6</td>\n",
       "      <td>16.0</td>\n",
       "      <td>225</td>\n",
       "      <td>0.0</td>\n",
       "      <td>8.38324</td>\n",
       "      <td>-26.84272</td>\n",
       "      <td>5700</td>\n",
       "      <td>1</td>\n",
       "      <td>0</td>\n",
       "      <td>0</td>\n",
       "      <td>1</td>\n",
       "      <td>0</td>\n",
       "      <td>0</td>\n",
       "    </tr>\n",
       "  </tbody>\n",
       "</table>\n",
       "</div>"
      ],
      "text/plain": [
       "   Culmen Length (mm)  Culmen Depth (mm)  Flipper Length (mm)  Sex  \\\n",
       "0                50.0               15.3                  220  0.0   \n",
       "1                49.5               19.0                  200  0.0   \n",
       "2                45.1               14.4                  210  1.0   \n",
       "3                44.5               14.7                  214  1.0   \n",
       "4                49.6               16.0                  225  0.0   \n",
       "\n",
       "   Delta 15 N (o/oo)  Delta 13 C (o/oo)  Body Mass (g)  Species_0  Species_1  \\\n",
       "0            8.30515          -25.19017           5550          1          0   \n",
       "1            9.63074          -24.34684           3800          0          1   \n",
       "2            8.51951          -27.01854           4400          1          0   \n",
       "3            8.20106          -26.16524           4850          1          0   \n",
       "4            8.38324          -26.84272           5700          1          0   \n",
       "\n",
       "   Species_2  Island_0  Island_1  Island_2  \n",
       "0          0         1         0         0  \n",
       "1          0         0         1         0  \n",
       "2          0         1         0         0  \n",
       "3          0         1         0         0  \n",
       "4          0         1         0         0  "
      ]
     },
     "execution_count": 145,
     "metadata": {},
     "output_type": "execute_result"
    }
   ],
   "source": [
    "df_train.head()"
   ]
  },
  {
   "cell_type": "code",
   "execution_count": 146,
   "id": "57a1b3fa",
   "metadata": {
    "ExecuteTime": {
     "end_time": "2022-01-04T10:36:45.127619Z",
     "start_time": "2022-01-04T10:36:45.113407Z"
    }
   },
   "outputs": [
    {
     "data": {
      "text/html": [
       "<div>\n",
       "<style scoped>\n",
       "    .dataframe tbody tr th:only-of-type {\n",
       "        vertical-align: middle;\n",
       "    }\n",
       "\n",
       "    .dataframe tbody tr th {\n",
       "        vertical-align: top;\n",
       "    }\n",
       "\n",
       "    .dataframe thead th {\n",
       "        text-align: right;\n",
       "    }\n",
       "</style>\n",
       "<table border=\"1\" class=\"dataframe\">\n",
       "  <thead>\n",
       "    <tr style=\"text-align: right;\">\n",
       "      <th></th>\n",
       "      <th>Culmen Length (mm)</th>\n",
       "      <th>Culmen Depth (mm)</th>\n",
       "      <th>Flipper Length (mm)</th>\n",
       "      <th>Sex</th>\n",
       "      <th>Delta 15 N (o/oo)</th>\n",
       "      <th>Delta 13 C (o/oo)</th>\n",
       "      <th>Species_0</th>\n",
       "      <th>Species_1</th>\n",
       "      <th>Species_2</th>\n",
       "      <th>Island_0</th>\n",
       "      <th>Island_1</th>\n",
       "      <th>Island_2</th>\n",
       "    </tr>\n",
       "  </thead>\n",
       "  <tbody>\n",
       "    <tr>\n",
       "      <th>0</th>\n",
       "      <td>52.0</td>\n",
       "      <td>20.7</td>\n",
       "      <td>210.0</td>\n",
       "      <td>0.0</td>\n",
       "      <td>9.43146</td>\n",
       "      <td>-24.68440</td>\n",
       "      <td>0</td>\n",
       "      <td>1</td>\n",
       "      <td>0</td>\n",
       "      <td>0</td>\n",
       "      <td>1</td>\n",
       "      <td>0</td>\n",
       "    </tr>\n",
       "    <tr>\n",
       "      <th>1</th>\n",
       "      <td>55.9</td>\n",
       "      <td>17.0</td>\n",
       "      <td>228.0</td>\n",
       "      <td>0.0</td>\n",
       "      <td>8.31180</td>\n",
       "      <td>-26.35425</td>\n",
       "      <td>1</td>\n",
       "      <td>0</td>\n",
       "      <td>0</td>\n",
       "      <td>1</td>\n",
       "      <td>0</td>\n",
       "      <td>0</td>\n",
       "    </tr>\n",
       "    <tr>\n",
       "      <th>2</th>\n",
       "      <td>38.9</td>\n",
       "      <td>18.8</td>\n",
       "      <td>190.0</td>\n",
       "      <td>1.0</td>\n",
       "      <td>8.36936</td>\n",
       "      <td>-26.11199</td>\n",
       "      <td>0</td>\n",
       "      <td>0</td>\n",
       "      <td>1</td>\n",
       "      <td>0</td>\n",
       "      <td>1</td>\n",
       "      <td>0</td>\n",
       "    </tr>\n",
       "    <tr>\n",
       "      <th>3</th>\n",
       "      <td>45.2</td>\n",
       "      <td>16.6</td>\n",
       "      <td>191.0</td>\n",
       "      <td>1.0</td>\n",
       "      <td>9.62357</td>\n",
       "      <td>-24.78984</td>\n",
       "      <td>0</td>\n",
       "      <td>1</td>\n",
       "      <td>0</td>\n",
       "      <td>0</td>\n",
       "      <td>1</td>\n",
       "      <td>0</td>\n",
       "    </tr>\n",
       "    <tr>\n",
       "      <th>4</th>\n",
       "      <td>37.9</td>\n",
       "      <td>18.6</td>\n",
       "      <td>172.0</td>\n",
       "      <td>1.0</td>\n",
       "      <td>8.38404</td>\n",
       "      <td>-25.19837</td>\n",
       "      <td>0</td>\n",
       "      <td>0</td>\n",
       "      <td>1</td>\n",
       "      <td>1</td>\n",
       "      <td>0</td>\n",
       "      <td>0</td>\n",
       "    </tr>\n",
       "  </tbody>\n",
       "</table>\n",
       "</div>"
      ],
      "text/plain": [
       "   Culmen Length (mm)  Culmen Depth (mm)  Flipper Length (mm)  Sex  \\\n",
       "0                52.0               20.7                210.0  0.0   \n",
       "1                55.9               17.0                228.0  0.0   \n",
       "2                38.9               18.8                190.0  1.0   \n",
       "3                45.2               16.6                191.0  1.0   \n",
       "4                37.9               18.6                172.0  1.0   \n",
       "\n",
       "   Delta 15 N (o/oo)  Delta 13 C (o/oo)  Species_0  Species_1  Species_2  \\\n",
       "0            9.43146          -24.68440          0          1          0   \n",
       "1            8.31180          -26.35425          1          0          0   \n",
       "2            8.36936          -26.11199          0          0          1   \n",
       "3            9.62357          -24.78984          0          1          0   \n",
       "4            8.38404          -25.19837          0          0          1   \n",
       "\n",
       "   Island_0  Island_1  Island_2  \n",
       "0         0         1         0  \n",
       "1         1         0         0  \n",
       "2         0         1         0  \n",
       "3         0         1         0  \n",
       "4         1         0         0  "
      ]
     },
     "execution_count": 146,
     "metadata": {},
     "output_type": "execute_result"
    }
   ],
   "source": [
    "df_test.head()"
   ]
  },
  {
   "cell_type": "markdown",
   "id": "eacbda36",
   "metadata": {},
   "source": [
    "#  Building machine learning model and prediction using the trained model"
   ]
  },
  {
   "cell_type": "markdown",
   "id": "148307c4",
   "metadata": {},
   "source": [
    "## Preparation - Split dataset into train, valid, test set"
   ]
  },
  {
   "cell_type": "code",
   "execution_count": 147,
   "id": "390ad61e",
   "metadata": {
    "ExecuteTime": {
     "end_time": "2022-01-04T10:36:45.143189Z",
     "start_time": "2022-01-04T10:36:45.128122Z"
    }
   },
   "outputs": [],
   "source": [
    "X_train = df_train.drop('Body Mass (g)', axis=1).values\n",
    "target_label = df_train['Body Mass (g)'].values\n",
    "X_test = df_test.values"
   ]
  },
  {
   "cell_type": "markdown",
   "id": "0a5404ec",
   "metadata": {},
   "source": [
    "## Model generation and prediction"
   ]
  },
  {
   "cell_type": "code",
   "execution_count": 148,
   "id": "f75dfe58",
   "metadata": {
    "ExecuteTime": {
     "end_time": "2022-01-04T10:36:45.189328Z",
     "start_time": "2022-01-04T10:36:45.144201Z"
    }
   },
   "outputs": [
    {
     "name": "stdout",
     "output_type": "stream",
     "text": [
      "alpha 값  0 일때 평균 rmse : 331.1425\n",
      "alpha 값  0.1 일때 평균 rmse : 330.3049\n",
      "alpha 값  1 일때 평균 rmse : 327.6708\n",
      "alpha 값  10 일때 평균 rmse : 338.8514\n",
      "alpha 값  100 일때 평균 rmse : 370.7757\n"
     ]
    }
   ],
   "source": [
    "from sklearn.linear_model import Ridge\n",
    "from sklearn.model_selection import cross_val_score\n",
    "\n",
    "alphas = [0,0.1,1,10,100]\n",
    "\n",
    "for alpha in alphas:\n",
    "    ridge = Ridge(alpha=alpha)\n",
    "    \n",
    "    neg_mse_scores = cross_val_score(ridge, X_train, target_label, scoring = 'neg_mean_squared_error', cv = 5)\n",
    "    avg_rmse = np.mean(np.sqrt(-neg_mse_scores))\n",
    "    print('alpha 값 ', alpha, '일때 평균 rmse :', np.round(avg_rmse,4))"
   ]
  },
  {
   "cell_type": "code",
   "execution_count": 149,
   "id": "6b66402b",
   "metadata": {
    "ExecuteTime": {
     "end_time": "2022-01-04T10:36:45.204722Z",
     "start_time": "2022-01-04T10:36:45.190328Z"
    }
   },
   "outputs": [],
   "source": [
    "ridge = Ridge(alpha = 1)\n",
    "ridge.fit(X_train, target_label)\n",
    "sample_submission['Body Mass (g)'] = ridge.predict(X_test)\n",
    "\n",
    "sample_submission.to_csv('Penguin_final_2.csv',index=False)"
   ]
  },
  {
   "cell_type": "markdown",
   "id": "88a3e73e",
   "metadata": {},
   "source": [
    "- 앞서 교차검증에서 나온 최적 알파 값이 1이기 때문에 이를 대입해서 모델을 만듭니다."
   ]
  },
  {
   "cell_type": "markdown",
   "id": "9ec4996b",
   "metadata": {},
   "source": [
    "- 이 모델의 MSE 값은 292.5517가 나왔습니다."
   ]
  },
  {
   "cell_type": "markdown",
   "id": "a3114f3a",
   "metadata": {},
   "source": [
    "## Feature importance"
   ]
  },
  {
   "cell_type": "code",
   "execution_count": 152,
   "id": "e86b6ab9",
   "metadata": {
    "ExecuteTime": {
     "end_time": "2022-01-04T10:37:04.019725Z",
     "start_time": "2022-01-04T10:37:04.005686Z"
    }
   },
   "outputs": [],
   "source": [
    "from pandas import Series\n",
    "\n",
    "feature_importance = model.feature_importances_\n",
    "Series_feat_imp = Series(feature_importance, index=df_test.columns)"
   ]
  },
  {
   "cell_type": "code",
   "execution_count": 153,
   "id": "e658bcf0",
   "metadata": {
    "ExecuteTime": {
     "end_time": "2022-01-04T10:37:21.389062Z",
     "start_time": "2022-01-04T10:37:21.233253Z"
    }
   },
   "outputs": [
    {
     "data": {
      "image/png": "[encoded data removed]",
      "text/plain": [
       "<Figure size 576x576 with 1 Axes>"
      ]
     },
     "metadata": {
      "needs_background": "light"
     },
     "output_type": "display_data"
    }
   ],
   "source": [
    "plt.figure(figsize=(8, 8))\n",
    "Series_feat_imp.sort_values(ascending=True).plot.barh()\n",
    "plt.xlabel('Feature importance')\n",
    "plt.ylabel('Feature')\n",
    "plt.show()"
   ]
  },
  {
   "cell_type": "markdown",
   "id": "cc051fd3",
   "metadata": {},
   "source": [
    "- 우리가 얻은 모델에서는 Delta 15 N (o/oo) 가 가장 큰 영향력을 가집니다."
   ]
  },
  {
   "cell_type": "markdown",
   "id": "d1231d40",
   "metadata": {},
   "source": [
    "- 사실 feature importance 는 지금 모델에서의 importance 를 나타냅니다. 만약 다른 모델을 사용하게 된다면 feature importance 가 다르게 나올 수 있습니다."
   ]
  },
  {
   "cell_type": "markdown",
   "id": "0edf40eb",
   "metadata": {},
   "source": [
    "- 이 feature importance 를 보고 실제로 Fare 가 중요한 feature 일 수 있다고 판단을 내릴 수는 있지만, 이것은 결국 모델에 귀속되는 하나의 결론이므로 통계적으로 좀 더 살펴보긴 해야합니다."
   ]
  },
  {
   "cell_type": "code",
   "execution_count": null,
   "id": "ed3f3475",
   "metadata": {},
   "outputs": [],
   "source": []
  }
 ],
 "metadata": {
  "kernelspec": {
   "display_name": "Python 3",
   "language": "python",
   "name": "python3"
  },
  "language_info": {
   "codemirror_mode": {
    "name": "ipython",
    "version": 3
   },
   "file_extension": ".py",
   "mimetype": "text/x-python",
   "name": "python",
   "nbconvert_exporter": "python",
   "pygments_lexer": "ipython3",
   "version": "3.8.8"
  },
  "toc": {
   "base_numbering": 1,
   "nav_menu": {},
   "number_sections": true,
   "sideBar": true,
   "skip_h1_title": false,
   "title_cell": "Table of Contents",
   "title_sidebar": "Contents",
   "toc_cell": false,
   "toc_position": {
    "height": "calc(100% - 180px)",
    "left": "10px",
    "top": "150px",
    "width": "180px"
   },
   "toc_section_display": true,
   "toc_window_display": true
  }
 },
 "nbformat": 4,
 "nbformat_minor": 5
}
